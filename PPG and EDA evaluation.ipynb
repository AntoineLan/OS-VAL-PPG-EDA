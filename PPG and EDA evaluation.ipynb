{
 "cells": [
  {
   "cell_type": "code",
   "execution_count": 73,
   "source": [
    "import warnings\n",
    "warnings.filterwarnings('ignore')\n",
    "\n",
    "import os\n",
    "import numpy as np\n",
    "import pandas as pd\n",
    "\n",
    "from tool import *\n",
    "from scipy.signal import resample\n",
    "from scipy import signal\n",
    "from scipy.signal import butter, lfilter, freqz, freqs\n",
    "from scipy.ndimage import label\n",
    "\n",
    "import heartpy as hp\n",
    "\n",
    "import matplotlib.pyplot as plt\n",
    "from matplotlib.ticker import PercentFormatter\n",
    "\n",
    "saved_path = \"./Result\"\n",
    "\n",
    "# Create folders\n",
    "if not os.path.exists(\"Result/CVA_analysis/Bland_Altman\"): os.makedirs(\"Result/CVA_analysis/Bland_Altman\")\n",
    "if not os.path.exists(\"Result/CVA_analysis/Dataframe\"): os.makedirs(\"Result/CVA_analysis/Dataframe\")\n",
    "if not os.path.exists(\"Result/CVA_analysis/Extraction_all\"): os.makedirs(\"Result/CVA_analysis/Extraction_all\")\n",
    "if not os.path.exists(\"Result/CVA_analysis/Figures\"): os.makedirs(\"Result/CVA_analysis/Figures\")\n",
    "if not os.path.exists(\"Result/CVA_analysis/Results_all\"): os.makedirs(\"Result/CVA_analysis/Results_all\")\n",
    "if not os.path.exists(\"Result/EDA_mat\"): os.makedirs(\"Result/EDA_mat\")\n",
    "if not os.path.exists(\"Result/EDA_mat_analysis\"): os.makedirs(\"Result/EDA_mat_analysis\")\n",
    "\n",
    "%matplotlib widget\n",
    "%load_ext autoreload\n",
    "%autoreload 2"
   ],
   "outputs": [
    {
     "output_type": "stream",
     "name": "stdout",
     "text": [
      "The autoreload extension is already loaded. To reload it, use:\n",
      "  %reload_ext autoreload\n"
     ]
    }
   ],
   "metadata": {}
  },
  {
   "cell_type": "code",
   "execution_count": 2,
   "source": [
    "# Create list with the path of each participant to analyze\n",
    "paths = []\n",
    "\n",
    "for p in range(7, 31):\n",
    "    for e in range(1, 3):\n",
    "        fc_path = \"./Data/Participant 200\"+np.str(p)+\"/Flex comp/\"+np.str(e)+\".txt\"\n",
    "        em_path = \"./Data/Participant 200\"+np.str(p)+\"/EmotiBit/Parsed/_00\"+np.str(e)\n",
    "        name = \"P\"+np.str(p)+\"-\"+np.str(e)\n",
    "        \n",
    "        paths.append([em_path, fc_path, name])"
   ],
   "outputs": [],
   "metadata": {}
  },
  {
   "cell_type": "code",
   "execution_count": 39,
   "source": [
    "###############################################################################\n",
    "# Extract PPG, EDA from Emotibit and ECG, EDA from Flexcomp data\n",
    "###############################################################################\n",
    "for path in paths:\n",
    "    \n",
    "    s = path[2]\n",
    "    \n",
    "    sig = [\"PI\", \"PG\", \"PR\", \"GX\", \"GY\", \"GZ\", \"AX\", \"AY\", \"AZ\", \"EA\", \"ER\", \"EL\", \"B%\"]\n",
    "\n",
    "    if int(path[2][1:-2]) <= 12:\n",
    "        if int(path[2][1:-2]) == 12:\n",
    "            sig = [\"PI\", \"PG\", \"PR\", \"GX\", \"GY\", \"GZ\", \"AX\", \"AY\", \"AZ\", \"EA\", \"ER\", \"EL\"]\n",
    "        else:\n",
    "            sig = [\"PI\", \"PG\", \"PR\", \"GX\", \"GY\", \"GZ\", \"AX\", \"AY\", \"AZ\", \"EA\", \"ER\", \"EL\", \"B%\"]\n",
    "            \n",
    "        em_df = load_merge_signals_7_12(path[0], sig, ppg_filter=True, G_filter=True)\n",
    "        fc_df = load_flexcomp(path[1])\n",
    "        em_pos, fc_pos, em_df, fc_df, error = sync_pos_without_button(em_df, fc_df)\n",
    "    elif int(path[2][1:-2]) <= 18:\n",
    "        sig = [\"PI\", \"PG\", \"PR\", \"GX\", \"GY\", \"GZ\", \"AX\", \"AY\", \"AZ\", \"EA\", \"ER\", \"EL\"]\n",
    "        em_df = load_merge_signals(path[0], sig, ppg_filter=True, G_filter=True)\n",
    "        fc_df = load_flexcomp(path[1])\n",
    "        em_pos, fc_pos, em_df, fc_df, error = sync_pos_without_button(em_df, fc_df)\n",
    "    else:\n",
    "        em_df = load_merge_signals(path[0], sig, ppg_filter=True, G_filter=True)\n",
    "        fc_df = load_flexcomp(path[1])\n",
    "        em_pos, fc_pos, em_df, fc_df, error = sync_pos(em_df, fc_df)\n",
    "\n",
    "    sig = fc_df[\"EKG-Pro/Flex - 1A\"].values\n",
    "    norm_sig = (sig - sig.mean()) / sig.std()\n",
    "\n",
    "    fc_df[\"NORM_ECG\"] = norm_sig\n",
    "\n",
    "    ###############################################################################\n",
    "    # Merge all PPG signals\n",
    "    ###############################################################################\n",
    "    \n",
    "    #%%%%%%%%%%%%%%%%%%%%%%%%%%%%%%%%%%%%%%%%%%%%%%%%%%%%%%%%%%%%%%%%%%%%%%%%%%%%%%%%%%\n",
    "    sig = (em_df[\"PR\"].values+em_df[\"PI\"].values+em_df[\"PG\"].values)/3\n",
    "    #%%%%%%%%%%%%%%%%%%%%%%%%%%%%%%%%%%%%%%%%%%%%%%%%%%%%%%%%%%%%%%%%%%%%%%%%%%%%%%%%%%\n",
    "\n",
    "    # Normalize signal with mean 0 and unit variance\n",
    "    norm_sig = (sig - sig.mean()) / sig.std()\n",
    "\n",
    "    em_df[\"NORM_PPG\"] = norm_sig\n",
    "\n",
    "    final_df = fc_df[[\"Time\"]].copy()\n",
    "    final_df[\"ECG_FC\"] = fc_df[[\"EKG-Pro/Flex - 1A\"]]\n",
    "    final_df[\"EDA_FC\"] = fc_df[[\"SC-Pro/Flex - 1E\"]]\n",
    "    final_df[\"NORM_ECG\"] = fc_df[[\"NORM_ECG\"]]\n",
    "    try:\n",
    "        final_df = pd.merge_asof(final_df, em_df, on=\"Time\", direction=\"nearest\", tolerance=0.0015)\n",
    "    except:\n",
    "        print(s, \":Fail in Merge!\")\n",
    "        continue\n",
    "        \n",
    "    ###############################################################################\n",
    "    # Add EDA signal\n",
    "    ###############################################################################\n",
    "    \n",
    "    ind, value = adjust_EDA(final_df[[\"EA\", \"ER\", \"EL\"]][final_df[\"EA\"].notna()], EL_only=False)\n",
    "    final_df.at[ind, \"EA\"] = value\n",
    "        \n",
    "    df_eda = stress_detector(final_df, resample=\"100L\", normalization=\"no_norm\", corr_sig=\"smooth\")\n",
    "    final_df = merge_nearest(final_df, df_eda, \"Time\", df_eda.columns[1:])\n",
    "\n",
    "    df = final_df\n",
    "    \n",
    "    final_df.to_pickle(saved_path + \"/CVA_analysis/Dataframe/{}.pkl\".format(s))\n",
    "\n",
    "    ###############################################################################\n",
    "    # ECG\n",
    "    ###############################################################################\n",
    "    ecg = df[[\"Time\",\"NORM_ECG\"]][df[\"NORM_ECG\"].notna()].copy()\n",
    "    ecg[\"Time_ts\"] = pd.to_datetime(ecg['Time'], unit='s')\n",
    "    ecg = ecg.resample(\"10L\", on=\"Time_ts\").mean()\n",
    "    ecg = ecg.interpolate(limit_direction='forward', axis=0)\n",
    "    \n",
    "    fs = 100\n",
    "\n",
    "    filtered = hp.filter_signal(ecg[\"NORM_ECG\"].values, cutoff = 0.05, sample_rate = fs, filtertype='notch')\n",
    "\n",
    "    filtered = resample(filtered, len(filtered) * 2)\n",
    "\n",
    "    wd_fc, m_fc = hp.process(hp.scale_data(filtered), fs*2, windowsize=0.75)\n",
    "\n",
    "    np.save(saved_path + \"/CVA_analysis/Extraction_all/{}_FC\".format(s), [wd_fc, m_fc])\n",
    "\n",
    "    HR_FC = get_HR_series(wd_fc, fs=200)\n",
    "\n",
    "    plt.figure(1)\n",
    "    plot = hp.plotter(wd_fc, m_fc, show=False)\n",
    "    plt.savefig(saved_path + \"/CVA_analysis/Figures/{}_ECG.png\".format(s))\n",
    "    plt.close(1)\n",
    "\n",
    "    ###############################################################################\n",
    "    # PPG\n",
    "    ###############################################################################\n",
    "    ppg = df[[\"Time\",\"NORM_PPG\"]][df[\"NORM_PPG\"].notna()].copy()\n",
    "    ppg[\"Time_ts\"] = pd.to_datetime(ppg['Time'], unit='s')\n",
    "    ppg = ppg.resample(\"10L\", on=\"Time_ts\").mean()\n",
    "    ppg = ppg.interpolate(alimit_direction='forward', axis=0)\n",
    "\n",
    "    if int(path[2][1:-2]) <= 18:\n",
    "        filtered = hp.filter_signal(ppg[\"NORM_PPG\"].values[2500:-2000], cutoff = [0.7, 3.5], sample_rate = fs, order=3, filtertype='bandpass')\n",
    "    else:\n",
    "        filtered = hp.filter_signal(ppg[\"NORM_PPG\"].values[400:-400], cutoff = [0.7, 3.5], sample_rate = fs, order=3, filtertype='bandpass')\n",
    "\n",
    "    if int(path[2][1:-2]) == 24:\n",
    "        filtered[filtered>0.8] = 0.8\n",
    "        filtered[filtered<-0.8] = -0.8\n",
    "        \n",
    "    filtered = resample(filtered, len(filtered) * 2)\n",
    "        \n",
    "    wd_em, m_em = hp.process(filtered, fs*2, windowsize=1)\n",
    "\n",
    "    np.save(saved_path + \"/CVA_analysis/Extraction_all/{}_EM\".format(s), [wd_em, m_em])\n",
    "\n",
    "    \n",
    "    plt.figure(1)\n",
    "    hp.plotter(wd_em, m_em, show=False)\n",
    "    plt.savefig(saved_path + \"/CVA_analysis/Figures/{}_PPG.png\".format(s))\n",
    "    plt.close(1)\n",
    "\n",
    "    HR_EM = get_HR_series(wd_em, fs=200)\n",
    "\n",
    "    np.save(saved_path + \"/CVA_analysis/Extraction_all/{}_EM_FC_HR\".format(s), [HR_EM, HR_FC])\n",
    "\n",
    "    p1 = plt.figure(1)\n",
    "    plt.plot(np.arange(0, HR_FC[2:].shape[0]*2, 2), HR_FC[2:])\n",
    "    plt.plot(np.arange(0, HR_EM[:].shape[0]*2, 2), HR_EM[:], color=\"orange\", linestyle='dashed')\n",
    "    plt.ylim([0,180])\n",
    "    plt.xlabel(\"Time (s)\")\n",
    "    plt.ylabel(\"HR (bpm)\")\n",
    "    plt.title(\"HR example for a 10-minute session\")\n",
    "    plt.legend([\"Reference device (ECG)\", \"Emotibit device (PPG)\"])\n",
    "\n",
    "    plt.savefig(saved_path + \"/CVA_analysis/Figures/{}_HR.svg\".format(s))\n",
    "    plt.close('all')\n",
    "    \n",
    "    print(s, m_fc[\"bpm\"], m_em[\"bpm\"], m_fc[\"bpm\"]-m_em[\"bpm\"])"
   ],
   "outputs": [
    {
     "output_type": "stream",
     "name": "stdout",
     "text": [
      "PI\n",
      "PG\n",
      "PR\n",
      "GX\n",
      "GY\n",
      "GZ\n",
      "AX\n",
      "AY\n",
      "AZ\n",
      "EA\n",
      "ER\n",
      "EL\n",
      "B%\n"
     ]
    },
    {
     "output_type": "display_data",
     "data": {
      "text/plain": [
       "Canvas(toolbar=Toolbar(toolitems=[('Home', 'Reset original view', 'home', 'home'), ('Back', 'Back to previous …"
      ],
      "application/vnd.jupyter.widget-view+json": {
       "model_id": "e400584fb37e4e3b9c06efe032a494cf",
       "version_major": 2,
       "version_minor": 0
      }
     },
     "metadata": {}
    },
    {
     "output_type": "display_data",
     "data": {
      "text/plain": [
       "Canvas(toolbar=Toolbar(toolitems=[('Home', 'Reset original view', 'home', 'home'), ('Back', 'Back to previous …"
      ],
      "application/vnd.jupyter.widget-view+json": {
       "model_id": "b27cd2ee71ef4efbb8dd8b2a9e4e6ea4",
       "version_major": 2,
       "version_minor": 0
      }
     },
     "metadata": {}
    },
    {
     "output_type": "display_data",
     "data": {
      "text/plain": [
       "Canvas(toolbar=Toolbar(toolitems=[('Home', 'Reset original view', 'home', 'home'), ('Back', 'Back to previous …"
      ],
      "application/vnd.jupyter.widget-view+json": {
       "model_id": "efa9a579985d44629d1aac0ba73dff6c",
       "version_major": 2,
       "version_minor": 0
      }
     },
     "metadata": {}
    },
    {
     "output_type": "display_data",
     "data": {
      "text/plain": [
       "Canvas(toolbar=Toolbar(toolitems=[('Home', 'Reset original view', 'home', 'home'), ('Back', 'Back to previous …"
      ],
      "application/vnd.jupyter.widget-view+json": {
       "model_id": "cf0dbff022444316a1d325f189352171",
       "version_major": 2,
       "version_minor": 0
      }
     },
     "metadata": {}
    },
    {
     "output_type": "display_data",
     "data": {
      "text/plain": [
       "Canvas(toolbar=Toolbar(toolitems=[('Home', 'Reset original view', 'home', 'home'), ('Back', 'Back to previous …"
      ],
      "application/vnd.jupyter.widget-view+json": {
       "model_id": "9f51dfc4f2fa4f7d9d0dc758dd3b3229",
       "version_major": 2,
       "version_minor": 0
      }
     },
     "metadata": {}
    },
    {
     "output_type": "stream",
     "name": "stdout",
     "text": [
      "P7-1 44.08536870125624 44.03374849337083 0.05162020788541355\n",
      "PI\n",
      "PG\n",
      "PR\n",
      "GX\n",
      "GY\n",
      "GZ\n",
      "AX\n",
      "AY\n",
      "AZ\n",
      "EA\n",
      "ER\n",
      "EL\n",
      "B%\n"
     ]
    },
    {
     "output_type": "display_data",
     "data": {
      "text/plain": [
       "Canvas(toolbar=Toolbar(toolitems=[('Home', 'Reset original view', 'home', 'home'), ('Back', 'Back to previous …"
      ],
      "application/vnd.jupyter.widget-view+json": {
       "model_id": "65249dd447c646bdafdc78e44042f1de",
       "version_major": 2,
       "version_minor": 0
      }
     },
     "metadata": {}
    },
    {
     "output_type": "display_data",
     "data": {
      "text/plain": [
       "Canvas(toolbar=Toolbar(toolitems=[('Home', 'Reset original view', 'home', 'home'), ('Back', 'Back to previous …"
      ],
      "application/vnd.jupyter.widget-view+json": {
       "model_id": "d688bab5ddc14f3ba3cd78745e832b66",
       "version_major": 2,
       "version_minor": 0
      }
     },
     "metadata": {}
    },
    {
     "output_type": "display_data",
     "data": {
      "text/plain": [
       "Canvas(toolbar=Toolbar(toolitems=[('Home', 'Reset original view', 'home', 'home'), ('Back', 'Back to previous …"
      ],
      "application/vnd.jupyter.widget-view+json": {
       "model_id": "c9f19bcf7c3f4a6ea80c29ffee4c22d4",
       "version_major": 2,
       "version_minor": 0
      }
     },
     "metadata": {}
    },
    {
     "output_type": "display_data",
     "data": {
      "text/plain": [
       "Canvas(toolbar=Toolbar(toolitems=[('Home', 'Reset original view', 'home', 'home'), ('Back', 'Back to previous …"
      ],
      "application/vnd.jupyter.widget-view+json": {
       "model_id": "67fc5bb2c96946dba4daf7cf505fb901",
       "version_major": 2,
       "version_minor": 0
      }
     },
     "metadata": {}
    },
    {
     "output_type": "display_data",
     "data": {
      "text/plain": [
       "Canvas(toolbar=Toolbar(toolitems=[('Home', 'Reset original view', 'home', 'home'), ('Back', 'Back to previous …"
      ],
      "application/vnd.jupyter.widget-view+json": {
       "model_id": "e9bfc8159fcb4b3e8f67fe32520e8052",
       "version_major": 2,
       "version_minor": 0
      }
     },
     "metadata": {}
    },
    {
     "output_type": "stream",
     "name": "stdout",
     "text": [
      "P7-2 43.55275865291753 43.50994066826272 0.04281798465481046\n",
      "PI\n",
      "PG\n",
      "PR\n",
      "GX\n",
      "GY\n",
      "GZ\n",
      "AX\n",
      "AY\n",
      "AZ\n",
      "EA\n",
      "ER\n",
      "EL\n",
      "B%\n"
     ]
    },
    {
     "output_type": "display_data",
     "data": {
      "text/plain": [
       "Canvas(toolbar=Toolbar(toolitems=[('Home', 'Reset original view', 'home', 'home'), ('Back', 'Back to previous …"
      ],
      "application/vnd.jupyter.widget-view+json": {
       "model_id": "246c8d6fe61b4e72ad699160cc81744b",
       "version_major": 2,
       "version_minor": 0
      }
     },
     "metadata": {}
    },
    {
     "output_type": "display_data",
     "data": {
      "text/plain": [
       "Canvas(toolbar=Toolbar(toolitems=[('Home', 'Reset original view', 'home', 'home'), ('Back', 'Back to previous …"
      ],
      "application/vnd.jupyter.widget-view+json": {
       "model_id": "7d1cd3aed98d4a3c8868e201c3348e04",
       "version_major": 2,
       "version_minor": 0
      }
     },
     "metadata": {}
    },
    {
     "output_type": "display_data",
     "data": {
      "text/plain": [
       "Canvas(toolbar=Toolbar(toolitems=[('Home', 'Reset original view', 'home', 'home'), ('Back', 'Back to previous …"
      ],
      "application/vnd.jupyter.widget-view+json": {
       "model_id": "2c9e693962e74581870e99692b4e188a",
       "version_major": 2,
       "version_minor": 0
      }
     },
     "metadata": {}
    },
    {
     "output_type": "display_data",
     "data": {
      "text/plain": [
       "Canvas(toolbar=Toolbar(toolitems=[('Home', 'Reset original view', 'home', 'home'), ('Back', 'Back to previous …"
      ],
      "application/vnd.jupyter.widget-view+json": {
       "model_id": "74551094c9de402780c4e531479d55f6",
       "version_major": 2,
       "version_minor": 0
      }
     },
     "metadata": {}
    },
    {
     "output_type": "display_data",
     "data": {
      "text/plain": [
       "Canvas(toolbar=Toolbar(toolitems=[('Home', 'Reset original view', 'home', 'home'), ('Back', 'Back to previous …"
      ],
      "application/vnd.jupyter.widget-view+json": {
       "model_id": "a0281a494d324fc0b6fd30b50d81c973",
       "version_major": 2,
       "version_minor": 0
      }
     },
     "metadata": {}
    },
    {
     "output_type": "stream",
     "name": "stdout",
     "text": [
      "P8-1 61.42125002454493 62.3062015503876 -0.8849515258426663\n",
      "PI\n",
      "PG\n",
      "PR\n",
      "GX\n",
      "GY\n",
      "GZ\n",
      "AX\n",
      "AY\n",
      "AZ\n",
      "EA\n",
      "ER\n",
      "EL\n",
      "B%\n"
     ]
    },
    {
     "output_type": "display_data",
     "data": {
      "text/plain": [
       "Canvas(toolbar=Toolbar(toolitems=[('Home', 'Reset original view', 'home', 'home'), ('Back', 'Back to previous …"
      ],
      "application/vnd.jupyter.widget-view+json": {
       "model_id": "00ae64c15fd44a9f9f6a1522b9a14433",
       "version_major": 2,
       "version_minor": 0
      }
     },
     "metadata": {}
    },
    {
     "output_type": "display_data",
     "data": {
      "text/plain": [
       "Canvas(toolbar=Toolbar(toolitems=[('Home', 'Reset original view', 'home', 'home'), ('Back', 'Back to previous …"
      ],
      "application/vnd.jupyter.widget-view+json": {
       "model_id": "d5d567c6f3c945d091ddd01f594a8db7",
       "version_major": 2,
       "version_minor": 0
      }
     },
     "metadata": {}
    },
    {
     "output_type": "display_data",
     "data": {
      "text/plain": [
       "Canvas(toolbar=Toolbar(toolitems=[('Home', 'Reset original view', 'home', 'home'), ('Back', 'Back to previous …"
      ],
      "application/vnd.jupyter.widget-view+json": {
       "model_id": "4f037458d1b3458297b0dccb7cc560d1",
       "version_major": 2,
       "version_minor": 0
      }
     },
     "metadata": {}
    },
    {
     "output_type": "display_data",
     "data": {
      "text/plain": [
       "Canvas(toolbar=Toolbar(toolitems=[('Home', 'Reset original view', 'home', 'home'), ('Back', 'Back to previous …"
      ],
      "application/vnd.jupyter.widget-view+json": {
       "model_id": "740df3a821bf4260aa2633f4ca02b902",
       "version_major": 2,
       "version_minor": 0
      }
     },
     "metadata": {}
    },
    {
     "output_type": "display_data",
     "data": {
      "text/plain": [
       "Canvas(toolbar=Toolbar(toolitems=[('Home', 'Reset original view', 'home', 'home'), ('Back', 'Back to previous …"
      ],
      "application/vnd.jupyter.widget-view+json": {
       "model_id": "fcd5bc7284fd40d0a27f7311010abf46",
       "version_major": 2,
       "version_minor": 0
      }
     },
     "metadata": {}
    },
    {
     "output_type": "stream",
     "name": "stdout",
     "text": [
      "P8-2 60.18002127052476 67.62862556478647 -7.448604294261713\n",
      "PI\n",
      "PG\n",
      "PR\n",
      "GX\n",
      "GY\n",
      "GZ\n",
      "AX\n",
      "AY\n",
      "AZ\n",
      "EA\n",
      "ER\n",
      "EL\n",
      "B%\n"
     ]
    },
    {
     "output_type": "display_data",
     "data": {
      "text/plain": [
       "Canvas(toolbar=Toolbar(toolitems=[('Home', 'Reset original view', 'home', 'home'), ('Back', 'Back to previous …"
      ],
      "application/vnd.jupyter.widget-view+json": {
       "model_id": "fd7a2a1e2bca4d4787a99d7d369452be",
       "version_major": 2,
       "version_minor": 0
      }
     },
     "metadata": {}
    },
    {
     "output_type": "display_data",
     "data": {
      "text/plain": [
       "Canvas(toolbar=Toolbar(toolitems=[('Home', 'Reset original view', 'home', 'home'), ('Back', 'Back to previous …"
      ],
      "application/vnd.jupyter.widget-view+json": {
       "model_id": "a7a7c3bef3844220bb226931ddecce0d",
       "version_major": 2,
       "version_minor": 0
      }
     },
     "metadata": {}
    },
    {
     "output_type": "display_data",
     "data": {
      "text/plain": [
       "Canvas(toolbar=Toolbar(toolitems=[('Home', 'Reset original view', 'home', 'home'), ('Back', 'Back to previous …"
      ],
      "application/vnd.jupyter.widget-view+json": {
       "model_id": "fb41cc700eca41488725ede34b2f26a4",
       "version_major": 2,
       "version_minor": 0
      }
     },
     "metadata": {}
    },
    {
     "output_type": "display_data",
     "data": {
      "text/plain": [
       "Canvas(toolbar=Toolbar(toolitems=[('Home', 'Reset original view', 'home', 'home'), ('Back', 'Back to previous …"
      ],
      "application/vnd.jupyter.widget-view+json": {
       "model_id": "5d7b9e493efc47f8a2a8316d7afb55bc",
       "version_major": 2,
       "version_minor": 0
      }
     },
     "metadata": {}
    },
    {
     "output_type": "display_data",
     "data": {
      "text/plain": [
       "Canvas(toolbar=Toolbar(toolitems=[('Home', 'Reset original view', 'home', 'home'), ('Back', 'Back to previous …"
      ],
      "application/vnd.jupyter.widget-view+json": {
       "model_id": "1f177177003f4f68ad2679b0a90dd1f3",
       "version_major": 2,
       "version_minor": 0
      }
     },
     "metadata": {}
    },
    {
     "output_type": "stream",
     "name": "stdout",
     "text": [
      "P9-1 75.82507100344192 74.81002385460984 1.0150471488320818\n",
      "PI\n",
      "PG\n",
      "PR\n",
      "GX\n",
      "GY\n",
      "GZ\n",
      "AX\n",
      "AY\n",
      "AZ\n",
      "EA\n",
      "ER\n",
      "EL\n",
      "B%\n"
     ]
    },
    {
     "output_type": "display_data",
     "data": {
      "text/plain": [
       "Canvas(toolbar=Toolbar(toolitems=[('Home', 'Reset original view', 'home', 'home'), ('Back', 'Back to previous …"
      ],
      "application/vnd.jupyter.widget-view+json": {
       "model_id": "4dc2892bfa124f50bf663269a0859d54",
       "version_major": 2,
       "version_minor": 0
      }
     },
     "metadata": {}
    },
    {
     "output_type": "display_data",
     "data": {
      "text/plain": [
       "Canvas(toolbar=Toolbar(toolitems=[('Home', 'Reset original view', 'home', 'home'), ('Back', 'Back to previous …"
      ],
      "application/vnd.jupyter.widget-view+json": {
       "model_id": "36b5d6fe11e44bff98a3461b556a7268",
       "version_major": 2,
       "version_minor": 0
      }
     },
     "metadata": {}
    },
    {
     "output_type": "display_data",
     "data": {
      "text/plain": [
       "Canvas(toolbar=Toolbar(toolitems=[('Home', 'Reset original view', 'home', 'home'), ('Back', 'Back to previous …"
      ],
      "application/vnd.jupyter.widget-view+json": {
       "model_id": "43d3669cafeb466aa4bf6e97a085bd77",
       "version_major": 2,
       "version_minor": 0
      }
     },
     "metadata": {}
    },
    {
     "output_type": "display_data",
     "data": {
      "text/plain": [
       "Canvas(toolbar=Toolbar(toolitems=[('Home', 'Reset original view', 'home', 'home'), ('Back', 'Back to previous …"
      ],
      "application/vnd.jupyter.widget-view+json": {
       "model_id": "a3b283080a1240ddb0390efc7ce46f11",
       "version_major": 2,
       "version_minor": 0
      }
     },
     "metadata": {}
    },
    {
     "output_type": "display_data",
     "data": {
      "text/plain": [
       "Canvas(toolbar=Toolbar(toolitems=[('Home', 'Reset original view', 'home', 'home'), ('Back', 'Back to previous …"
      ],
      "application/vnd.jupyter.widget-view+json": {
       "model_id": "e0855b482ec445698d9085dca17df058",
       "version_major": 2,
       "version_minor": 0
      }
     },
     "metadata": {}
    },
    {
     "output_type": "stream",
     "name": "stdout",
     "text": [
      "P9-2 73.56028109884093 73.24445041474964 0.31583068409129567\n",
      "PI\n",
      "PG\n",
      "PR\n",
      "GX\n",
      "GY\n",
      "GZ\n",
      "AX\n",
      "AY\n",
      "AZ\n",
      "EA\n",
      "ER\n",
      "EL\n",
      "B%\n"
     ]
    },
    {
     "output_type": "display_data",
     "data": {
      "text/plain": [
       "Canvas(toolbar=Toolbar(toolitems=[('Home', 'Reset original view', 'home', 'home'), ('Back', 'Back to previous …"
      ],
      "application/vnd.jupyter.widget-view+json": {
       "model_id": "3d4a17af516a47269be6e0273596fec3",
       "version_major": 2,
       "version_minor": 0
      }
     },
     "metadata": {}
    },
    {
     "output_type": "display_data",
     "data": {
      "text/plain": [
       "Canvas(toolbar=Toolbar(toolitems=[('Home', 'Reset original view', 'home', 'home'), ('Back', 'Back to previous …"
      ],
      "application/vnd.jupyter.widget-view+json": {
       "model_id": "8d7e66a43da74bf5a91ca3c026e17196",
       "version_major": 2,
       "version_minor": 0
      }
     },
     "metadata": {}
    },
    {
     "output_type": "display_data",
     "data": {
      "text/plain": [
       "Canvas(toolbar=Toolbar(toolitems=[('Home', 'Reset original view', 'home', 'home'), ('Back', 'Back to previous …"
      ],
      "application/vnd.jupyter.widget-view+json": {
       "model_id": "a537f77c13b8482b91926b3118c9369e",
       "version_major": 2,
       "version_minor": 0
      }
     },
     "metadata": {}
    },
    {
     "output_type": "display_data",
     "data": {
      "text/plain": [
       "Canvas(toolbar=Toolbar(toolitems=[('Home', 'Reset original view', 'home', 'home'), ('Back', 'Back to previous …"
      ],
      "application/vnd.jupyter.widget-view+json": {
       "model_id": "9d4abfd4ecae461cb0b27e5610f4d214",
       "version_major": 2,
       "version_minor": 0
      }
     },
     "metadata": {}
    },
    {
     "output_type": "display_data",
     "data": {
      "text/plain": [
       "Canvas(toolbar=Toolbar(toolitems=[('Home', 'Reset original view', 'home', 'home'), ('Back', 'Back to previous …"
      ],
      "application/vnd.jupyter.widget-view+json": {
       "model_id": "694cbc062cbb43638a2d9aad3cc41b02",
       "version_major": 2,
       "version_minor": 0
      }
     },
     "metadata": {}
    },
    {
     "output_type": "stream",
     "name": "stdout",
     "text": [
      "P10-1 83.41865123525484 83.605677771816 -0.18702653656116297\n",
      "PI\n",
      "PG\n",
      "PR\n",
      "GX\n",
      "GY\n",
      "GZ\n",
      "AX\n",
      "AY\n",
      "AZ\n",
      "EA\n",
      "ER\n",
      "EL\n",
      "B%\n"
     ]
    },
    {
     "output_type": "display_data",
     "data": {
      "text/plain": [
       "Canvas(toolbar=Toolbar(toolitems=[('Home', 'Reset original view', 'home', 'home'), ('Back', 'Back to previous …"
      ],
      "application/vnd.jupyter.widget-view+json": {
       "model_id": "2a4dc0d4b19d45549da623ce20173523",
       "version_major": 2,
       "version_minor": 0
      }
     },
     "metadata": {}
    },
    {
     "output_type": "display_data",
     "data": {
      "text/plain": [
       "Canvas(toolbar=Toolbar(toolitems=[('Home', 'Reset original view', 'home', 'home'), ('Back', 'Back to previous …"
      ],
      "application/vnd.jupyter.widget-view+json": {
       "model_id": "2f1510490b564d1ab8ddd0a09cf13ef5",
       "version_major": 2,
       "version_minor": 0
      }
     },
     "metadata": {}
    },
    {
     "output_type": "display_data",
     "data": {
      "text/plain": [
       "Canvas(toolbar=Toolbar(toolitems=[('Home', 'Reset original view', 'home', 'home'), ('Back', 'Back to previous …"
      ],
      "application/vnd.jupyter.widget-view+json": {
       "model_id": "925cfd30fb1b4802ad5b5366fadc82be",
       "version_major": 2,
       "version_minor": 0
      }
     },
     "metadata": {}
    },
    {
     "output_type": "display_data",
     "data": {
      "text/plain": [
       "Canvas(toolbar=Toolbar(toolitems=[('Home', 'Reset original view', 'home', 'home'), ('Back', 'Back to previous …"
      ],
      "application/vnd.jupyter.widget-view+json": {
       "model_id": "3ce769b4be39444d90d851204c8e7c76",
       "version_major": 2,
       "version_minor": 0
      }
     },
     "metadata": {}
    },
    {
     "output_type": "display_data",
     "data": {
      "text/plain": [
       "Canvas(toolbar=Toolbar(toolitems=[('Home', 'Reset original view', 'home', 'home'), ('Back', 'Back to previous …"
      ],
      "application/vnd.jupyter.widget-view+json": {
       "model_id": "6aea211056054f438b8f8cf19c75855c",
       "version_major": 2,
       "version_minor": 0
      }
     },
     "metadata": {}
    },
    {
     "output_type": "stream",
     "name": "stdout",
     "text": [
      "P10-2 81.81394849016728 80.89171540823762 0.9222330819296616\n",
      "PI\n",
      "PG\n",
      "PR\n",
      "GX\n",
      "GY\n",
      "GZ\n",
      "AX\n",
      "AY\n",
      "AZ\n",
      "EA\n",
      "ER\n",
      "EL\n",
      "B%\n"
     ]
    },
    {
     "output_type": "display_data",
     "data": {
      "text/plain": [
       "Canvas(toolbar=Toolbar(toolitems=[('Home', 'Reset original view', 'home', 'home'), ('Back', 'Back to previous …"
      ],
      "application/vnd.jupyter.widget-view+json": {
       "model_id": "00c74d4d50f74e49b9033a7163282425",
       "version_major": 2,
       "version_minor": 0
      }
     },
     "metadata": {}
    },
    {
     "output_type": "display_data",
     "data": {
      "text/plain": [
       "Canvas(toolbar=Toolbar(toolitems=[('Home', 'Reset original view', 'home', 'home'), ('Back', 'Back to previous …"
      ],
      "application/vnd.jupyter.widget-view+json": {
       "model_id": "ec1b246f463f47c697ec98c6c63275bf",
       "version_major": 2,
       "version_minor": 0
      }
     },
     "metadata": {}
    },
    {
     "output_type": "display_data",
     "data": {
      "text/plain": [
       "Canvas(toolbar=Toolbar(toolitems=[('Home', 'Reset original view', 'home', 'home'), ('Back', 'Back to previous …"
      ],
      "application/vnd.jupyter.widget-view+json": {
       "model_id": "7fc1d22bbe924db6883c0aa87e186d78",
       "version_major": 2,
       "version_minor": 0
      }
     },
     "metadata": {}
    },
    {
     "output_type": "display_data",
     "data": {
      "text/plain": [
       "Canvas(toolbar=Toolbar(toolitems=[('Home', 'Reset original view', 'home', 'home'), ('Back', 'Back to previous …"
      ],
      "application/vnd.jupyter.widget-view+json": {
       "model_id": "467bbb26772842c092c816d79ffc7988",
       "version_major": 2,
       "version_minor": 0
      }
     },
     "metadata": {}
    },
    {
     "output_type": "display_data",
     "data": {
      "text/plain": [
       "Canvas(toolbar=Toolbar(toolitems=[('Home', 'Reset original view', 'home', 'home'), ('Back', 'Back to previous …"
      ],
      "application/vnd.jupyter.widget-view+json": {
       "model_id": "27907b904ff4434f88e918261614ccfe",
       "version_major": 2,
       "version_minor": 0
      }
     },
     "metadata": {}
    },
    {
     "output_type": "stream",
     "name": "stdout",
     "text": [
      "P11-1 60.67163738663414 60.843719559407546 -0.17208217277340765\n",
      "PI\n",
      "PG\n",
      "PR\n",
      "GX\n",
      "GY\n",
      "GZ\n",
      "AX\n",
      "AY\n",
      "AZ\n",
      "EA\n",
      "ER\n",
      "EL\n",
      "B%\n"
     ]
    },
    {
     "output_type": "display_data",
     "data": {
      "text/plain": [
       "Canvas(toolbar=Toolbar(toolitems=[('Home', 'Reset original view', 'home', 'home'), ('Back', 'Back to previous …"
      ],
      "application/vnd.jupyter.widget-view+json": {
       "model_id": "d1f99c86ad7847bb8ae8d7b147b72b83",
       "version_major": 2,
       "version_minor": 0
      }
     },
     "metadata": {}
    },
    {
     "output_type": "display_data",
     "data": {
      "text/plain": [
       "Canvas(toolbar=Toolbar(toolitems=[('Home', 'Reset original view', 'home', 'home'), ('Back', 'Back to previous …"
      ],
      "application/vnd.jupyter.widget-view+json": {
       "model_id": "ac381c89667b4948883ef015c839518d",
       "version_major": 2,
       "version_minor": 0
      }
     },
     "metadata": {}
    },
    {
     "output_type": "display_data",
     "data": {
      "text/plain": [
       "Canvas(toolbar=Toolbar(toolitems=[('Home', 'Reset original view', 'home', 'home'), ('Back', 'Back to previous …"
      ],
      "application/vnd.jupyter.widget-view+json": {
       "model_id": "8c03aecb9b4244daa69952e0324c44b1",
       "version_major": 2,
       "version_minor": 0
      }
     },
     "metadata": {}
    },
    {
     "output_type": "display_data",
     "data": {
      "text/plain": [
       "Canvas(toolbar=Toolbar(toolitems=[('Home', 'Reset original view', 'home', 'home'), ('Back', 'Back to previous …"
      ],
      "application/vnd.jupyter.widget-view+json": {
       "model_id": "822fdf3ffc7b48728d2f7e9f7340d9c3",
       "version_major": 2,
       "version_minor": 0
      }
     },
     "metadata": {}
    },
    {
     "output_type": "display_data",
     "data": {
      "text/plain": [
       "Canvas(toolbar=Toolbar(toolitems=[('Home', 'Reset original view', 'home', 'home'), ('Back', 'Back to previous …"
      ],
      "application/vnd.jupyter.widget-view+json": {
       "model_id": "4fe24a3f8d244211b34cbf59f52909c1",
       "version_major": 2,
       "version_minor": 0
      }
     },
     "metadata": {}
    },
    {
     "output_type": "stream",
     "name": "stdout",
     "text": [
      "P11-2 59.61228906568905 59.04020752269779 0.5720815429912562\n",
      "PI\n",
      "PG\n",
      "PR\n",
      "GX\n",
      "GY\n",
      "GZ\n",
      "AX\n",
      "AY\n",
      "AZ\n",
      "EA\n",
      "ER\n",
      "EL\n"
     ]
    },
    {
     "output_type": "display_data",
     "data": {
      "text/plain": [
       "Canvas(toolbar=Toolbar(toolitems=[('Home', 'Reset original view', 'home', 'home'), ('Back', 'Back to previous …"
      ],
      "application/vnd.jupyter.widget-view+json": {
       "model_id": "9128cfdd465e4ad8923caf0ef3821764",
       "version_major": 2,
       "version_minor": 0
      }
     },
     "metadata": {}
    },
    {
     "output_type": "display_data",
     "data": {
      "text/plain": [
       "Canvas(toolbar=Toolbar(toolitems=[('Home', 'Reset original view', 'home', 'home'), ('Back', 'Back to previous …"
      ],
      "application/vnd.jupyter.widget-view+json": {
       "model_id": "1f3bf4eb8e454bafbdb269a4c3c46a37",
       "version_major": 2,
       "version_minor": 0
      }
     },
     "metadata": {}
    },
    {
     "output_type": "display_data",
     "data": {
      "text/plain": [
       "Canvas(toolbar=Toolbar(toolitems=[('Home', 'Reset original view', 'home', 'home'), ('Back', 'Back to previous …"
      ],
      "application/vnd.jupyter.widget-view+json": {
       "model_id": "4422367d53324b59aa3e350de861dfb0",
       "version_major": 2,
       "version_minor": 0
      }
     },
     "metadata": {}
    },
    {
     "output_type": "display_data",
     "data": {
      "text/plain": [
       "Canvas(toolbar=Toolbar(toolitems=[('Home', 'Reset original view', 'home', 'home'), ('Back', 'Back to previous …"
      ],
      "application/vnd.jupyter.widget-view+json": {
       "model_id": "9da5fc4cffbe4cf18ef6f0c0b8220361",
       "version_major": 2,
       "version_minor": 0
      }
     },
     "metadata": {}
    },
    {
     "output_type": "display_data",
     "data": {
      "text/plain": [
       "Canvas(toolbar=Toolbar(toolitems=[('Home', 'Reset original view', 'home', 'home'), ('Back', 'Back to previous …"
      ],
      "application/vnd.jupyter.widget-view+json": {
       "model_id": "fd7a1b04458640d8b3dcf6e73fdc4468",
       "version_major": 2,
       "version_minor": 0
      }
     },
     "metadata": {}
    },
    {
     "output_type": "stream",
     "name": "stdout",
     "text": [
      "P12-1 68.71915137301956 69.16485310119695 -0.44570172817739717\n",
      "PI\n",
      "PG\n",
      "PR\n",
      "GX\n",
      "GY\n",
      "GZ\n",
      "AX\n",
      "AY\n",
      "AZ\n",
      "EA\n",
      "ER\n",
      "EL\n"
     ]
    },
    {
     "output_type": "display_data",
     "data": {
      "text/plain": [
       "Canvas(toolbar=Toolbar(toolitems=[('Home', 'Reset original view', 'home', 'home'), ('Back', 'Back to previous …"
      ],
      "application/vnd.jupyter.widget-view+json": {
       "model_id": "237f5a42196e4eac87a4c70744990ec1",
       "version_major": 2,
       "version_minor": 0
      }
     },
     "metadata": {}
    },
    {
     "output_type": "display_data",
     "data": {
      "text/plain": [
       "Canvas(toolbar=Toolbar(toolitems=[('Home', 'Reset original view', 'home', 'home'), ('Back', 'Back to previous …"
      ],
      "application/vnd.jupyter.widget-view+json": {
       "model_id": "ba251f1136964a45b80d9b0595a9d2fd",
       "version_major": 2,
       "version_minor": 0
      }
     },
     "metadata": {}
    },
    {
     "output_type": "display_data",
     "data": {
      "text/plain": [
       "Canvas(toolbar=Toolbar(toolitems=[('Home', 'Reset original view', 'home', 'home'), ('Back', 'Back to previous …"
      ],
      "application/vnd.jupyter.widget-view+json": {
       "model_id": "4f047df7be334bce90816d34be2858bd",
       "version_major": 2,
       "version_minor": 0
      }
     },
     "metadata": {}
    },
    {
     "output_type": "display_data",
     "data": {
      "text/plain": [
       "Canvas(toolbar=Toolbar(toolitems=[('Home', 'Reset original view', 'home', 'home'), ('Back', 'Back to previous …"
      ],
      "application/vnd.jupyter.widget-view+json": {
       "model_id": "696e8641d70b42c5bee8814f81ab70e7",
       "version_major": 2,
       "version_minor": 0
      }
     },
     "metadata": {}
    },
    {
     "output_type": "display_data",
     "data": {
      "text/plain": [
       "Canvas(toolbar=Toolbar(toolitems=[('Home', 'Reset original view', 'home', 'home'), ('Back', 'Back to previous …"
      ],
      "application/vnd.jupyter.widget-view+json": {
       "model_id": "00e4505695d24284abc589fbccbd38be",
       "version_major": 2,
       "version_minor": 0
      }
     },
     "metadata": {}
    },
    {
     "output_type": "stream",
     "name": "stdout",
     "text": [
      "P12-2 67.41519989299175 67.54612180122992 -0.13092190823816452\n"
     ]
    },
    {
     "output_type": "display_data",
     "data": {
      "text/plain": [
       "Canvas(toolbar=Toolbar(toolitems=[('Home', 'Reset original view', 'home', 'home'), ('Back', 'Back to previous …"
      ],
      "application/vnd.jupyter.widget-view+json": {
       "model_id": "5f1268cef2974792bee53573939e3fa9",
       "version_major": 2,
       "version_minor": 0
      }
     },
     "metadata": {}
    },
    {
     "output_type": "display_data",
     "data": {
      "text/plain": [
       "Canvas(toolbar=Toolbar(toolitems=[('Home', 'Reset original view', 'home', 'home'), ('Back', 'Back to previous …"
      ],
      "application/vnd.jupyter.widget-view+json": {
       "model_id": "9cc0126e9fb147deb5be17acf47c8f27",
       "version_major": 2,
       "version_minor": 0
      }
     },
     "metadata": {}
    },
    {
     "output_type": "display_data",
     "data": {
      "text/plain": [
       "Canvas(toolbar=Toolbar(toolitems=[('Home', 'Reset original view', 'home', 'home'), ('Back', 'Back to previous …"
      ],
      "application/vnd.jupyter.widget-view+json": {
       "model_id": "31edb48b6a8949eea21d16722c7badd8",
       "version_major": 2,
       "version_minor": 0
      }
     },
     "metadata": {}
    },
    {
     "output_type": "display_data",
     "data": {
      "text/plain": [
       "Canvas(toolbar=Toolbar(toolitems=[('Home', 'Reset original view', 'home', 'home'), ('Back', 'Back to previous …"
      ],
      "application/vnd.jupyter.widget-view+json": {
       "model_id": "fddf842e802b46fc837fb3714cdceb7a",
       "version_major": 2,
       "version_minor": 0
      }
     },
     "metadata": {}
    },
    {
     "output_type": "display_data",
     "data": {
      "text/plain": [
       "Canvas(toolbar=Toolbar(toolitems=[('Home', 'Reset original view', 'home', 'home'), ('Back', 'Back to previous …"
      ],
      "application/vnd.jupyter.widget-view+json": {
       "model_id": "c0613deabad9446aa2e7c5f829caae18",
       "version_major": 2,
       "version_minor": 0
      }
     },
     "metadata": {}
    },
    {
     "output_type": "stream",
     "name": "stdout",
     "text": [
      "P13-1 60.39378819066504 60.10224159519483 0.29154659547020856\n"
     ]
    },
    {
     "output_type": "display_data",
     "data": {
      "text/plain": [
       "Canvas(toolbar=Toolbar(toolitems=[('Home', 'Reset original view', 'home', 'home'), ('Back', 'Back to previous …"
      ],
      "application/vnd.jupyter.widget-view+json": {
       "model_id": "77fecb42edd6471d8bffee548149aabf",
       "version_major": 2,
       "version_minor": 0
      }
     },
     "metadata": {}
    },
    {
     "output_type": "display_data",
     "data": {
      "text/plain": [
       "Canvas(toolbar=Toolbar(toolitems=[('Home', 'Reset original view', 'home', 'home'), ('Back', 'Back to previous …"
      ],
      "application/vnd.jupyter.widget-view+json": {
       "model_id": "60ffd99e6f2c465dbc0b955f156c9c12",
       "version_major": 2,
       "version_minor": 0
      }
     },
     "metadata": {}
    },
    {
     "output_type": "display_data",
     "data": {
      "text/plain": [
       "Canvas(toolbar=Toolbar(toolitems=[('Home', 'Reset original view', 'home', 'home'), ('Back', 'Back to previous …"
      ],
      "application/vnd.jupyter.widget-view+json": {
       "model_id": "1e7265d4999342fcb18b518485349892",
       "version_major": 2,
       "version_minor": 0
      }
     },
     "metadata": {}
    },
    {
     "output_type": "display_data",
     "data": {
      "text/plain": [
       "Canvas(toolbar=Toolbar(toolitems=[('Home', 'Reset original view', 'home', 'home'), ('Back', 'Back to previous …"
      ],
      "application/vnd.jupyter.widget-view+json": {
       "model_id": "6e48a4ed8df0468c9b7cb2b9a6c35a4c",
       "version_major": 2,
       "version_minor": 0
      }
     },
     "metadata": {}
    },
    {
     "output_type": "display_data",
     "data": {
      "text/plain": [
       "Canvas(toolbar=Toolbar(toolitems=[('Home', 'Reset original view', 'home', 'home'), ('Back', 'Back to previous …"
      ],
      "application/vnd.jupyter.widget-view+json": {
       "model_id": "9a00e5c315bf426aab34b44402154ea9",
       "version_major": 2,
       "version_minor": 0
      }
     },
     "metadata": {}
    },
    {
     "output_type": "stream",
     "name": "stdout",
     "text": [
      "P13-2 60.07927126069119 59.77186716181124 0.3074040988799567\n"
     ]
    },
    {
     "output_type": "display_data",
     "data": {
      "text/plain": [
       "Canvas(toolbar=Toolbar(toolitems=[('Home', 'Reset original view', 'home', 'home'), ('Back', 'Back to previous …"
      ],
      "application/vnd.jupyter.widget-view+json": {
       "model_id": "4f3ff5285d324ffc871607bc39143958",
       "version_major": 2,
       "version_minor": 0
      }
     },
     "metadata": {}
    },
    {
     "output_type": "display_data",
     "data": {
      "text/plain": [
       "Canvas(toolbar=Toolbar(toolitems=[('Home', 'Reset original view', 'home', 'home'), ('Back', 'Back to previous …"
      ],
      "application/vnd.jupyter.widget-view+json": {
       "model_id": "3ca144ad3c9a4705af495f320951e1af",
       "version_major": 2,
       "version_minor": 0
      }
     },
     "metadata": {}
    },
    {
     "output_type": "display_data",
     "data": {
      "text/plain": [
       "Canvas(toolbar=Toolbar(toolitems=[('Home', 'Reset original view', 'home', 'home'), ('Back', 'Back to previous …"
      ],
      "application/vnd.jupyter.widget-view+json": {
       "model_id": "d01a708c344a4c7eb81b27d0bde82297",
       "version_major": 2,
       "version_minor": 0
      }
     },
     "metadata": {}
    },
    {
     "output_type": "display_data",
     "data": {
      "text/plain": [
       "Canvas(toolbar=Toolbar(toolitems=[('Home', 'Reset original view', 'home', 'home'), ('Back', 'Back to previous …"
      ],
      "application/vnd.jupyter.widget-view+json": {
       "model_id": "83f39ee03a204425a3a4411b53ecb5f6",
       "version_major": 2,
       "version_minor": 0
      }
     },
     "metadata": {}
    },
    {
     "output_type": "display_data",
     "data": {
      "text/plain": [
       "Canvas(toolbar=Toolbar(toolitems=[('Home', 'Reset original view', 'home', 'home'), ('Back', 'Back to previous …"
      ],
      "application/vnd.jupyter.widget-view+json": {
       "model_id": "e44ec8cb597e44dcb243b74c26dd18a6",
       "version_major": 2,
       "version_minor": 0
      }
     },
     "metadata": {}
    },
    {
     "output_type": "stream",
     "name": "stdout",
     "text": [
      "P14-1 66.42545988399611 66.26271032169142 0.16274956230469684\n"
     ]
    },
    {
     "output_type": "display_data",
     "data": {
      "text/plain": [
       "Canvas(toolbar=Toolbar(toolitems=[('Home', 'Reset original view', 'home', 'home'), ('Back', 'Back to previous …"
      ],
      "application/vnd.jupyter.widget-view+json": {
       "model_id": "c9fa8280b46d4106b538745fc38384e1",
       "version_major": 2,
       "version_minor": 0
      }
     },
     "metadata": {}
    },
    {
     "output_type": "display_data",
     "data": {
      "text/plain": [
       "Canvas(toolbar=Toolbar(toolitems=[('Home', 'Reset original view', 'home', 'home'), ('Back', 'Back to previous …"
      ],
      "application/vnd.jupyter.widget-view+json": {
       "model_id": "f2af663b2e724fa0a2da62ec68e3bacb",
       "version_major": 2,
       "version_minor": 0
      }
     },
     "metadata": {}
    },
    {
     "output_type": "display_data",
     "data": {
      "text/plain": [
       "Canvas(toolbar=Toolbar(toolitems=[('Home', 'Reset original view', 'home', 'home'), ('Back', 'Back to previous …"
      ],
      "application/vnd.jupyter.widget-view+json": {
       "model_id": "f8b931d0c8bf4d0ca0dd787484fd458d",
       "version_major": 2,
       "version_minor": 0
      }
     },
     "metadata": {}
    },
    {
     "output_type": "display_data",
     "data": {
      "text/plain": [
       "Canvas(toolbar=Toolbar(toolitems=[('Home', 'Reset original view', 'home', 'home'), ('Back', 'Back to previous …"
      ],
      "application/vnd.jupyter.widget-view+json": {
       "model_id": "0666b2fee87b43e9a50e0420e92ce36c",
       "version_major": 2,
       "version_minor": 0
      }
     },
     "metadata": {}
    },
    {
     "output_type": "display_data",
     "data": {
      "text/plain": [
       "Canvas(toolbar=Toolbar(toolitems=[('Home', 'Reset original view', 'home', 'home'), ('Back', 'Back to previous …"
      ],
      "application/vnd.jupyter.widget-view+json": {
       "model_id": "983f93a6bf2f469196147aef425697ef",
       "version_major": 2,
       "version_minor": 0
      }
     },
     "metadata": {}
    },
    {
     "output_type": "stream",
     "name": "stdout",
     "text": [
      "P14-2 62.946742975561186 63.17465935232702 -0.2279163767658332\n"
     ]
    },
    {
     "output_type": "display_data",
     "data": {
      "text/plain": [
       "Canvas(toolbar=Toolbar(toolitems=[('Home', 'Reset original view', 'home', 'home'), ('Back', 'Back to previous …"
      ],
      "application/vnd.jupyter.widget-view+json": {
       "model_id": "46f066934e38412da0275881f0554561",
       "version_major": 2,
       "version_minor": 0
      }
     },
     "metadata": {}
    },
    {
     "output_type": "display_data",
     "data": {
      "text/plain": [
       "Canvas(toolbar=Toolbar(toolitems=[('Home', 'Reset original view', 'home', 'home'), ('Back', 'Back to previous …"
      ],
      "application/vnd.jupyter.widget-view+json": {
       "model_id": "d89d189ff3de47319afb0a11bf4779c1",
       "version_major": 2,
       "version_minor": 0
      }
     },
     "metadata": {}
    },
    {
     "output_type": "display_data",
     "data": {
      "text/plain": [
       "Canvas(toolbar=Toolbar(toolitems=[('Home', 'Reset original view', 'home', 'home'), ('Back', 'Back to previous …"
      ],
      "application/vnd.jupyter.widget-view+json": {
       "model_id": "2abbc744136c4d9fa6da117be5af383c",
       "version_major": 2,
       "version_minor": 0
      }
     },
     "metadata": {}
    },
    {
     "output_type": "display_data",
     "data": {
      "text/plain": [
       "Canvas(toolbar=Toolbar(toolitems=[('Home', 'Reset original view', 'home', 'home'), ('Back', 'Back to previous …"
      ],
      "application/vnd.jupyter.widget-view+json": {
       "model_id": "c4696dbf078f4359ab4221a8e439904c",
       "version_major": 2,
       "version_minor": 0
      }
     },
     "metadata": {}
    },
    {
     "output_type": "display_data",
     "data": {
      "text/plain": [
       "Canvas(toolbar=Toolbar(toolitems=[('Home', 'Reset original view', 'home', 'home'), ('Back', 'Back to previous …"
      ],
      "application/vnd.jupyter.widget-view+json": {
       "model_id": "9ee27df0a6684003aab50222402c799f",
       "version_major": 2,
       "version_minor": 0
      }
     },
     "metadata": {}
    },
    {
     "output_type": "stream",
     "name": "stdout",
     "text": [
      "P15-1 71.28330854869178 70.22947789927615 1.0538306494156302\n",
      "P15-2 :Fail in Merge!\n"
     ]
    },
    {
     "output_type": "display_data",
     "data": {
      "text/plain": [
       "Canvas(toolbar=Toolbar(toolitems=[('Home', 'Reset original view', 'home', 'home'), ('Back', 'Back to previous …"
      ],
      "application/vnd.jupyter.widget-view+json": {
       "model_id": "7c918170e8634187befd700bd67f3a13",
       "version_major": 2,
       "version_minor": 0
      }
     },
     "metadata": {}
    },
    {
     "output_type": "display_data",
     "data": {
      "text/plain": [
       "Canvas(toolbar=Toolbar(toolitems=[('Home', 'Reset original view', 'home', 'home'), ('Back', 'Back to previous …"
      ],
      "application/vnd.jupyter.widget-view+json": {
       "model_id": "a1df5ac2eb6c4c7f898874a36262a307",
       "version_major": 2,
       "version_minor": 0
      }
     },
     "metadata": {}
    },
    {
     "output_type": "display_data",
     "data": {
      "text/plain": [
       "Canvas(toolbar=Toolbar(toolitems=[('Home', 'Reset original view', 'home', 'home'), ('Back', 'Back to previous …"
      ],
      "application/vnd.jupyter.widget-view+json": {
       "model_id": "d0a34a4b7d7841598756ede7ad779c49",
       "version_major": 2,
       "version_minor": 0
      }
     },
     "metadata": {}
    },
    {
     "output_type": "display_data",
     "data": {
      "text/plain": [
       "Canvas(toolbar=Toolbar(toolitems=[('Home', 'Reset original view', 'home', 'home'), ('Back', 'Back to previous …"
      ],
      "application/vnd.jupyter.widget-view+json": {
       "model_id": "d4dd9e4a62e0468ba70400cc70829dd6",
       "version_major": 2,
       "version_minor": 0
      }
     },
     "metadata": {}
    },
    {
     "output_type": "display_data",
     "data": {
      "text/plain": [
       "Canvas(toolbar=Toolbar(toolitems=[('Home', 'Reset original view', 'home', 'home'), ('Back', 'Back to previous …"
      ],
      "application/vnd.jupyter.widget-view+json": {
       "model_id": "b11bcebe0cb34747aa4a6ee4b2b20978",
       "version_major": 2,
       "version_minor": 0
      }
     },
     "metadata": {}
    },
    {
     "output_type": "stream",
     "name": "stdout",
     "text": [
      "P16-1 70.56801523244646 69.80770304733893 0.760312185107523\n"
     ]
    },
    {
     "output_type": "display_data",
     "data": {
      "text/plain": [
       "Canvas(toolbar=Toolbar(toolitems=[('Home', 'Reset original view', 'home', 'home'), ('Back', 'Back to previous …"
      ],
      "application/vnd.jupyter.widget-view+json": {
       "model_id": "b23db91db020494c9ea89ce0cdcb2244",
       "version_major": 2,
       "version_minor": 0
      }
     },
     "metadata": {}
    },
    {
     "output_type": "display_data",
     "data": {
      "text/plain": [
       "Canvas(toolbar=Toolbar(toolitems=[('Home', 'Reset original view', 'home', 'home'), ('Back', 'Back to previous …"
      ],
      "application/vnd.jupyter.widget-view+json": {
       "model_id": "119e30becdc5459a901ffb74423da990",
       "version_major": 2,
       "version_minor": 0
      }
     },
     "metadata": {}
    },
    {
     "output_type": "display_data",
     "data": {
      "text/plain": [
       "Canvas(toolbar=Toolbar(toolitems=[('Home', 'Reset original view', 'home', 'home'), ('Back', 'Back to previous …"
      ],
      "application/vnd.jupyter.widget-view+json": {
       "model_id": "bcfb8554d3134b1aa3638469b7070c5a",
       "version_major": 2,
       "version_minor": 0
      }
     },
     "metadata": {}
    },
    {
     "output_type": "display_data",
     "data": {
      "text/plain": [
       "Canvas(toolbar=Toolbar(toolitems=[('Home', 'Reset original view', 'home', 'home'), ('Back', 'Back to previous …"
      ],
      "application/vnd.jupyter.widget-view+json": {
       "model_id": "b74458df7c8b4d1f9d4103c1dcc71261",
       "version_major": 2,
       "version_minor": 0
      }
     },
     "metadata": {}
    },
    {
     "output_type": "display_data",
     "data": {
      "text/plain": [
       "Canvas(toolbar=Toolbar(toolitems=[('Home', 'Reset original view', 'home', 'home'), ('Back', 'Back to previous …"
      ],
      "application/vnd.jupyter.widget-view+json": {
       "model_id": "8ca1dc993486488380a530ecb7a6f58a",
       "version_major": 2,
       "version_minor": 0
      }
     },
     "metadata": {}
    },
    {
     "output_type": "stream",
     "name": "stdout",
     "text": [
      "P16-2 68.8292904665482 68.25102184508188 0.5782686214663215\n"
     ]
    },
    {
     "output_type": "display_data",
     "data": {
      "text/plain": [
       "Canvas(toolbar=Toolbar(toolitems=[('Home', 'Reset original view', 'home', 'home'), ('Back', 'Back to previous …"
      ],
      "application/vnd.jupyter.widget-view+json": {
       "model_id": "b7ecf0d2a3004381a3e6a5b309f1200e",
       "version_major": 2,
       "version_minor": 0
      }
     },
     "metadata": {}
    },
    {
     "output_type": "display_data",
     "data": {
      "text/plain": [
       "Canvas(toolbar=Toolbar(toolitems=[('Home', 'Reset original view', 'home', 'home'), ('Back', 'Back to previous …"
      ],
      "application/vnd.jupyter.widget-view+json": {
       "model_id": "4275083667c94ad3a6c79d999bb8a148",
       "version_major": 2,
       "version_minor": 0
      }
     },
     "metadata": {}
    },
    {
     "output_type": "display_data",
     "data": {
      "text/plain": [
       "Canvas(toolbar=Toolbar(toolitems=[('Home', 'Reset original view', 'home', 'home'), ('Back', 'Back to previous …"
      ],
      "application/vnd.jupyter.widget-view+json": {
       "model_id": "b916799c604a46bf804683cccfe821ef",
       "version_major": 2,
       "version_minor": 0
      }
     },
     "metadata": {}
    },
    {
     "output_type": "display_data",
     "data": {
      "text/plain": [
       "Canvas(toolbar=Toolbar(toolitems=[('Home', 'Reset original view', 'home', 'home'), ('Back', 'Back to previous …"
      ],
      "application/vnd.jupyter.widget-view+json": {
       "model_id": "bf14e8b60ff04614af4dcfcab519149e",
       "version_major": 2,
       "version_minor": 0
      }
     },
     "metadata": {}
    },
    {
     "output_type": "display_data",
     "data": {
      "text/plain": [
       "Canvas(toolbar=Toolbar(toolitems=[('Home', 'Reset original view', 'home', 'home'), ('Back', 'Back to previous …"
      ],
      "application/vnd.jupyter.widget-view+json": {
       "model_id": "8ed5d7eac02041e094f82ca8bd2b0439",
       "version_major": 2,
       "version_minor": 0
      }
     },
     "metadata": {}
    },
    {
     "output_type": "stream",
     "name": "stdout",
     "text": [
      "P17-1 63.0379439932113 63.48795264301901 -0.4500086498077067\n"
     ]
    },
    {
     "output_type": "display_data",
     "data": {
      "text/plain": [
       "Canvas(toolbar=Toolbar(toolitems=[('Home', 'Reset original view', 'home', 'home'), ('Back', 'Back to previous …"
      ],
      "application/vnd.jupyter.widget-view+json": {
       "model_id": "2a811088dd334e9e93385ea46ba39df8",
       "version_major": 2,
       "version_minor": 0
      }
     },
     "metadata": {}
    },
    {
     "output_type": "display_data",
     "data": {
      "text/plain": [
       "Canvas(toolbar=Toolbar(toolitems=[('Home', 'Reset original view', 'home', 'home'), ('Back', 'Back to previous …"
      ],
      "application/vnd.jupyter.widget-view+json": {
       "model_id": "ed25a429e79b4555bb557a9d8f684cb8",
       "version_major": 2,
       "version_minor": 0
      }
     },
     "metadata": {}
    },
    {
     "output_type": "display_data",
     "data": {
      "text/plain": [
       "Canvas(toolbar=Toolbar(toolitems=[('Home', 'Reset original view', 'home', 'home'), ('Back', 'Back to previous …"
      ],
      "application/vnd.jupyter.widget-view+json": {
       "model_id": "11dba20d43df4a2fa6622f30bb7c997a",
       "version_major": 2,
       "version_minor": 0
      }
     },
     "metadata": {}
    },
    {
     "output_type": "display_data",
     "data": {
      "text/plain": [
       "Canvas(toolbar=Toolbar(toolitems=[('Home', 'Reset original view', 'home', 'home'), ('Back', 'Back to previous …"
      ],
      "application/vnd.jupyter.widget-view+json": {
       "model_id": "b0244b026aa742419d352c69b7dcd3a1",
       "version_major": 2,
       "version_minor": 0
      }
     },
     "metadata": {}
    },
    {
     "output_type": "display_data",
     "data": {
      "text/plain": [
       "Canvas(toolbar=Toolbar(toolitems=[('Home', 'Reset original view', 'home', 'home'), ('Back', 'Back to previous …"
      ],
      "application/vnd.jupyter.widget-view+json": {
       "model_id": "f83ee402127b48d98e458c250ef3cd32",
       "version_major": 2,
       "version_minor": 0
      }
     },
     "metadata": {}
    },
    {
     "output_type": "stream",
     "name": "stdout",
     "text": [
      "P17-2 64.36939030056983 64.51612903225806 -0.14673873168823093\n"
     ]
    },
    {
     "output_type": "display_data",
     "data": {
      "text/plain": [
       "Canvas(toolbar=Toolbar(toolitems=[('Home', 'Reset original view', 'home', 'home'), ('Back', 'Back to previous …"
      ],
      "application/vnd.jupyter.widget-view+json": {
       "model_id": "909b1db52da8429f823ded809125feed",
       "version_major": 2,
       "version_minor": 0
      }
     },
     "metadata": {}
    },
    {
     "output_type": "display_data",
     "data": {
      "text/plain": [
       "Canvas(toolbar=Toolbar(toolitems=[('Home', 'Reset original view', 'home', 'home'), ('Back', 'Back to previous …"
      ],
      "application/vnd.jupyter.widget-view+json": {
       "model_id": "cf4222491c4245aab69a935759216bfa",
       "version_major": 2,
       "version_minor": 0
      }
     },
     "metadata": {}
    },
    {
     "output_type": "display_data",
     "data": {
      "text/plain": [
       "Canvas(toolbar=Toolbar(toolitems=[('Home', 'Reset original view', 'home', 'home'), ('Back', 'Back to previous …"
      ],
      "application/vnd.jupyter.widget-view+json": {
       "model_id": "9338e91e55c54f0683c986a008e3137e",
       "version_major": 2,
       "version_minor": 0
      }
     },
     "metadata": {}
    },
    {
     "output_type": "display_data",
     "data": {
      "text/plain": [
       "Canvas(toolbar=Toolbar(toolitems=[('Home', 'Reset original view', 'home', 'home'), ('Back', 'Back to previous …"
      ],
      "application/vnd.jupyter.widget-view+json": {
       "model_id": "cb7de883e14c4139ba8fdf19affdac08",
       "version_major": 2,
       "version_minor": 0
      }
     },
     "metadata": {}
    },
    {
     "output_type": "display_data",
     "data": {
      "text/plain": [
       "Canvas(toolbar=Toolbar(toolitems=[('Home', 'Reset original view', 'home', 'home'), ('Back', 'Back to previous …"
      ],
      "application/vnd.jupyter.widget-view+json": {
       "model_id": "d4435f20cf1f4f3eb8028d97902864e0",
       "version_major": 2,
       "version_minor": 0
      }
     },
     "metadata": {}
    },
    {
     "output_type": "stream",
     "name": "stdout",
     "text": [
      "P18-1 62.478033789140724 62.870856298953036 -0.39282250981231215\n"
     ]
    },
    {
     "output_type": "display_data",
     "data": {
      "text/plain": [
       "Canvas(toolbar=Toolbar(toolitems=[('Home', 'Reset original view', 'home', 'home'), ('Back', 'Back to previous …"
      ],
      "application/vnd.jupyter.widget-view+json": {
       "model_id": "4a126a69b2154086ab7d70e9b0f2fb70",
       "version_major": 2,
       "version_minor": 0
      }
     },
     "metadata": {}
    },
    {
     "output_type": "display_data",
     "data": {
      "text/plain": [
       "Canvas(toolbar=Toolbar(toolitems=[('Home', 'Reset original view', 'home', 'home'), ('Back', 'Back to previous …"
      ],
      "application/vnd.jupyter.widget-view+json": {
       "model_id": "b52114bd8ff44066a45a4fa46002ca53",
       "version_major": 2,
       "version_minor": 0
      }
     },
     "metadata": {}
    },
    {
     "output_type": "display_data",
     "data": {
      "text/plain": [
       "Canvas(toolbar=Toolbar(toolitems=[('Home', 'Reset original view', 'home', 'home'), ('Back', 'Back to previous …"
      ],
      "application/vnd.jupyter.widget-view+json": {
       "model_id": "4eefdba3757345038e419e3e48ce2c92",
       "version_major": 2,
       "version_minor": 0
      }
     },
     "metadata": {}
    },
    {
     "output_type": "display_data",
     "data": {
      "text/plain": [
       "Canvas(toolbar=Toolbar(toolitems=[('Home', 'Reset original view', 'home', 'home'), ('Back', 'Back to previous …"
      ],
      "application/vnd.jupyter.widget-view+json": {
       "model_id": "b11cbd2e60b54e5fb52a7fee52b92fdf",
       "version_major": 2,
       "version_minor": 0
      }
     },
     "metadata": {}
    },
    {
     "output_type": "display_data",
     "data": {
      "text/plain": [
       "Canvas(toolbar=Toolbar(toolitems=[('Home', 'Reset original view', 'home', 'home'), ('Back', 'Back to previous …"
      ],
      "application/vnd.jupyter.widget-view+json": {
       "model_id": "ee7868f128e8407cb8d8e2551bf86cf5",
       "version_major": 2,
       "version_minor": 0
      }
     },
     "metadata": {}
    },
    {
     "output_type": "stream",
     "name": "stdout",
     "text": [
      "P18-2 62.23854873815631 74.1815017584569 -11.942953020300592\n",
      "\n"
     ]
    },
    {
     "output_type": "display_data",
     "data": {
      "text/plain": [
       "Canvas(toolbar=Toolbar(toolitems=[('Home', 'Reset original view', 'home', 'home'), ('Back', 'Back to previous …"
      ],
      "application/vnd.jupyter.widget-view+json": {
       "model_id": "c8511cd91d994843996c01d5379232a2",
       "version_major": 2,
       "version_minor": 0
      }
     },
     "metadata": {}
    },
    {
     "output_type": "display_data",
     "data": {
      "text/plain": [
       "Canvas(toolbar=Toolbar(toolitems=[('Home', 'Reset original view', 'home', 'home'), ('Back', 'Back to previous …"
      ],
      "application/vnd.jupyter.widget-view+json": {
       "model_id": "f7d8a09a33794d30ae83b65825371c17",
       "version_major": 2,
       "version_minor": 0
      }
     },
     "metadata": {}
    },
    {
     "output_type": "display_data",
     "data": {
      "text/plain": [
       "Canvas(toolbar=Toolbar(toolitems=[('Home', 'Reset original view', 'home', 'home'), ('Back', 'Back to previous …"
      ],
      "application/vnd.jupyter.widget-view+json": {
       "model_id": "5bdf2469cd15495d81d31d55d35aa74b",
       "version_major": 2,
       "version_minor": 0
      }
     },
     "metadata": {}
    },
    {
     "output_type": "display_data",
     "data": {
      "text/plain": [
       "Canvas(toolbar=Toolbar(toolitems=[('Home', 'Reset original view', 'home', 'home'), ('Back', 'Back to previous …"
      ],
      "application/vnd.jupyter.widget-view+json": {
       "model_id": "f53e394e42db40078e7484d414269f7f",
       "version_major": 2,
       "version_minor": 0
      }
     },
     "metadata": {}
    },
    {
     "output_type": "display_data",
     "data": {
      "text/plain": [
       "Canvas(toolbar=Toolbar(toolitems=[('Home', 'Reset original view', 'home', 'home'), ('Back', 'Back to previous …"
      ],
      "application/vnd.jupyter.widget-view+json": {
       "model_id": "0f736e3758434ba6a9a8db37127ca2d4",
       "version_major": 2,
       "version_minor": 0
      }
     },
     "metadata": {}
    },
    {
     "output_type": "stream",
     "name": "stdout",
     "text": [
      "P19-1 84.22817034204598 80.42563721851027 3.80253312353571\n",
      "\n"
     ]
    },
    {
     "output_type": "display_data",
     "data": {
      "text/plain": [
       "Canvas(toolbar=Toolbar(toolitems=[('Home', 'Reset original view', 'home', 'home'), ('Back', 'Back to previous …"
      ],
      "application/vnd.jupyter.widget-view+json": {
       "model_id": "0d5c61e5a0e44fde8e0a962ae7ede041",
       "version_major": 2,
       "version_minor": 0
      }
     },
     "metadata": {}
    },
    {
     "output_type": "display_data",
     "data": {
      "text/plain": [
       "Canvas(toolbar=Toolbar(toolitems=[('Home', 'Reset original view', 'home', 'home'), ('Back', 'Back to previous …"
      ],
      "application/vnd.jupyter.widget-view+json": {
       "model_id": "56ab3c96740842feb65fadac55243aaf",
       "version_major": 2,
       "version_minor": 0
      }
     },
     "metadata": {}
    },
    {
     "output_type": "display_data",
     "data": {
      "text/plain": [
       "Canvas(toolbar=Toolbar(toolitems=[('Home', 'Reset original view', 'home', 'home'), ('Back', 'Back to previous …"
      ],
      "application/vnd.jupyter.widget-view+json": {
       "model_id": "a43bff1a5c0a451b8e1077b0982001e5",
       "version_major": 2,
       "version_minor": 0
      }
     },
     "metadata": {}
    },
    {
     "output_type": "display_data",
     "data": {
      "text/plain": [
       "Canvas(toolbar=Toolbar(toolitems=[('Home', 'Reset original view', 'home', 'home'), ('Back', 'Back to previous …"
      ],
      "application/vnd.jupyter.widget-view+json": {
       "model_id": "2f79689bfcf44beca36c518282bf6be6",
       "version_major": 2,
       "version_minor": 0
      }
     },
     "metadata": {}
    },
    {
     "output_type": "display_data",
     "data": {
      "text/plain": [
       "Canvas(toolbar=Toolbar(toolitems=[('Home', 'Reset original view', 'home', 'home'), ('Back', 'Back to previous …"
      ],
      "application/vnd.jupyter.widget-view+json": {
       "model_id": "30b268f6036140e485236bc574a6a4f0",
       "version_major": 2,
       "version_minor": 0
      }
     },
     "metadata": {}
    },
    {
     "output_type": "stream",
     "name": "stdout",
     "text": [
      "P19-2 83.40804877423983 83.00586747052807 0.40218130371175675\n",
      "\n"
     ]
    },
    {
     "output_type": "display_data",
     "data": {
      "text/plain": [
       "Canvas(toolbar=Toolbar(toolitems=[('Home', 'Reset original view', 'home', 'home'), ('Back', 'Back to previous …"
      ],
      "application/vnd.jupyter.widget-view+json": {
       "model_id": "8f962846b0404f6f95c4b956f6b6e1d2",
       "version_major": 2,
       "version_minor": 0
      }
     },
     "metadata": {}
    },
    {
     "output_type": "display_data",
     "data": {
      "text/plain": [
       "Canvas(toolbar=Toolbar(toolitems=[('Home', 'Reset original view', 'home', 'home'), ('Back', 'Back to previous …"
      ],
      "application/vnd.jupyter.widget-view+json": {
       "model_id": "3f9bf63aebc14347b8338b184261d9aa",
       "version_major": 2,
       "version_minor": 0
      }
     },
     "metadata": {}
    },
    {
     "output_type": "display_data",
     "data": {
      "text/plain": [
       "Canvas(toolbar=Toolbar(toolitems=[('Home', 'Reset original view', 'home', 'home'), ('Back', 'Back to previous …"
      ],
      "application/vnd.jupyter.widget-view+json": {
       "model_id": "a5d4fd1f7b124c0e8ab6d1a75e5faa2e",
       "version_major": 2,
       "version_minor": 0
      }
     },
     "metadata": {}
    },
    {
     "output_type": "display_data",
     "data": {
      "text/plain": [
       "Canvas(toolbar=Toolbar(toolitems=[('Home', 'Reset original view', 'home', 'home'), ('Back', 'Back to previous …"
      ],
      "application/vnd.jupyter.widget-view+json": {
       "model_id": "d9a6a5cd5d284d2296c3cb34622511ab",
       "version_major": 2,
       "version_minor": 0
      }
     },
     "metadata": {}
    },
    {
     "output_type": "display_data",
     "data": {
      "text/plain": [
       "Canvas(toolbar=Toolbar(toolitems=[('Home', 'Reset original view', 'home', 'home'), ('Back', 'Back to previous …"
      ],
      "application/vnd.jupyter.widget-view+json": {
       "model_id": "b943c83031124fea99dbb0b61c430c1b",
       "version_major": 2,
       "version_minor": 0
      }
     },
     "metadata": {}
    },
    {
     "output_type": "stream",
     "name": "stdout",
     "text": [
      "P20-1 72.52730920710411 72.71809115010731 -0.19078194300320206\n",
      "\n"
     ]
    },
    {
     "output_type": "display_data",
     "data": {
      "text/plain": [
       "Canvas(toolbar=Toolbar(toolitems=[('Home', 'Reset original view', 'home', 'home'), ('Back', 'Back to previous …"
      ],
      "application/vnd.jupyter.widget-view+json": {
       "model_id": "cd0a9bed97a14dc59dede56ec0642523",
       "version_major": 2,
       "version_minor": 0
      }
     },
     "metadata": {}
    },
    {
     "output_type": "display_data",
     "data": {
      "text/plain": [
       "Canvas(toolbar=Toolbar(toolitems=[('Home', 'Reset original view', 'home', 'home'), ('Back', 'Back to previous …"
      ],
      "application/vnd.jupyter.widget-view+json": {
       "model_id": "26234140d8254293b89377e08ae35cdd",
       "version_major": 2,
       "version_minor": 0
      }
     },
     "metadata": {}
    },
    {
     "output_type": "display_data",
     "data": {
      "text/plain": [
       "Canvas(toolbar=Toolbar(toolitems=[('Home', 'Reset original view', 'home', 'home'), ('Back', 'Back to previous …"
      ],
      "application/vnd.jupyter.widget-view+json": {
       "model_id": "9831f7968ee04933bb587848d7b3af00",
       "version_major": 2,
       "version_minor": 0
      }
     },
     "metadata": {}
    },
    {
     "output_type": "display_data",
     "data": {
      "text/plain": [
       "Canvas(toolbar=Toolbar(toolitems=[('Home', 'Reset original view', 'home', 'home'), ('Back', 'Back to previous …"
      ],
      "application/vnd.jupyter.widget-view+json": {
       "model_id": "aed97389c1fe44f088b76619f80c2c09",
       "version_major": 2,
       "version_minor": 0
      }
     },
     "metadata": {}
    },
    {
     "output_type": "display_data",
     "data": {
      "text/plain": [
       "Canvas(toolbar=Toolbar(toolitems=[('Home', 'Reset original view', 'home', 'home'), ('Back', 'Back to previous …"
      ],
      "application/vnd.jupyter.widget-view+json": {
       "model_id": "0881429ad8354ec1830d42178d1ea6c2",
       "version_major": 2,
       "version_minor": 0
      }
     },
     "metadata": {}
    },
    {
     "output_type": "stream",
     "name": "stdout",
     "text": [
      "P20-2 71.88648461576493 71.88356886732757 0.0029157484373598663\n",
      "\n"
     ]
    },
    {
     "output_type": "display_data",
     "data": {
      "text/plain": [
       "Canvas(toolbar=Toolbar(toolitems=[('Home', 'Reset original view', 'home', 'home'), ('Back', 'Back to previous …"
      ],
      "application/vnd.jupyter.widget-view+json": {
       "model_id": "8915949616554f4b8e0afc931632a540",
       "version_major": 2,
       "version_minor": 0
      }
     },
     "metadata": {}
    },
    {
     "output_type": "display_data",
     "data": {
      "text/plain": [
       "Canvas(toolbar=Toolbar(toolitems=[('Home', 'Reset original view', 'home', 'home'), ('Back', 'Back to previous …"
      ],
      "application/vnd.jupyter.widget-view+json": {
       "model_id": "3fa41c83c8a44b738c02dd5766fa7038",
       "version_major": 2,
       "version_minor": 0
      }
     },
     "metadata": {}
    },
    {
     "output_type": "display_data",
     "data": {
      "text/plain": [
       "Canvas(toolbar=Toolbar(toolitems=[('Home', 'Reset original view', 'home', 'home'), ('Back', 'Back to previous …"
      ],
      "application/vnd.jupyter.widget-view+json": {
       "model_id": "12b8dafae36444afb0b586dad7c0694a",
       "version_major": 2,
       "version_minor": 0
      }
     },
     "metadata": {}
    },
    {
     "output_type": "display_data",
     "data": {
      "text/plain": [
       "Canvas(toolbar=Toolbar(toolitems=[('Home', 'Reset original view', 'home', 'home'), ('Back', 'Back to previous …"
      ],
      "application/vnd.jupyter.widget-view+json": {
       "model_id": "c3f497e23f5e48fa9a6d2a3c90f4b708",
       "version_major": 2,
       "version_minor": 0
      }
     },
     "metadata": {}
    },
    {
     "output_type": "display_data",
     "data": {
      "text/plain": [
       "Canvas(toolbar=Toolbar(toolitems=[('Home', 'Reset original view', 'home', 'home'), ('Back', 'Back to previous …"
      ],
      "application/vnd.jupyter.widget-view+json": {
       "model_id": "f63d6b61d04848988343867148eafe1a",
       "version_major": 2,
       "version_minor": 0
      }
     },
     "metadata": {}
    },
    {
     "output_type": "stream",
     "name": "stdout",
     "text": [
      "P21-1 59.63561543822387 60.200843368256315 -0.5652279300324423\n",
      "\n"
     ]
    },
    {
     "output_type": "display_data",
     "data": {
      "text/plain": [
       "Canvas(toolbar=Toolbar(toolitems=[('Home', 'Reset original view', 'home', 'home'), ('Back', 'Back to previous …"
      ],
      "application/vnd.jupyter.widget-view+json": {
       "model_id": "f6d1e8d1696147beacbed220765e57b1",
       "version_major": 2,
       "version_minor": 0
      }
     },
     "metadata": {}
    },
    {
     "output_type": "display_data",
     "data": {
      "text/plain": [
       "Canvas(toolbar=Toolbar(toolitems=[('Home', 'Reset original view', 'home', 'home'), ('Back', 'Back to previous …"
      ],
      "application/vnd.jupyter.widget-view+json": {
       "model_id": "96e2740790564d07a08e12b2000ed531",
       "version_major": 2,
       "version_minor": 0
      }
     },
     "metadata": {}
    },
    {
     "output_type": "display_data",
     "data": {
      "text/plain": [
       "Canvas(toolbar=Toolbar(toolitems=[('Home', 'Reset original view', 'home', 'home'), ('Back', 'Back to previous …"
      ],
      "application/vnd.jupyter.widget-view+json": {
       "model_id": "25cd15fd497b40f2b27d3a7995903647",
       "version_major": 2,
       "version_minor": 0
      }
     },
     "metadata": {}
    },
    {
     "output_type": "display_data",
     "data": {
      "text/plain": [
       "Canvas(toolbar=Toolbar(toolitems=[('Home', 'Reset original view', 'home', 'home'), ('Back', 'Back to previous …"
      ],
      "application/vnd.jupyter.widget-view+json": {
       "model_id": "90726cc16dd34cf9bb6ce69a8f390cf6",
       "version_major": 2,
       "version_minor": 0
      }
     },
     "metadata": {}
    },
    {
     "output_type": "display_data",
     "data": {
      "text/plain": [
       "Canvas(toolbar=Toolbar(toolitems=[('Home', 'Reset original view', 'home', 'home'), ('Back', 'Back to previous …"
      ],
      "application/vnd.jupyter.widget-view+json": {
       "model_id": "964e97363a5649328ad54ccc5acc15a6",
       "version_major": 2,
       "version_minor": 0
      }
     },
     "metadata": {}
    },
    {
     "output_type": "stream",
     "name": "stdout",
     "text": [
      "P21-2 56.45100644223298 57.271585920735134 -0.8205794785021538\n",
      "\n"
     ]
    },
    {
     "output_type": "display_data",
     "data": {
      "text/plain": [
       "Canvas(toolbar=Toolbar(toolitems=[('Home', 'Reset original view', 'home', 'home'), ('Back', 'Back to previous …"
      ],
      "application/vnd.jupyter.widget-view+json": {
       "model_id": "4006c4a3ba2244e2b879a933989ce297",
       "version_major": 2,
       "version_minor": 0
      }
     },
     "metadata": {}
    },
    {
     "output_type": "display_data",
     "data": {
      "text/plain": [
       "Canvas(toolbar=Toolbar(toolitems=[('Home', 'Reset original view', 'home', 'home'), ('Back', 'Back to previous …"
      ],
      "application/vnd.jupyter.widget-view+json": {
       "model_id": "a6866e81792444479ef0bb375bda264d",
       "version_major": 2,
       "version_minor": 0
      }
     },
     "metadata": {}
    },
    {
     "output_type": "display_data",
     "data": {
      "text/plain": [
       "Canvas(toolbar=Toolbar(toolitems=[('Home', 'Reset original view', 'home', 'home'), ('Back', 'Back to previous …"
      ],
      "application/vnd.jupyter.widget-view+json": {
       "model_id": "7060cc29e6f44a308a95870aca8a171c",
       "version_major": 2,
       "version_minor": 0
      }
     },
     "metadata": {}
    },
    {
     "output_type": "display_data",
     "data": {
      "text/plain": [
       "Canvas(toolbar=Toolbar(toolitems=[('Home', 'Reset original view', 'home', 'home'), ('Back', 'Back to previous …"
      ],
      "application/vnd.jupyter.widget-view+json": {
       "model_id": "559b70ec3f5b4e3fa12caf9085c18294",
       "version_major": 2,
       "version_minor": 0
      }
     },
     "metadata": {}
    },
    {
     "output_type": "display_data",
     "data": {
      "text/plain": [
       "Canvas(toolbar=Toolbar(toolitems=[('Home', 'Reset original view', 'home', 'home'), ('Back', 'Back to previous …"
      ],
      "application/vnd.jupyter.widget-view+json": {
       "model_id": "38fa1687fb484acaabfadc1f99f8b7af",
       "version_major": 2,
       "version_minor": 0
      }
     },
     "metadata": {}
    },
    {
     "output_type": "stream",
     "name": "stdout",
     "text": [
      "P22-1 85.13866916346495 85.16699654661245 -0.028327383147498608\n",
      "\n"
     ]
    },
    {
     "output_type": "display_data",
     "data": {
      "text/plain": [
       "Canvas(toolbar=Toolbar(toolitems=[('Home', 'Reset original view', 'home', 'home'), ('Back', 'Back to previous …"
      ],
      "application/vnd.jupyter.widget-view+json": {
       "model_id": "b5ac8a91c909460f8957550796de09ed",
       "version_major": 2,
       "version_minor": 0
      }
     },
     "metadata": {}
    },
    {
     "output_type": "display_data",
     "data": {
      "text/plain": [
       "Canvas(toolbar=Toolbar(toolitems=[('Home', 'Reset original view', 'home', 'home'), ('Back', 'Back to previous …"
      ],
      "application/vnd.jupyter.widget-view+json": {
       "model_id": "8387c69f4f7247c8ae80dc5d5dfefcef",
       "version_major": 2,
       "version_minor": 0
      }
     },
     "metadata": {}
    },
    {
     "output_type": "display_data",
     "data": {
      "text/plain": [
       "Canvas(toolbar=Toolbar(toolitems=[('Home', 'Reset original view', 'home', 'home'), ('Back', 'Back to previous …"
      ],
      "application/vnd.jupyter.widget-view+json": {
       "model_id": "a6815b08db39454d95a1e85c7aec2d36",
       "version_major": 2,
       "version_minor": 0
      }
     },
     "metadata": {}
    },
    {
     "output_type": "display_data",
     "data": {
      "text/plain": [
       "Canvas(toolbar=Toolbar(toolitems=[('Home', 'Reset original view', 'home', 'home'), ('Back', 'Back to previous …"
      ],
      "application/vnd.jupyter.widget-view+json": {
       "model_id": "303a2249041f409985f8ad7a26f8c3c0",
       "version_major": 2,
       "version_minor": 0
      }
     },
     "metadata": {}
    },
    {
     "output_type": "display_data",
     "data": {
      "text/plain": [
       "Canvas(toolbar=Toolbar(toolitems=[('Home', 'Reset original view', 'home', 'home'), ('Back', 'Back to previous …"
      ],
      "application/vnd.jupyter.widget-view+json": {
       "model_id": "31f668f1d78644c8a3e5989c9a151d83",
       "version_major": 2,
       "version_minor": 0
      }
     },
     "metadata": {}
    },
    {
     "output_type": "stream",
     "name": "stdout",
     "text": [
      "P22-2 81.48015789217199 81.22908427137207 0.25107362079991447\n",
      "\n"
     ]
    },
    {
     "output_type": "display_data",
     "data": {
      "text/plain": [
       "Canvas(toolbar=Toolbar(toolitems=[('Home', 'Reset original view', 'home', 'home'), ('Back', 'Back to previous …"
      ],
      "application/vnd.jupyter.widget-view+json": {
       "model_id": "53fbcbe14b9f43bf97a9eee7ec62bb2d",
       "version_major": 2,
       "version_minor": 0
      }
     },
     "metadata": {}
    },
    {
     "output_type": "display_data",
     "data": {
      "text/plain": [
       "Canvas(toolbar=Toolbar(toolitems=[('Home', 'Reset original view', 'home', 'home'), ('Back', 'Back to previous …"
      ],
      "application/vnd.jupyter.widget-view+json": {
       "model_id": "f94a12f34ec04b518b22beb48fe1edd0",
       "version_major": 2,
       "version_minor": 0
      }
     },
     "metadata": {}
    },
    {
     "output_type": "display_data",
     "data": {
      "text/plain": [
       "Canvas(toolbar=Toolbar(toolitems=[('Home', 'Reset original view', 'home', 'home'), ('Back', 'Back to previous …"
      ],
      "application/vnd.jupyter.widget-view+json": {
       "model_id": "e62613f73fef446790ee79ee4fffd941",
       "version_major": 2,
       "version_minor": 0
      }
     },
     "metadata": {}
    },
    {
     "output_type": "display_data",
     "data": {
      "text/plain": [
       "Canvas(toolbar=Toolbar(toolitems=[('Home', 'Reset original view', 'home', 'home'), ('Back', 'Back to previous …"
      ],
      "application/vnd.jupyter.widget-view+json": {
       "model_id": "47a85f84643d42bf9fae81ddcebdb14c",
       "version_major": 2,
       "version_minor": 0
      }
     },
     "metadata": {}
    },
    {
     "output_type": "display_data",
     "data": {
      "text/plain": [
       "Canvas(toolbar=Toolbar(toolitems=[('Home', 'Reset original view', 'home', 'home'), ('Back', 'Back to previous …"
      ],
      "application/vnd.jupyter.widget-view+json": {
       "model_id": "4dc27719157d4dd385a81ffc6ee35ea9",
       "version_major": 2,
       "version_minor": 0
      }
     },
     "metadata": {}
    },
    {
     "output_type": "stream",
     "name": "stdout",
     "text": [
      "P23-1 84.39700430444627 84.41613017095023 -0.019125866503955535\n",
      "\n"
     ]
    },
    {
     "output_type": "display_data",
     "data": {
      "text/plain": [
       "Canvas(toolbar=Toolbar(toolitems=[('Home', 'Reset original view', 'home', 'home'), ('Back', 'Back to previous …"
      ],
      "application/vnd.jupyter.widget-view+json": {
       "model_id": "64889163fbb64589897d6974460830f8",
       "version_major": 2,
       "version_minor": 0
      }
     },
     "metadata": {}
    },
    {
     "output_type": "display_data",
     "data": {
      "text/plain": [
       "Canvas(toolbar=Toolbar(toolitems=[('Home', 'Reset original view', 'home', 'home'), ('Back', 'Back to previous …"
      ],
      "application/vnd.jupyter.widget-view+json": {
       "model_id": "0f0a2f9ea614455d813765936507b825",
       "version_major": 2,
       "version_minor": 0
      }
     },
     "metadata": {}
    },
    {
     "output_type": "display_data",
     "data": {
      "text/plain": [
       "Canvas(toolbar=Toolbar(toolitems=[('Home', 'Reset original view', 'home', 'home'), ('Back', 'Back to previous …"
      ],
      "application/vnd.jupyter.widget-view+json": {
       "model_id": "2eee1e201a8e4f069a887cc7697ca68e",
       "version_major": 2,
       "version_minor": 0
      }
     },
     "metadata": {}
    },
    {
     "output_type": "display_data",
     "data": {
      "text/plain": [
       "Canvas(toolbar=Toolbar(toolitems=[('Home', 'Reset original view', 'home', 'home'), ('Back', 'Back to previous …"
      ],
      "application/vnd.jupyter.widget-view+json": {
       "model_id": "b534a6f48ef14aaab95cecc662873d1d",
       "version_major": 2,
       "version_minor": 0
      }
     },
     "metadata": {}
    },
    {
     "output_type": "display_data",
     "data": {
      "text/plain": [
       "Canvas(toolbar=Toolbar(toolitems=[('Home', 'Reset original view', 'home', 'home'), ('Back', 'Back to previous …"
      ],
      "application/vnd.jupyter.widget-view+json": {
       "model_id": "06343b4f89504e2980dd48e5549b3565",
       "version_major": 2,
       "version_minor": 0
      }
     },
     "metadata": {}
    },
    {
     "output_type": "stream",
     "name": "stdout",
     "text": [
      "P23-2 85.20593080724876 85.41350389487569 -0.20757308762692617\n",
      "\n"
     ]
    },
    {
     "output_type": "display_data",
     "data": {
      "text/plain": [
       "Canvas(toolbar=Toolbar(toolitems=[('Home', 'Reset original view', 'home', 'home'), ('Back', 'Back to previous …"
      ],
      "application/vnd.jupyter.widget-view+json": {
       "model_id": "c18791a1836d4fe69863939ce54c83f3",
       "version_major": 2,
       "version_minor": 0
      }
     },
     "metadata": {}
    },
    {
     "output_type": "display_data",
     "data": {
      "text/plain": [
       "Canvas(toolbar=Toolbar(toolitems=[('Home', 'Reset original view', 'home', 'home'), ('Back', 'Back to previous …"
      ],
      "application/vnd.jupyter.widget-view+json": {
       "model_id": "c988452b754d4b46bd507ec1128485d7",
       "version_major": 2,
       "version_minor": 0
      }
     },
     "metadata": {}
    },
    {
     "output_type": "display_data",
     "data": {
      "text/plain": [
       "Canvas(toolbar=Toolbar(toolitems=[('Home', 'Reset original view', 'home', 'home'), ('Back', 'Back to previous …"
      ],
      "application/vnd.jupyter.widget-view+json": {
       "model_id": "475868f2abd444f39855c02649a39b52",
       "version_major": 2,
       "version_minor": 0
      }
     },
     "metadata": {}
    },
    {
     "output_type": "display_data",
     "data": {
      "text/plain": [
       "Canvas(toolbar=Toolbar(toolitems=[('Home', 'Reset original view', 'home', 'home'), ('Back', 'Back to previous …"
      ],
      "application/vnd.jupyter.widget-view+json": {
       "model_id": "ae78bf83eb3f4fb3b1a3b3e01804e493",
       "version_major": 2,
       "version_minor": 0
      }
     },
     "metadata": {}
    },
    {
     "output_type": "display_data",
     "data": {
      "text/plain": [
       "Canvas(toolbar=Toolbar(toolitems=[('Home', 'Reset original view', 'home', 'home'), ('Back', 'Back to previous …"
      ],
      "application/vnd.jupyter.widget-view+json": {
       "model_id": "56402b4dcb074f96bf2e17f632b661c9",
       "version_major": 2,
       "version_minor": 0
      }
     },
     "metadata": {}
    },
    {
     "output_type": "stream",
     "name": "stdout",
     "text": [
      "P24-1 48.98084920675669 52.311369438861426 -3.330520232104739\n",
      "\n"
     ]
    },
    {
     "output_type": "display_data",
     "data": {
      "text/plain": [
       "Canvas(toolbar=Toolbar(toolitems=[('Home', 'Reset original view', 'home', 'home'), ('Back', 'Back to previous …"
      ],
      "application/vnd.jupyter.widget-view+json": {
       "model_id": "72016d34c5004ccf8803cb1124c4bf9c",
       "version_major": 2,
       "version_minor": 0
      }
     },
     "metadata": {}
    },
    {
     "output_type": "display_data",
     "data": {
      "text/plain": [
       "Canvas(toolbar=Toolbar(toolitems=[('Home', 'Reset original view', 'home', 'home'), ('Back', 'Back to previous …"
      ],
      "application/vnd.jupyter.widget-view+json": {
       "model_id": "9fc41b12bbb54f128b99394ed4688b31",
       "version_major": 2,
       "version_minor": 0
      }
     },
     "metadata": {}
    },
    {
     "output_type": "display_data",
     "data": {
      "text/plain": [
       "Canvas(toolbar=Toolbar(toolitems=[('Home', 'Reset original view', 'home', 'home'), ('Back', 'Back to previous …"
      ],
      "application/vnd.jupyter.widget-view+json": {
       "model_id": "0d2b86a0c39841cfb9045e6426c1c45f",
       "version_major": 2,
       "version_minor": 0
      }
     },
     "metadata": {}
    },
    {
     "output_type": "display_data",
     "data": {
      "text/plain": [
       "Canvas(toolbar=Toolbar(toolitems=[('Home', 'Reset original view', 'home', 'home'), ('Back', 'Back to previous …"
      ],
      "application/vnd.jupyter.widget-view+json": {
       "model_id": "3dcd9058804147b893228aa586e0569c",
       "version_major": 2,
       "version_minor": 0
      }
     },
     "metadata": {}
    },
    {
     "output_type": "display_data",
     "data": {
      "text/plain": [
       "Canvas(toolbar=Toolbar(toolitems=[('Home', 'Reset original view', 'home', 'home'), ('Back', 'Back to previous …"
      ],
      "application/vnd.jupyter.widget-view+json": {
       "model_id": "0157a1ac502141578928c18652a0936f",
       "version_major": 2,
       "version_minor": 0
      }
     },
     "metadata": {}
    },
    {
     "output_type": "stream",
     "name": "stdout",
     "text": [
      "P24-2 48.66163807489487 49.887336638125284 -1.2256985632304165\n",
      "\n"
     ]
    },
    {
     "output_type": "display_data",
     "data": {
      "text/plain": [
       "Canvas(toolbar=Toolbar(toolitems=[('Home', 'Reset original view', 'home', 'home'), ('Back', 'Back to previous …"
      ],
      "application/vnd.jupyter.widget-view+json": {
       "model_id": "6520b57f470144ddbcc14aab9eec7dfe",
       "version_major": 2,
       "version_minor": 0
      }
     },
     "metadata": {}
    },
    {
     "output_type": "display_data",
     "data": {
      "text/plain": [
       "Canvas(toolbar=Toolbar(toolitems=[('Home', 'Reset original view', 'home', 'home'), ('Back', 'Back to previous …"
      ],
      "application/vnd.jupyter.widget-view+json": {
       "model_id": "4e86dfb153aa40cda6fc5dcd3cf93266",
       "version_major": 2,
       "version_minor": 0
      }
     },
     "metadata": {}
    },
    {
     "output_type": "display_data",
     "data": {
      "text/plain": [
       "Canvas(toolbar=Toolbar(toolitems=[('Home', 'Reset original view', 'home', 'home'), ('Back', 'Back to previous …"
      ],
      "application/vnd.jupyter.widget-view+json": {
       "model_id": "a1efd19600d543d6bd9368075e9669f1",
       "version_major": 2,
       "version_minor": 0
      }
     },
     "metadata": {}
    },
    {
     "output_type": "display_data",
     "data": {
      "text/plain": [
       "Canvas(toolbar=Toolbar(toolitems=[('Home', 'Reset original view', 'home', 'home'), ('Back', 'Back to previous …"
      ],
      "application/vnd.jupyter.widget-view+json": {
       "model_id": "7fcf26ae1c304e109f972c90558bcb39",
       "version_major": 2,
       "version_minor": 0
      }
     },
     "metadata": {}
    },
    {
     "output_type": "display_data",
     "data": {
      "text/plain": [
       "Canvas(toolbar=Toolbar(toolitems=[('Home', 'Reset original view', 'home', 'home'), ('Back', 'Back to previous …"
      ],
      "application/vnd.jupyter.widget-view+json": {
       "model_id": "4ee4038b28584a1a95bc2992086b1ad5",
       "version_major": 2,
       "version_minor": 0
      }
     },
     "metadata": {}
    },
    {
     "output_type": "stream",
     "name": "stdout",
     "text": [
      "P25-1 91.64259388385297 91.73564031110926 -0.09304642725629719\n",
      "\n"
     ]
    },
    {
     "output_type": "display_data",
     "data": {
      "text/plain": [
       "Canvas(toolbar=Toolbar(toolitems=[('Home', 'Reset original view', 'home', 'home'), ('Back', 'Back to previous …"
      ],
      "application/vnd.jupyter.widget-view+json": {
       "model_id": "8d4a7318377540eb8483b492c5f634c6",
       "version_major": 2,
       "version_minor": 0
      }
     },
     "metadata": {}
    },
    {
     "output_type": "display_data",
     "data": {
      "text/plain": [
       "Canvas(toolbar=Toolbar(toolitems=[('Home', 'Reset original view', 'home', 'home'), ('Back', 'Back to previous …"
      ],
      "application/vnd.jupyter.widget-view+json": {
       "model_id": "f68554136d9644c7a793e1715c57b473",
       "version_major": 2,
       "version_minor": 0
      }
     },
     "metadata": {}
    },
    {
     "output_type": "display_data",
     "data": {
      "text/plain": [
       "Canvas(toolbar=Toolbar(toolitems=[('Home', 'Reset original view', 'home', 'home'), ('Back', 'Back to previous …"
      ],
      "application/vnd.jupyter.widget-view+json": {
       "model_id": "5ca62163e68f44cabd5c85aae2df8ef1",
       "version_major": 2,
       "version_minor": 0
      }
     },
     "metadata": {}
    },
    {
     "output_type": "display_data",
     "data": {
      "text/plain": [
       "Canvas(toolbar=Toolbar(toolitems=[('Home', 'Reset original view', 'home', 'home'), ('Back', 'Back to previous …"
      ],
      "application/vnd.jupyter.widget-view+json": {
       "model_id": "939786f054154ff5a94af360867f0580",
       "version_major": 2,
       "version_minor": 0
      }
     },
     "metadata": {}
    },
    {
     "output_type": "display_data",
     "data": {
      "text/plain": [
       "Canvas(toolbar=Toolbar(toolitems=[('Home', 'Reset original view', 'home', 'home'), ('Back', 'Back to previous …"
      ],
      "application/vnd.jupyter.widget-view+json": {
       "model_id": "44b9af6392b6418f9f158fec2e6f21a8",
       "version_major": 2,
       "version_minor": 0
      }
     },
     "metadata": {}
    },
    {
     "output_type": "stream",
     "name": "stdout",
     "text": [
      "P25-2 87.43314840845386 87.27825646224024 0.154891946213624\n",
      "\n"
     ]
    },
    {
     "output_type": "display_data",
     "data": {
      "text/plain": [
       "Canvas(toolbar=Toolbar(toolitems=[('Home', 'Reset original view', 'home', 'home'), ('Back', 'Back to previous …"
      ],
      "application/vnd.jupyter.widget-view+json": {
       "model_id": "899d364d00de43b89364c460473fc9d9",
       "version_major": 2,
       "version_minor": 0
      }
     },
     "metadata": {}
    },
    {
     "output_type": "display_data",
     "data": {
      "text/plain": [
       "Canvas(toolbar=Toolbar(toolitems=[('Home', 'Reset original view', 'home', 'home'), ('Back', 'Back to previous …"
      ],
      "application/vnd.jupyter.widget-view+json": {
       "model_id": "1231964fec3e407c95f46a74c4af4c88",
       "version_major": 2,
       "version_minor": 0
      }
     },
     "metadata": {}
    },
    {
     "output_type": "display_data",
     "data": {
      "text/plain": [
       "Canvas(toolbar=Toolbar(toolitems=[('Home', 'Reset original view', 'home', 'home'), ('Back', 'Back to previous …"
      ],
      "application/vnd.jupyter.widget-view+json": {
       "model_id": "cca68612197443fe9592496623b3af1c",
       "version_major": 2,
       "version_minor": 0
      }
     },
     "metadata": {}
    },
    {
     "output_type": "display_data",
     "data": {
      "text/plain": [
       "Canvas(toolbar=Toolbar(toolitems=[('Home', 'Reset original view', 'home', 'home'), ('Back', 'Back to previous …"
      ],
      "application/vnd.jupyter.widget-view+json": {
       "model_id": "64a3fb1bde4e49a98cb7b612275ce669",
       "version_major": 2,
       "version_minor": 0
      }
     },
     "metadata": {}
    },
    {
     "output_type": "display_data",
     "data": {
      "text/plain": [
       "Canvas(toolbar=Toolbar(toolitems=[('Home', 'Reset original view', 'home', 'home'), ('Back', 'Back to previous …"
      ],
      "application/vnd.jupyter.widget-view+json": {
       "model_id": "7509f8265e0048c2935c3b21dacf5e12",
       "version_major": 2,
       "version_minor": 0
      }
     },
     "metadata": {}
    },
    {
     "output_type": "stream",
     "name": "stdout",
     "text": [
      "P26-1 68.92469801678935 68.90369718905389 0.02100082773546319\n",
      "\n"
     ]
    },
    {
     "output_type": "display_data",
     "data": {
      "text/plain": [
       "Canvas(toolbar=Toolbar(toolitems=[('Home', 'Reset original view', 'home', 'home'), ('Back', 'Back to previous …"
      ],
      "application/vnd.jupyter.widget-view+json": {
       "model_id": "69b24880ff4a4cf6a73e0980c1cbc673",
       "version_major": 2,
       "version_minor": 0
      }
     },
     "metadata": {}
    },
    {
     "output_type": "display_data",
     "data": {
      "text/plain": [
       "Canvas(toolbar=Toolbar(toolitems=[('Home', 'Reset original view', 'home', 'home'), ('Back', 'Back to previous …"
      ],
      "application/vnd.jupyter.widget-view+json": {
       "model_id": "d1f328c58c734f78bb10e03543cc415f",
       "version_major": 2,
       "version_minor": 0
      }
     },
     "metadata": {}
    },
    {
     "output_type": "display_data",
     "data": {
      "text/plain": [
       "Canvas(toolbar=Toolbar(toolitems=[('Home', 'Reset original view', 'home', 'home'), ('Back', 'Back to previous …"
      ],
      "application/vnd.jupyter.widget-view+json": {
       "model_id": "c6a9e7a92ae44ca98da5adc181f2f604",
       "version_major": 2,
       "version_minor": 0
      }
     },
     "metadata": {}
    },
    {
     "output_type": "display_data",
     "data": {
      "text/plain": [
       "Canvas(toolbar=Toolbar(toolitems=[('Home', 'Reset original view', 'home', 'home'), ('Back', 'Back to previous …"
      ],
      "application/vnd.jupyter.widget-view+json": {
       "model_id": "fad004219e07445c9649cd1f113dcfde",
       "version_major": 2,
       "version_minor": 0
      }
     },
     "metadata": {}
    },
    {
     "output_type": "display_data",
     "data": {
      "text/plain": [
       "Canvas(toolbar=Toolbar(toolitems=[('Home', 'Reset original view', 'home', 'home'), ('Back', 'Back to previous …"
      ],
      "application/vnd.jupyter.widget-view+json": {
       "model_id": "37521fa3ce744271a4682aea47e9236c",
       "version_major": 2,
       "version_minor": 0
      }
     },
     "metadata": {}
    },
    {
     "output_type": "stream",
     "name": "stdout",
     "text": [
      "P26-2 64.78043570767036 65.68231208237708 -0.9018763747067169\n",
      "\n"
     ]
    },
    {
     "output_type": "display_data",
     "data": {
      "text/plain": [
       "Canvas(toolbar=Toolbar(toolitems=[('Home', 'Reset original view', 'home', 'home'), ('Back', 'Back to previous …"
      ],
      "application/vnd.jupyter.widget-view+json": {
       "model_id": "4ae0f7c51dcb473485c0d943e39e0b98",
       "version_major": 2,
       "version_minor": 0
      }
     },
     "metadata": {}
    },
    {
     "output_type": "display_data",
     "data": {
      "text/plain": [
       "Canvas(toolbar=Toolbar(toolitems=[('Home', 'Reset original view', 'home', 'home'), ('Back', 'Back to previous …"
      ],
      "application/vnd.jupyter.widget-view+json": {
       "model_id": "e80c3e9256a44211b93e8dafac329eb1",
       "version_major": 2,
       "version_minor": 0
      }
     },
     "metadata": {}
    },
    {
     "output_type": "display_data",
     "data": {
      "text/plain": [
       "Canvas(toolbar=Toolbar(toolitems=[('Home', 'Reset original view', 'home', 'home'), ('Back', 'Back to previous …"
      ],
      "application/vnd.jupyter.widget-view+json": {
       "model_id": "a58ce57472574e07851e517849556a31",
       "version_major": 2,
       "version_minor": 0
      }
     },
     "metadata": {}
    },
    {
     "output_type": "display_data",
     "data": {
      "text/plain": [
       "Canvas(toolbar=Toolbar(toolitems=[('Home', 'Reset original view', 'home', 'home'), ('Back', 'Back to previous …"
      ],
      "application/vnd.jupyter.widget-view+json": {
       "model_id": "c5da0d47ce884cb89bf7565c9ab58a0a",
       "version_major": 2,
       "version_minor": 0
      }
     },
     "metadata": {}
    },
    {
     "output_type": "display_data",
     "data": {
      "text/plain": [
       "Canvas(toolbar=Toolbar(toolitems=[('Home', 'Reset original view', 'home', 'home'), ('Back', 'Back to previous …"
      ],
      "application/vnd.jupyter.widget-view+json": {
       "model_id": "446dc85766a14089874f6e6cacb6d3f7",
       "version_major": 2,
       "version_minor": 0
      }
     },
     "metadata": {}
    },
    {
     "output_type": "stream",
     "name": "stdout",
     "text": [
      "P27-1 85.74088288611978 85.76233183856502 -0.021448952445240366\n",
      "\n"
     ]
    },
    {
     "output_type": "display_data",
     "data": {
      "text/plain": [
       "Canvas(toolbar=Toolbar(toolitems=[('Home', 'Reset original view', 'home', 'home'), ('Back', 'Back to previous …"
      ],
      "application/vnd.jupyter.widget-view+json": {
       "model_id": "1176068980ce4328a9fcad3c2f455c50",
       "version_major": 2,
       "version_minor": 0
      }
     },
     "metadata": {}
    },
    {
     "output_type": "display_data",
     "data": {
      "text/plain": [
       "Canvas(toolbar=Toolbar(toolitems=[('Home', 'Reset original view', 'home', 'home'), ('Back', 'Back to previous …"
      ],
      "application/vnd.jupyter.widget-view+json": {
       "model_id": "f9774b79ab704dc59a27a4eaeeeb4548",
       "version_major": 2,
       "version_minor": 0
      }
     },
     "metadata": {}
    },
    {
     "output_type": "display_data",
     "data": {
      "text/plain": [
       "Canvas(toolbar=Toolbar(toolitems=[('Home', 'Reset original view', 'home', 'home'), ('Back', 'Back to previous …"
      ],
      "application/vnd.jupyter.widget-view+json": {
       "model_id": "3494e88843c54afbb43e4bd99033cc96",
       "version_major": 2,
       "version_minor": 0
      }
     },
     "metadata": {}
    },
    {
     "output_type": "display_data",
     "data": {
      "text/plain": [
       "Canvas(toolbar=Toolbar(toolitems=[('Home', 'Reset original view', 'home', 'home'), ('Back', 'Back to previous …"
      ],
      "application/vnd.jupyter.widget-view+json": {
       "model_id": "c73040e78c7c4027a455e272169f3c85",
       "version_major": 2,
       "version_minor": 0
      }
     },
     "metadata": {}
    },
    {
     "output_type": "display_data",
     "data": {
      "text/plain": [
       "Canvas(toolbar=Toolbar(toolitems=[('Home', 'Reset original view', 'home', 'home'), ('Back', 'Back to previous …"
      ],
      "application/vnd.jupyter.widget-view+json": {
       "model_id": "82ca4ef50d874af3a5ed315009546b9e",
       "version_major": 2,
       "version_minor": 0
      }
     },
     "metadata": {}
    },
    {
     "output_type": "stream",
     "name": "stdout",
     "text": [
      "P27-2 83.19868095630669 81.38376405910525 1.8149168972014422\n",
      "\n"
     ]
    },
    {
     "output_type": "display_data",
     "data": {
      "text/plain": [
       "Canvas(toolbar=Toolbar(toolitems=[('Home', 'Reset original view', 'home', 'home'), ('Back', 'Back to previous …"
      ],
      "application/vnd.jupyter.widget-view+json": {
       "model_id": "9d0ada77e9a54a06ab9d58a9acd4a542",
       "version_major": 2,
       "version_minor": 0
      }
     },
     "metadata": {}
    },
    {
     "output_type": "display_data",
     "data": {
      "text/plain": [
       "Canvas(toolbar=Toolbar(toolitems=[('Home', 'Reset original view', 'home', 'home'), ('Back', 'Back to previous …"
      ],
      "application/vnd.jupyter.widget-view+json": {
       "model_id": "476cb3622c0044688480e051d9a84e6c",
       "version_major": 2,
       "version_minor": 0
      }
     },
     "metadata": {}
    },
    {
     "output_type": "display_data",
     "data": {
      "text/plain": [
       "Canvas(toolbar=Toolbar(toolitems=[('Home', 'Reset original view', 'home', 'home'), ('Back', 'Back to previous …"
      ],
      "application/vnd.jupyter.widget-view+json": {
       "model_id": "7d4c502fd8ae422387a461c2c911143d",
       "version_major": 2,
       "version_minor": 0
      }
     },
     "metadata": {}
    },
    {
     "output_type": "display_data",
     "data": {
      "text/plain": [
       "Canvas(toolbar=Toolbar(toolitems=[('Home', 'Reset original view', 'home', 'home'), ('Back', 'Back to previous …"
      ],
      "application/vnd.jupyter.widget-view+json": {
       "model_id": "afb1e3df464541d187038bda2a96f6b8",
       "version_major": 2,
       "version_minor": 0
      }
     },
     "metadata": {}
    },
    {
     "output_type": "display_data",
     "data": {
      "text/plain": [
       "Canvas(toolbar=Toolbar(toolitems=[('Home', 'Reset original view', 'home', 'home'), ('Back', 'Back to previous …"
      ],
      "application/vnd.jupyter.widget-view+json": {
       "model_id": "d2bd8ab6b6634c1d8c68ea2e9162b47f",
       "version_major": 2,
       "version_minor": 0
      }
     },
     "metadata": {}
    },
    {
     "output_type": "stream",
     "name": "stdout",
     "text": [
      "P28-1 85.03091279773251 83.41767787429511 1.6132349234374033\n",
      "\n"
     ]
    },
    {
     "output_type": "display_data",
     "data": {
      "text/plain": [
       "Canvas(toolbar=Toolbar(toolitems=[('Home', 'Reset original view', 'home', 'home'), ('Back', 'Back to previous …"
      ],
      "application/vnd.jupyter.widget-view+json": {
       "model_id": "73c8aec08a184e08b242ce9fb025577b",
       "version_major": 2,
       "version_minor": 0
      }
     },
     "metadata": {}
    },
    {
     "output_type": "display_data",
     "data": {
      "text/plain": [
       "Canvas(toolbar=Toolbar(toolitems=[('Home', 'Reset original view', 'home', 'home'), ('Back', 'Back to previous …"
      ],
      "application/vnd.jupyter.widget-view+json": {
       "model_id": "6540cffbcfa646d08d0ca67ecc8ff076",
       "version_major": 2,
       "version_minor": 0
      }
     },
     "metadata": {}
    },
    {
     "output_type": "display_data",
     "data": {
      "text/plain": [
       "Canvas(toolbar=Toolbar(toolitems=[('Home', 'Reset original view', 'home', 'home'), ('Back', 'Back to previous …"
      ],
      "application/vnd.jupyter.widget-view+json": {
       "model_id": "29252b367acb4e12aa825a8982ea610c",
       "version_major": 2,
       "version_minor": 0
      }
     },
     "metadata": {}
    },
    {
     "output_type": "display_data",
     "data": {
      "text/plain": [
       "Canvas(toolbar=Toolbar(toolitems=[('Home', 'Reset original view', 'home', 'home'), ('Back', 'Back to previous …"
      ],
      "application/vnd.jupyter.widget-view+json": {
       "model_id": "53cce3ee10b54b4695133a5d71169d5d",
       "version_major": 2,
       "version_minor": 0
      }
     },
     "metadata": {}
    },
    {
     "output_type": "display_data",
     "data": {
      "text/plain": [
       "Canvas(toolbar=Toolbar(toolitems=[('Home', 'Reset original view', 'home', 'home'), ('Back', 'Back to previous …"
      ],
      "application/vnd.jupyter.widget-view+json": {
       "model_id": "6a31927d938d458f8ef301403d096319",
       "version_major": 2,
       "version_minor": 0
      }
     },
     "metadata": {}
    },
    {
     "output_type": "stream",
     "name": "stdout",
     "text": [
      "P28-2 85.0392916711615 83.31338281062963 1.7259088605318595\n",
      "\n"
     ]
    },
    {
     "output_type": "display_data",
     "data": {
      "text/plain": [
       "Canvas(toolbar=Toolbar(toolitems=[('Home', 'Reset original view', 'home', 'home'), ('Back', 'Back to previous …"
      ],
      "application/vnd.jupyter.widget-view+json": {
       "model_id": "8603cba9a4a8497689918a2035fce893",
       "version_major": 2,
       "version_minor": 0
      }
     },
     "metadata": {}
    },
    {
     "output_type": "display_data",
     "data": {
      "text/plain": [
       "Canvas(toolbar=Toolbar(toolitems=[('Home', 'Reset original view', 'home', 'home'), ('Back', 'Back to previous …"
      ],
      "application/vnd.jupyter.widget-view+json": {
       "model_id": "4f8d2978a4ee4339975211e8565602a6",
       "version_major": 2,
       "version_minor": 0
      }
     },
     "metadata": {}
    },
    {
     "output_type": "display_data",
     "data": {
      "text/plain": [
       "Canvas(toolbar=Toolbar(toolitems=[('Home', 'Reset original view', 'home', 'home'), ('Back', 'Back to previous …"
      ],
      "application/vnd.jupyter.widget-view+json": {
       "model_id": "3b55c19275a54c0fab9273f38fe54a76",
       "version_major": 2,
       "version_minor": 0
      }
     },
     "metadata": {}
    },
    {
     "output_type": "display_data",
     "data": {
      "text/plain": [
       "Canvas(toolbar=Toolbar(toolitems=[('Home', 'Reset original view', 'home', 'home'), ('Back', 'Back to previous …"
      ],
      "application/vnd.jupyter.widget-view+json": {
       "model_id": "55bd4a9f972a4a4dbe22d6e0a39cd709",
       "version_major": 2,
       "version_minor": 0
      }
     },
     "metadata": {}
    },
    {
     "output_type": "display_data",
     "data": {
      "text/plain": [
       "Canvas(toolbar=Toolbar(toolitems=[('Home', 'Reset original view', 'home', 'home'), ('Back', 'Back to previous …"
      ],
      "application/vnd.jupyter.widget-view+json": {
       "model_id": "aff572a746084afab7a523ea823e4efc",
       "version_major": 2,
       "version_minor": 0
      }
     },
     "metadata": {}
    },
    {
     "output_type": "stream",
     "name": "stdout",
     "text": [
      "P29-1 81.16555590467843 81.17555345063161 -0.009997545953183362\n",
      "\n"
     ]
    },
    {
     "output_type": "display_data",
     "data": {
      "text/plain": [
       "Canvas(toolbar=Toolbar(toolitems=[('Home', 'Reset original view', 'home', 'home'), ('Back', 'Back to previous …"
      ],
      "application/vnd.jupyter.widget-view+json": {
       "model_id": "6a41cbbe394f40089899058ce4996117",
       "version_major": 2,
       "version_minor": 0
      }
     },
     "metadata": {}
    },
    {
     "output_type": "display_data",
     "data": {
      "text/plain": [
       "Canvas(toolbar=Toolbar(toolitems=[('Home', 'Reset original view', 'home', 'home'), ('Back', 'Back to previous …"
      ],
      "application/vnd.jupyter.widget-view+json": {
       "model_id": "da4ca6e2cd6c4ab0b11996696794603e",
       "version_major": 2,
       "version_minor": 0
      }
     },
     "metadata": {}
    },
    {
     "output_type": "display_data",
     "data": {
      "text/plain": [
       "Canvas(toolbar=Toolbar(toolitems=[('Home', 'Reset original view', 'home', 'home'), ('Back', 'Back to previous …"
      ],
      "application/vnd.jupyter.widget-view+json": {
       "model_id": "b9118daba72a412cb2cd4c36056a232c",
       "version_major": 2,
       "version_minor": 0
      }
     },
     "metadata": {}
    },
    {
     "output_type": "display_data",
     "data": {
      "text/plain": [
       "Canvas(toolbar=Toolbar(toolitems=[('Home', 'Reset original view', 'home', 'home'), ('Back', 'Back to previous …"
      ],
      "application/vnd.jupyter.widget-view+json": {
       "model_id": "580f55151726444d8759ce58686addfc",
       "version_major": 2,
       "version_minor": 0
      }
     },
     "metadata": {}
    },
    {
     "output_type": "display_data",
     "data": {
      "text/plain": [
       "Canvas(toolbar=Toolbar(toolitems=[('Home', 'Reset original view', 'home', 'home'), ('Back', 'Back to previous …"
      ],
      "application/vnd.jupyter.widget-view+json": {
       "model_id": "a5cb9377e7244850a427a04d3d359ae2",
       "version_major": 2,
       "version_minor": 0
      }
     },
     "metadata": {}
    },
    {
     "output_type": "stream",
     "name": "stdout",
     "text": [
      "P29-2 78.89874660851908 78.90405408827327 -0.005307479754193878\n",
      "\n"
     ]
    },
    {
     "output_type": "display_data",
     "data": {
      "text/plain": [
       "Canvas(toolbar=Toolbar(toolitems=[('Home', 'Reset original view', 'home', 'home'), ('Back', 'Back to previous …"
      ],
      "application/vnd.jupyter.widget-view+json": {
       "model_id": "da80418132be4751ae5685346864bbf9",
       "version_major": 2,
       "version_minor": 0
      }
     },
     "metadata": {}
    },
    {
     "output_type": "display_data",
     "data": {
      "text/plain": [
       "Canvas(toolbar=Toolbar(toolitems=[('Home', 'Reset original view', 'home', 'home'), ('Back', 'Back to previous …"
      ],
      "application/vnd.jupyter.widget-view+json": {
       "model_id": "0e67caf697154d43bbfa1f923100538d",
       "version_major": 2,
       "version_minor": 0
      }
     },
     "metadata": {}
    },
    {
     "output_type": "display_data",
     "data": {
      "text/plain": [
       "Canvas(toolbar=Toolbar(toolitems=[('Home', 'Reset original view', 'home', 'home'), ('Back', 'Back to previous …"
      ],
      "application/vnd.jupyter.widget-view+json": {
       "model_id": "a469803252fe4f38992e763258757107",
       "version_major": 2,
       "version_minor": 0
      }
     },
     "metadata": {}
    },
    {
     "output_type": "display_data",
     "data": {
      "text/plain": [
       "Canvas(toolbar=Toolbar(toolitems=[('Home', 'Reset original view', 'home', 'home'), ('Back', 'Back to previous …"
      ],
      "application/vnd.jupyter.widget-view+json": {
       "model_id": "44f9b973915141aebc9e79dc55244d86",
       "version_major": 2,
       "version_minor": 0
      }
     },
     "metadata": {}
    },
    {
     "output_type": "display_data",
     "data": {
      "text/plain": [
       "Canvas(toolbar=Toolbar(toolitems=[('Home', 'Reset original view', 'home', 'home'), ('Back', 'Back to previous …"
      ],
      "application/vnd.jupyter.widget-view+json": {
       "model_id": "b8f73e2346714a4b94fb8ff5c3dc10a3",
       "version_major": 2,
       "version_minor": 0
      }
     },
     "metadata": {}
    },
    {
     "output_type": "stream",
     "name": "stdout",
     "text": [
      "P30-1 50.376431026912414 64.44543646767582 -14.069005440763405\n",
      "\n"
     ]
    },
    {
     "output_type": "display_data",
     "data": {
      "text/plain": [
       "Canvas(toolbar=Toolbar(toolitems=[('Home', 'Reset original view', 'home', 'home'), ('Back', 'Back to previous …"
      ],
      "application/vnd.jupyter.widget-view+json": {
       "model_id": "85e49a0b58724a90bdec5b7c383dbf8b",
       "version_major": 2,
       "version_minor": 0
      }
     },
     "metadata": {}
    },
    {
     "output_type": "display_data",
     "data": {
      "text/plain": [
       "Canvas(toolbar=Toolbar(toolitems=[('Home', 'Reset original view', 'home', 'home'), ('Back', 'Back to previous …"
      ],
      "application/vnd.jupyter.widget-view+json": {
       "model_id": "928020270fba405e8da845c9937385a5",
       "version_major": 2,
       "version_minor": 0
      }
     },
     "metadata": {}
    },
    {
     "output_type": "display_data",
     "data": {
      "text/plain": [
       "Canvas(toolbar=Toolbar(toolitems=[('Home', 'Reset original view', 'home', 'home'), ('Back', 'Back to previous …"
      ],
      "application/vnd.jupyter.widget-view+json": {
       "model_id": "11fafdef469d42adb0d08558bf409b36",
       "version_major": 2,
       "version_minor": 0
      }
     },
     "metadata": {}
    },
    {
     "output_type": "display_data",
     "data": {
      "text/plain": [
       "Canvas(toolbar=Toolbar(toolitems=[('Home', 'Reset original view', 'home', 'home'), ('Back', 'Back to previous …"
      ],
      "application/vnd.jupyter.widget-view+json": {
       "model_id": "bddadbab08be4c80880dc9811e24d15a",
       "version_major": 2,
       "version_minor": 0
      }
     },
     "metadata": {}
    },
    {
     "output_type": "display_data",
     "data": {
      "text/plain": [
       "Canvas(toolbar=Toolbar(toolitems=[('Home', 'Reset original view', 'home', 'home'), ('Back', 'Back to previous …"
      ],
      "application/vnd.jupyter.widget-view+json": {
       "model_id": "dee7c2a3ba784052bd8c3ac96dae9efc",
       "version_major": 2,
       "version_minor": 0
      }
     },
     "metadata": {}
    },
    {
     "output_type": "stream",
     "name": "stdout",
     "text": [
      "P30-2 41.993757684668495 71.93223226539207 -29.93847458072358\n"
     ]
    }
   ],
   "metadata": {
    "collapsed": true,
    "jupyter": {
     "outputs_hidden": true
    },
    "tags": []
   }
  },
  {
   "cell_type": "code",
   "execution_count": 41,
   "source": [
    "#######################################################\n",
    "# Calculate SQI\n",
    "#######################################################\n",
    "list_SQI_approved = []\n",
    "good_seg = []\n",
    "\n",
    "for part in range(7,31):\n",
    "    for exp in range(1,3):\n",
    "        s = \"P{}-{}\".format(part, exp)\n",
    "\n",
    "        if s == \"P18-2\":\n",
    "            continue\n",
    "        \n",
    "        try:\n",
    "            wd, m = np.load(saved_path + \"/CVA_analysis/Extraction_all/{}_EM.npy\".format(s), allow_pickle=True)\n",
    "        except:\n",
    "            continue\n",
    "\n",
    "        data_all = wd[\"hr\"]\n",
    "\n",
    "        peaks_all = list(wd[\"peaklist\"])\n",
    "        rejected_peaks = list(wd[\"removed_beats\"])\n",
    "\n",
    "        for p in rejected_peaks:\n",
    "            peaks_all.remove(p)\n",
    "\n",
    "        peaks_all = np.array(peaks_all)\n",
    "\n",
    "        R2_all = []\n",
    "        SQI_all = []\n",
    "        \n",
    "        fs = 200\n",
    "\n",
    "        for i in range(0, data_all.shape[0], 10*fs):\n",
    "            data = np.array(data_all[i:i+10*fs])\n",
    "\n",
    "            peaks = np.copy(peaks_all[np.where((peaks_all<i+10*fs)&(peaks_all>i))[0]])\n",
    "            peaks -= i\n",
    "\n",
    "            R2, SQI = sqi_calculator(data, peaks, fs, 0.86, 10, verbose=0)\n",
    "\n",
    "            R2_all.append(R2)\n",
    "            SQI_all.append(SQI)\n",
    "\n",
    "        SQI_all = np.array(SQI_all)\n",
    "        R2_all = np.array(R2_all)\n",
    "\n",
    "        print(\"{} : SQI>0.86 : {}/{} -> {:.0f}%\".format(s, np.sum(SQI_all==1), len(SQI_all), np.sum(SQI_all==1)/len(SQI_all)*100))\n",
    "        \n",
    "        if np.sum(SQI_all==1)/len(SQI_all)*100 > 50:\n",
    "            good_seg.append(np.sum(SQI_all==1)/len(SQI_all)*100)\n",
    "            list_SQI_approved.append(s)\n",
    "            \n",
    "np.save(saved_path + \"/CVA_analysis/List_SQI_approved.npy\", list_SQI_approved)"
   ],
   "outputs": [
    {
     "output_type": "stream",
     "name": "stdout",
     "text": [
      "P7-1 : SQI>0.86 : 54/63 -> 86%\n",
      "P7-2 : SQI>0.86 : 58/62 -> 94%\n",
      "P8-1 : SQI>0.86 : 47/73 -> 64%\n",
      "P8-2 : SQI>0.86 : 5/19 -> 26%\n",
      "P9-1 : SQI>0.86 : 46/66 -> 70%\n",
      "P9-2 : SQI>0.86 : 60/63 -> 95%\n",
      "P10-1 : SQI>0.86 : 62/62 -> 100%\n",
      "P10-2 : SQI>0.86 : 70/80 -> 88%\n",
      "P11-1 : SQI>0.86 : 61/62 -> 98%\n",
      "P11-2 : SQI>0.86 : 59/61 -> 97%\n",
      "P12-1 : SQI>0.86 : 60/62 -> 97%\n",
      "P12-2 : SQI>0.86 : 61/61 -> 100%\n",
      "P13-1 : SQI>0.86 : 58/62 -> 94%\n",
      "P13-2 : SQI>0.86 : 54/60 -> 90%\n",
      "P14-1 : SQI>0.86 : 58/58 -> 100%\n",
      "P14-2 : SQI>0.86 : 57/58 -> 98%\n",
      "P15-1 : SQI>0.86 : 17/18 -> 94%\n",
      "P16-1 : SQI>0.86 : 53/58 -> 91%\n",
      "P16-2 : SQI>0.86 : 55/58 -> 95%\n",
      "P17-1 : SQI>0.86 : 51/58 -> 88%\n",
      "P17-2 : SQI>0.86 : 52/58 -> 90%\n",
      "P18-1 : SQI>0.86 : 55/58 -> 95%\n",
      "P19-1 : SQI>0.86 : 5/60 -> 8%\n",
      "P19-2 : SQI>0.86 : 54/60 -> 90%\n",
      "P20-1 : SQI>0.86 : 60/61 -> 98%\n",
      "P20-2 : SQI>0.86 : 60/60 -> 100%\n",
      "P21-1 : SQI>0.86 : 59/60 -> 98%\n",
      "P21-2 : SQI>0.86 : 57/60 -> 95%\n",
      "P22-1 : SQI>0.86 : 61/62 -> 98%\n",
      "P22-2 : SQI>0.86 : 61/61 -> 100%\n",
      "P23-1 : SQI>0.86 : 60/60 -> 100%\n",
      "P23-2 : SQI>0.86 : 61/61 -> 100%\n",
      "P24-1 : SQI>0.86 : 28/60 -> 47%\n",
      "P24-2 : SQI>0.86 : 39/61 -> 64%\n",
      "P25-1 : SQI>0.86 : 61/61 -> 100%\n",
      "P25-2 : SQI>0.86 : 60/60 -> 100%\n",
      "P26-1 : SQI>0.86 : 60/60 -> 100%\n",
      "P26-2 : SQI>0.86 : 48/60 -> 80%\n",
      "P27-1 : SQI>0.86 : 58/61 -> 95%\n",
      "P27-2 : SQI>0.86 : 39/61 -> 64%\n",
      "P28-1 : SQI>0.86 : 38/60 -> 63%\n",
      "P28-2 : SQI>0.86 : 38/60 -> 63%\n",
      "P29-1 : SQI>0.86 : 60/60 -> 100%\n",
      "P29-2 : SQI>0.86 : 60/60 -> 100%\n",
      "P30-1 : SQI>0.86 : 19/59 -> 32%\n",
      "P30-2 : SQI>0.86 : 5/60 -> 8%\n"
     ]
    }
   ],
   "metadata": {}
  },
  {
   "cell_type": "code",
   "execution_count": 72,
   "source": [
    "print(list_SQI_approved)"
   ],
   "outputs": [
    {
     "output_type": "stream",
     "name": "stdout",
     "text": [
      "['P7-1' 'P7-2' 'P8-1' 'P9-1' 'P9-2' 'P10-1' 'P10-2' 'P11-1' 'P11-2'\n",
      " 'P12-1' 'P12-2' 'P13-1' 'P13-2' 'P14-1' 'P14-2' 'P15-1' 'P16-1' 'P16-2'\n",
      " 'P17-1' 'P17-2' 'P18-1' 'P19-2' 'P20-1' 'P20-2' 'P21-1' 'P21-2' 'P22-1'\n",
      " 'P22-2' 'P23-1' 'P23-2' 'P24-1' 'P24-2' 'P25-1' 'P25-2' 'P26-1' 'P26-2'\n",
      " 'P27-1' 'P27-2' 'P28-1' 'P28-2' 'P29-1' 'P29-2']\n"
     ]
    }
   ],
   "metadata": {}
  },
  {
   "cell_type": "code",
   "execution_count": 43,
   "source": [
    "list_SQI_approved = ['P7-1',\n",
    "                     'P7-2',\n",
    "                     'P8-1',\n",
    "                     'P9-1',\n",
    "                     'P9-2',\n",
    "                     'P10-1',\n",
    "                     'P10-2',\n",
    "                     'P11-1',\n",
    "                     'P11-2',\n",
    "                     'P12-1',\n",
    "                     'P12-2',\n",
    "                     'P13-1',\n",
    "                     'P13-2',\n",
    "                     'P14-1',\n",
    "                     'P14-2',\n",
    "                     'P15-1',\n",
    "                     'P16-1',\n",
    "                     'P16-2',\n",
    "                     'P17-1',\n",
    "                     'P17-2',\n",
    "                     'P18-1',\n",
    "                     'P19-2',\n",
    "                     'P20-1',\n",
    "                     'P20-2',\n",
    "                     'P21-1',\n",
    "                     'P21-2',\n",
    "                     'P22-1',\n",
    "                     'P22-2',\n",
    "                     'P23-1',\n",
    "                     'P23-2',\n",
    "                     'P24-1', # Added\n",
    "                     'P24-2',\n",
    "                     'P25-1',\n",
    "                     'P25-2',\n",
    "                     'P26-1',\n",
    "                     'P26-2',\n",
    "                     'P27-1',\n",
    "                     'P27-2',\n",
    "                     'P28-1',\n",
    "                     'P28-2',\n",
    "                     'P29-1',\n",
    "                     'P29-2']\n",
    "\n",
    "np.save(saved_path + \"/CVA_analysis/List_SQI_approved.npy\", list_SQI_approved)"
   ],
   "outputs": [],
   "metadata": {}
  },
  {
   "cell_type": "code",
   "execution_count": 44,
   "source": [
    "print(\"Number of approved participants : \", len(list_SQI_approved))\n",
    "print(\"The average percentage of good segments : \", np.mean(good_seg), \"%\")"
   ],
   "outputs": [
    {
     "output_type": "stream",
     "name": "stdout",
     "text": [
      "Number of approved participants :  42\n",
      "The average percentage of good segments :  91.03785016188627 %\n"
     ]
    }
   ],
   "metadata": {}
  },
  {
   "cell_type": "code",
   "execution_count": 46,
   "source": [
    "# Plot of PPG and ECG signals\n",
    "ecg = (wd_fc[\"hr\"]-np.mean(wd_fc[\"hr\"]))/np.std(wd_fc[\"hr\"])\n",
    "ppg = (wd_em[\"hr\"]-np.mean(wd_em[\"hr\"]))/np.std(wd_em[\"hr\"])\n",
    "\n",
    "plt.figure()\n",
    "plt.plot(ecg[804:])\n",
    "plt.plot(ppg[158:])"
   ],
   "outputs": [
    {
     "output_type": "display_data",
     "data": {
      "text/plain": [
       "Canvas(toolbar=Toolbar(toolitems=[('Home', 'Reset original view', 'home', 'home'), ('Back', 'Back to previous …"
      ],
      "application/vnd.jupyter.widget-view+json": {
       "model_id": "018399232f564baf830feba1f375efbc",
       "version_major": 2,
       "version_minor": 0
      }
     },
     "metadata": {}
    },
    {
     "output_type": "execute_result",
     "data": {
      "text/plain": [
       "[<matplotlib.lines.Line2D at 0x7fe30fa5e5c0>]"
      ]
     },
     "metadata": {},
     "execution_count": 46
    }
   ],
   "metadata": {}
  },
  {
   "cell_type": "code",
   "execution_count": 55,
   "source": [
    "###########################################################\n",
    "# Extraction of the HR, RR, SDRR and RMSSD from ECG and PPG\n",
    "###########################################################\n",
    "HR_FC_all_exp = []\n",
    "SD_RR_FC_all_exp = []\n",
    "RMSSD_FC_exp = []\n",
    "\n",
    "HR_EM_all_exp = []\n",
    "SD_RR_EM_all_exp = []\n",
    "RMSSD_EM_exp = []\n",
    "\n",
    "list_SQI_approved = np.load(saved_path + \"/CVA_analysis/List_SQI_approved.npy\")\n",
    "\n",
    "for s in list_SQI_approved:\n",
    "    try:\n",
    "        wd_fc, m_fc = np.load(saved_path + \"/CVA_analysis/Extraction_all/{}_FC.npy\".format(s), allow_pickle=True)\n",
    "    except:\n",
    "        continue\n",
    "\n",
    "    HR_FC_all = 60000/(np.mean(wd_fc[\"RR_list_cor\"]))\n",
    "    HR_FC = get_HR_series(wd_fc)\n",
    "    HR_FC = interp_nan(HR_FC)\n",
    "    SD_RR_FC_all = np.std(wd_fc[\"RR_list_cor\"])/1000\n",
    "    SD_RR_FC_all = m_fc[\"sdnn\"]\n",
    "    RMSSD_FC = get_RMSSD(wd_fc)\n",
    "    RMSSD_FC = m_fc[\"rmssd\"]\n",
    "\n",
    "    HR_FC_all_exp.append(HR_FC_all)\n",
    "    SD_RR_FC_all_exp.append(SD_RR_FC_all)\n",
    "    RMSSD_FC_exp.append(RMSSD_FC)\n",
    "\n",
    "    wd_em, m_em = np.load(saved_path + \"/CVA_analysis/Extraction_all/{}_EM.npy\".format(s), allow_pickle=True)\n",
    "\n",
    "    HR_EM_all = 60000/(np.mean(wd_em[\"RR_list_cor\"]))\n",
    "    HR_EM = get_HR_series(wd_em)\n",
    "    HR_EM = interp_nan(HR_EM)\n",
    "    SD_RR_EM_all = np.std(wd_em[\"RR_list_cor\"])/1000\n",
    "    SD_RR_EM_all = m_em[\"sdnn\"]\n",
    "    RMSSD_EM = get_RMSSD(wd_em)\n",
    "    RMSSD_EM = m_em[\"rmssd\"]\n",
    "\n",
    "    HR_EM_all_exp.append(HR_EM_all)\n",
    "    SD_RR_EM_all_exp.append(SD_RR_EM_all)\n",
    "    RMSSD_EM_exp.append(RMSSD_EM)\n",
    "\n",
    "    if HR_FC.shape[0] - HR_EM.shape[0] < 0:\n",
    "        diff = np.abs(HR_FC.shape[0] - HR_EM.shape[0])\n",
    "        HR_EM = HR_EM[:-diff]\n",
    "    elif HR_FC.shape[0] - HR_EM.shape[0] > 0:\n",
    "        diff = np.abs(HR_FC.shape[0] - HR_EM.shape[0])\n",
    "        HR_FC = HR_FC[:-diff]\n",
    "\n",
    "\n",
    "    MAE = np.mean(np.abs(HR_FC-HR_EM))\n",
    "    SdAE = np.std(np.abs(HR_FC-HR_EM))\n",
    "    ARE = ((np.abs(HR_FC-HR_EM)/HR_FC)*100).mean()\n",
    "\n",
    "    np.save(saved_path + \"/CVA_analysis/Results_all/{}_FC.npy\".format(s), [HR_FC_all, HR_FC, SD_RR_FC_all, RMSSD_FC, MAE, SdAE, ARE])\n",
    "    np.save(saved_path + \"/CVA_analysis/Results_all/{}_EM.npy\".format(s), [HR_EM_all, HR_EM, SD_RR_EM_all, RMSSD_EM, MAE, SdAE, ARE])\n",
    "\n",
    "    print(\"{} -> MAE:{:.2f}, SdAE:{:.2f}, ARE:{:.2f}, HR_mean:{:.2f};{:.2f}, SD_RR:{:.2f};{:.2f}, RMSSD:{:.2f};{:.2f}\".format(s, MAE, SdAE, ARE, HR_EM_all, HR_FC_all, SD_RR_EM_all, SD_RR_FC_all, RMSSD_EM*1000, RMSSD_FC*1000))\n",
    "\n",
    "np.save(saved_path + \"/CVA_analysis/Bland_Altman/HR_mean.npy\", [HR_EM_all_exp, HR_FC_all_exp])\n",
    "np.save(saved_path + \"/CVA_analysis/Bland_Altman/SD_RR.npy\", [SD_RR_EM_all_exp, SD_RR_FC_all_exp])\n",
    "np.save(saved_path + \"/CVA_analysis/Bland_Altman/RMSSD.npy\", [RMSSD_EM_exp, RMSSD_FC_exp])"
   ],
   "outputs": [
    {
     "output_type": "stream",
     "name": "stdout",
     "text": [
      "P7-1 -> MAE:3.87, SdAE:3.61, ARE:8.54, HR_mean:44.03;44.09, SD_RR:144.51;141.70, RMSSD:110954.75;109263.09\n",
      "P7-2 -> MAE:4.10, SdAE:3.97, ARE:9.16, HR_mean:43.51;43.55, SD_RR:143.61;140.77, RMSSD:120240.85;113055.15\n",
      "P8-1 -> MAE:5.52, SdAE:4.55, ARE:8.96, HR_mean:62.31;61.42, SD_RR:119.30;90.56, RMSSD:164948.50;74333.81\n",
      "P9-1 -> MAE:3.31, SdAE:3.50, ARE:4.31, HR_mean:74.81;75.83, SD_RR:51.65;40.48, RMSSD:44270.14;28205.09\n",
      "P9-2 -> MAE:3.14, SdAE:2.87, ARE:4.24, HR_mean:73.24;73.56, SD_RR:50.76;39.14, RMSSD:50242.16;31889.81\n",
      "P10-1 -> MAE:6.72, SdAE:5.46, ARE:7.91, HR_mean:83.61;83.42, SD_RR:63.16;64.26, RMSSD:35708.37;31692.26\n",
      "P10-2 -> MAE:6.00, SdAE:5.65, ARE:7.19, HR_mean:80.89;81.81, SD_RR:67.65;62.74, RMSSD:53543.75;31007.23\n",
      "P11-1 -> MAE:6.79, SdAE:5.36, ARE:11.02, HR_mean:60.84;60.67, SD_RR:104.46;98.31, RMSSD:77230.22;71473.47\n",
      "P11-2 -> MAE:5.19, SdAE:4.51, ARE:8.75, HR_mean:59.04;59.61, SD_RR:104.88;103.60, RMSSD:84619.31;65223.03\n",
      "P12-1 -> MAE:5.92, SdAE:4.67, ARE:8.58, HR_mean:69.16;68.72, SD_RR:78.61;81.54, RMSSD:55788.95;46687.04\n",
      "P12-2 -> MAE:6.12, SdAE:4.21, ARE:9.17, HR_mean:67.55;67.42, SD_RR:83.49;80.95, RMSSD:55468.95;46637.65\n",
      "P13-1 -> MAE:3.92, SdAE:3.44, ARE:6.42, HR_mean:60.10;60.39, SD_RR:76.99;65.20, RMSSD:74942.40;47945.00\n",
      "P13-2 -> MAE:4.24, SdAE:3.59, ARE:7.02, HR_mean:59.77;60.08, SD_RR:86.93;79.47, RMSSD:87944.40;56254.35\n",
      "P14-1 -> MAE:6.12, SdAE:5.58, ARE:9.04, HR_mean:66.26;66.43, SD_RR:85.62;82.23, RMSSD:52605.84;37229.65\n",
      "P14-2 -> MAE:5.65, SdAE:4.75, ARE:8.85, HR_mean:63.17;62.95, SD_RR:89.51;82.58, RMSSD:67600.90;39026.50\n",
      "P15-1 -> MAE:5.78, SdAE:4.43, ARE:8.11, HR_mean:70.23;71.28, SD_RR:90.36;90.88, RMSSD:86569.59;58739.59\n",
      "P16-1 -> MAE:7.79, SdAE:6.23, ARE:10.90, HR_mean:69.81;70.57, SD_RR:102.38;94.23, RMSSD:87562.87;42776.61\n",
      "P16-2 -> MAE:6.52, SdAE:5.80, ARE:9.24, HR_mean:68.25;68.83, SD_RR:79.24;78.15, RMSSD:65504.38;40239.91\n",
      "P17-1 -> MAE:6.06, SdAE:5.10, ARE:9.80, HR_mean:63.49;63.04, SD_RR:98.53;89.31, RMSSD:89418.04;50760.04\n",
      "P17-2 -> MAE:5.45, SdAE:4.00, ARE:8.49, HR_mean:64.52;64.37, SD_RR:93.38;82.00, RMSSD:86021.38;48444.56\n",
      "P18-1 -> MAE:6.50, SdAE:4.89, ARE:10.36, HR_mean:62.87;62.48, SD_RR:115.67;112.51, RMSSD:85437.32;80131.42\n",
      "P19-2 -> MAE:5.12, SdAE:4.74, ARE:6.08, HR_mean:83.01;83.41, SD_RR:98.12;84.04, RMSSD:101065.25;31497.49\n",
      "P20-1 -> MAE:4.40, SdAE:3.50, ARE:6.12, HR_mean:72.72;72.53, SD_RR:64.32;63.26, RMSSD:43193.89;32398.42\n",
      "P20-2 -> MAE:4.55, SdAE:3.59, ARE:6.38, HR_mean:71.88;71.89, SD_RR:71.06;67.69, RMSSD:45720.16;32957.42\n",
      "P21-1 -> MAE:3.90, SdAE:3.14, ARE:6.55, HR_mean:60.20;59.64, SD_RR:99.33;91.45, RMSSD:95221.30;59707.20\n",
      "P21-2 -> MAE:4.55, SdAE:3.95, ARE:8.12, HR_mean:57.27;56.45, SD_RR:114.55;110.91, RMSSD:101355.18;76027.78\n",
      "P22-1 -> MAE:6.36, SdAE:4.45, ARE:7.51, HR_mean:85.17;85.14, SD_RR:68.21;63.04, RMSSD:53625.33;39316.85\n",
      "P22-2 -> MAE:7.17, SdAE:5.36, ARE:8.80, HR_mean:81.23;81.48, SD_RR:79.26;78.04, RMSSD:55698.15;45830.66\n",
      "P23-1 -> MAE:4.06, SdAE:3.32, ARE:4.78, HR_mean:84.42;84.40, SD_RR:55.39;52.62, RMSSD:38800.80;25481.78\n",
      "P23-2 -> MAE:3.91, SdAE:3.18, ARE:4.52, HR_mean:85.41;85.21, SD_RR:61.87;60.52, RMSSD:38985.38;23398.53\n",
      "P24-1 -> MAE:5.81, SdAE:6.06, ARE:12.13, HR_mean:52.31;48.98, SD_RR:139.52;123.76, RMSSD:116287.65;72508.14\n",
      "P24-2 -> MAE:3.81, SdAE:4.27, ARE:7.70, HR_mean:49.89;48.66, SD_RR:134.06;102.10, RMSSD:118689.12;56100.73\n",
      "P25-1 -> MAE:5.01, SdAE:4.05, ARE:5.47, HR_mean:91.74;91.64, SD_RR:54.47;47.60, RMSSD:47164.69;22827.59\n",
      "P25-2 -> MAE:4.92, SdAE:4.08, ARE:5.62, HR_mean:87.28;87.43, SD_RR:62.85;59.64, RMSSD:43235.12;26527.23\n",
      "P26-1 -> MAE:5.82, SdAE:4.50, ARE:8.51, HR_mean:68.90;68.92, SD_RR:101.72;96.85, RMSSD:82333.97;64924.27\n",
      "P26-2 -> MAE:5.74, SdAE:4.83, ARE:8.89, HR_mean:65.68;64.78, SD_RR:108.48;93.46, RMSSD:107190.10;71046.96\n",
      "P27-1 -> MAE:5.83, SdAE:4.61, ARE:6.87, HR_mean:85.76;85.74, SD_RR:65.12;58.86, RMSSD:61814.61;36427.65\n",
      "P27-2 -> MAE:6.11, SdAE:5.63, ARE:7.24, HR_mean:81.38;83.20, SD_RR:76.90;61.57, RMSSD:79071.42;38633.54\n",
      "P28-1 -> MAE:6.09, SdAE:5.15, ARE:7.13, HR_mean:83.42;85.03, SD_RR:84.69;61.96, RMSSD:90580.63;31026.07\n",
      "P28-2 -> MAE:6.52, SdAE:5.35, ARE:7.63, HR_mean:83.31;85.04, SD_RR:87.43;64.27, RMSSD:99801.24;31203.86\n",
      "P29-1 -> MAE:3.01, SdAE:2.78, ARE:3.70, HR_mean:81.18;81.17, SD_RR:38.78;34.65, RMSSD:28815.53;15223.75\n",
      "P29-2 -> MAE:3.18, SdAE:2.75, ARE:4.00, HR_mean:78.90;78.90, SD_RR:43.21;35.73, RMSSD:39131.39;16523.79\n"
     ]
    }
   ],
   "metadata": {}
  },
  {
   "cell_type": "markdown",
   "source": [
    "# Bland-Altman CVA Analysis"
   ],
   "metadata": {}
  },
  {
   "cell_type": "code",
   "execution_count": 56,
   "source": [
    "import pingouin\n",
    "\n",
    "list_SQI_approved = np.load(saved_path + \"/CVA_analysis/List_SQI_approved.npy\")\n",
    "\n",
    "HR_EM_ba = []\n",
    "HR_FC_ba = []\n",
    "\n",
    "for s in list_SQI_approved:\n",
    "    try:\n",
    "        [HR_FC_all, HR_FC, SD_RR_FC_all, RMSSD_FC, MAE, SdAE, ARE] = np.load(saved_path + \"/CVA_analysis/Results_all/{}_FC.npy\".format(s), allow_pickle=True)\n",
    "        [HR_EM_all, HR_EM, SD_RR_EM_all, RMSSD_EM, MAE, SdAE, ARE] = np.load(saved_path + \"/CVA_analysis/Results_all/{}_EM.npy\".format(s), allow_pickle=True)\n",
    "    except:\n",
    "        continue\n",
    "\n",
    "    HR_EM_ba.append(HR_EM_all)\n",
    "    HR_FC_ba.append(HR_FC_all)\n",
    "\n",
    "HR_EM_ba = np.array(HR_EM_ba).reshape([-1])\n",
    "HR_FC_ba = np.array(HR_FC_ba).reshape([-1])\n",
    "\n",
    "lies_in = np.sum(((HR_EM_ba-HR_FC_ba)<5) & ((HR_EM_ba-HR_FC_ba)>-5))/np.size(HR_EM_ba)\n",
    "\n",
    "fig = plt.figure()\n",
    "ax = fig.add_subplot(1,1,1)\n",
    "pingouin.plot_blandaltman(HR_EM_ba, HR_FC_ba, confidence=None, ax=ax)\n",
    "plt.axhline(5, xmin=0, xmax=1, c=\"g\", linestyle=\"-.\")\n",
    "plt.axhline(-5, xmin=0, xmax=1, c=\"g\", linestyle=\"-.\")\n",
    "plt.text(0.5, 0.1, '{} % of the data lies inside of the boundaries.'.format(int(lies_in*100)), horizontalalignment='center', verticalalignment='center', transform=ax.transAxes, fontsize=10)\n",
    "plt.title(\"HR (bpm)\")\n",
    "plt.ylabel(\"Difference HR (EM - FC)\")\n",
    "plt.xlabel(\"Mean HR (EM,FC)\")\n",
    "\n",
    "SD = np.std((HR_EM_ba-HR_FC_ba))\n",
    "BAr = SD*1.96/(np.mean((HR_EM_ba+HR_FC_ba)/2))\n",
    "print(BAr)\n",
    "\n",
    "plt.text(0.75, 0.9, 'BAr : {:.2f}'.format(BAr), horizontalalignment='center', verticalalignment='center', transform=ax.transAxes, fontsize=10)\n",
    "\n",
    "plt.savefig(saved_path + \"/CVA_analysis/Figures/BA_HR.svg\", format=\"svg\")"
   ],
   "outputs": [
    {
     "output_type": "display_data",
     "data": {
      "text/plain": [
       "Canvas(toolbar=Toolbar(toolitems=[('Home', 'Reset original view', 'home', 'home'), ('Back', 'Back to previous …"
      ],
      "application/vnd.jupyter.widget-view+json": {
       "model_id": "a887d187d371483eaf0c6aa0fc7325cb",
       "version_major": 2,
       "version_minor": 0
      }
     },
     "metadata": {}
    },
    {
     "output_type": "stream",
     "name": "stdout",
     "text": [
      "0.023348250199029388\n"
     ]
    }
   ],
   "metadata": {}
  },
  {
   "cell_type": "code",
   "execution_count": 57,
   "source": [
    "SD_EM_ba = []\n",
    "SD_FC_ba = []\n",
    "\n",
    "for s in list_SQI_approved:\n",
    "    try:\n",
    "        [HR_FC_all, HR_FC, SD_RR_FC_all, RMSSD_FC, MAE, SdAE, ARE] = np.load(saved_path + \"/CVA_analysis/Results_all/{}_FC.npy\".format(s), allow_pickle=True)\n",
    "        [HR_EM_all, HR_EM, SD_RR_EM_all, RMSSD_EM, MAE, SdAE, ARE] = np.load(saved_path + \"/CVA_analysis/Results_all/{}_EM.npy\".format(s), allow_pickle=True)\n",
    "    except:\n",
    "        continue\n",
    "\n",
    "    SD_EM_ba.append(SD_RR_EM_all)\n",
    "    SD_FC_ba.append(SD_RR_FC_all)\n",
    "\n",
    "SD_EM_ba = np.array(SD_EM_ba).reshape([-1])\n",
    "SD_FC_ba = np.array(SD_FC_ba).reshape([-1])\n",
    "\n",
    "lies_in = np.sum(((SD_EM_ba-SD_FC_ba)<60) & ((SD_EM_ba-SD_FC_ba)>-60))/np.size(SD_EM_ba)\n",
    "\n",
    "fig = plt.figure()\n",
    "ax = fig.add_subplot(1,1,1)\n",
    "ax = pingouin.plot_blandaltman(SD_EM_ba, SD_FC_ba, confidence=0.1, ax=ax)\n",
    "plt.axhline(60, xmin=0, xmax=1, c=\"g\", linestyle=\"-.\")\n",
    "plt.axhline(-60, xmin=0, xmax=1, c=\"g\", linestyle=\"-.\")\n",
    "plt.text(0.5, 0.1, '{} % of the data lies inside of the boundaries.'.format(int(lies_in*100)), horizontalalignment='center', verticalalignment='center', transform=ax.transAxes, fontsize=10)\n",
    "plt.title(\"SD RR/PP - interval (msec)\")\n",
    "plt.ylabel(\"Difference SD RR/PP (EM - FC)\")\n",
    "plt.xlabel(\"Mean SD RR/PP (EM,FC)\")\n",
    "\n",
    "SD = np.std((SD_EM_ba-SD_FC_ba))\n",
    "BAr = SD*1.96/(np.mean((SD_EM_ba+SD_FC_ba)/2))\n",
    "print(BAr)\n",
    "\n",
    "plt.text(0.75, 0.9, 'BAr : {:.2f}'.format(BAr), horizontalalignment='center', verticalalignment='center', transform=ax.transAxes, fontsize=10)\n",
    "plt.savefig(saved_path + \"/CVA_analysis/Figures/BA_SD.svg\", format=\"svg\")"
   ],
   "outputs": [
    {
     "output_type": "display_data",
     "data": {
      "text/plain": [
       "Canvas(toolbar=Toolbar(toolitems=[('Home', 'Reset original view', 'home', 'home'), ('Back', 'Back to previous …"
      ],
      "application/vnd.jupyter.widget-view+json": {
       "model_id": "06664fffb67f4809839e8719888da450",
       "version_major": 2,
       "version_minor": 0
      }
     },
     "metadata": {}
    },
    {
     "output_type": "stream",
     "name": "stdout",
     "text": [
      "0.18186141881520673\n"
     ]
    }
   ],
   "metadata": {}
  },
  {
   "cell_type": "code",
   "execution_count": 59,
   "source": [
    "\n",
    "RMSSD_EM_ba = []\n",
    "RMSSD_FC_ba = []\n",
    "\n",
    "for s in list_SQI_approved:\n",
    "    try:\n",
    "        [HR_FC_all, HR_FC, SD_RR_FC_all, RMSSD_FC, MAE, SdAE, ARE] = np.load(saved_path + \"/CVA_analysis/Results_all/{}_FC.npy\".format(s), allow_pickle=True)\n",
    "        [HR_EM_all, HR_EM, SD_RR_EM_all, RMSSD_EM, MAE, SdAE, ARE] = np.load(saved_path + \"/CVA_analysis/Results_all/{}_EM.npy\".format(s), allow_pickle=True)\n",
    "    except:\n",
    "        continue\n",
    "\n",
    "    RMSSD_EM_ba.append(RMSSD_EM)\n",
    "    RMSSD_FC_ba.append(RMSSD_FC)\n",
    "\n",
    "RMSSD_EM_ba = np.array(RMSSD_EM_ba).reshape([-1])\n",
    "RMSSD_FC_ba = np.array(RMSSD_FC_ba).reshape([-1])\n",
    "\n",
    "lies_in = np.sum(((RMSSD_EM_ba-RMSSD_FC_ba)<70) & ((RMSSD_EM_ba-RMSSD_FC_ba)>-70))/np.size(RMSSD_EM_ba)\n",
    "\n",
    "fig = plt.figure()\n",
    "ax = fig.add_subplot(1,1,1)\n",
    "pingouin.plot_blandaltman(RMSSD_EM_ba, RMSSD_FC_ba, confidence=0.1, ax=ax)\n",
    "plt.axhline(70, xmin=0, xmax=1, c=\"g\", linestyle=\"-.\")\n",
    "plt.axhline(-70, xmin=0, xmax=1, c=\"g\", linestyle=\"-.\")\n",
    "plt.text(0.5, 0.1, '{} % of the data lies inside of the boundaries.'.format(int(lies_in*100)), horizontalalignment='center', verticalalignment='center', transform=ax.transAxes, fontsize=10)\n",
    "plt.title(\"RMSSD (msec)\")\n",
    "plt.ylabel(\"Difference RMSSD (EM - FC)\")\n",
    "plt.xlabel(\"Mean RMSSD (EM,FC)\")\n",
    "\n",
    "SD = np.std((RMSSD_EM_ba-RMSSD_FC_ba))\n",
    "BAr = SD*1.96/(np.mean((RMSSD_EM_ba+RMSSD_FC_ba)/2))\n",
    "print(BAr)\n",
    "\n",
    "plt.text(0.75, 0.9, 'BAr : {:.2f}'.format(BAr), horizontalalignment='center', verticalalignment='center', transform=ax.transAxes, fontsize=10)\n",
    "plt.savefig(saved_path + \"/CVA_analysis/Figures/BA_RMSSD.svg\", format=\"svg\")"
   ],
   "outputs": [
    {
     "output_type": "display_data",
     "data": {
      "text/plain": [
       "Canvas(toolbar=Toolbar(toolitems=[('Home', 'Reset original view', 'home', 'home'), ('Back', 'Back to previous …"
      ],
      "application/vnd.jupyter.widget-view+json": {
       "model_id": "785cb1a838ee4c8bba8a469615ecfddc",
       "version_major": 2,
       "version_minor": 0
      }
     },
     "metadata": {}
    },
    {
     "output_type": "stream",
     "name": "stdout",
     "text": [
      "0.633082149938286\n"
     ]
    }
   ],
   "metadata": {}
  },
  {
   "cell_type": "markdown",
   "source": [
    "# EDA Analysis"
   ],
   "metadata": {}
  },
  {
   "cell_type": "markdown",
   "source": [
    "## Visual inspection of EDA data from Emotibit vs Flexcomp"
   ],
   "metadata": {}
  },
  {
   "cell_type": "code",
   "execution_count": 62,
   "source": [
    "for part in range(7,31):\n",
    "    for exp in range(1,3):\n",
    "        s = \"P{}-{}\".format(part, exp)\n",
    "        try:\n",
    "            df = pd.read_pickle(saved_path + \"/CVA_analysis/Dataframe/{}.pkl\".format(s))\n",
    "        except:\n",
    "            continue\n",
    "        \n",
    "        EDA_FC = df[[\"EDA_FC_SMO\"]][df[\"EDA_FC_SMO\"].notna()].values[1:-250]\n",
    "        EDA_EM = df[[\"EDA_EM_SMO\"]][df[\"EDA_EM_SMO\"].notna()].values[1:-250]\n",
    "\n",
    "        EDA_FC[0,0] += 0.0000001\n",
    "        \n",
    "        EDA_FC_norm_dt = normalize_detrend(EDA_FC)\n",
    "        EDA_EM_norm_dt = normalize_detrend(EDA_EM)\n",
    "        \n",
    "        plt.figure()\n",
    "        plt.title(s)\n",
    "        plt.plot(EDA_FC_norm_dt)\n",
    "        plt.plot(EDA_EM_norm_dt)"
   ],
   "outputs": [
    {
     "output_type": "display_data",
     "data": {
      "text/plain": [
       "Canvas(toolbar=Toolbar(toolitems=[('Home', 'Reset original view', 'home', 'home'), ('Back', 'Back to previous …"
      ],
      "application/vnd.jupyter.widget-view+json": {
       "model_id": "fe3b35cb43d2401fb86a7b1d31c4526c",
       "version_major": 2,
       "version_minor": 0
      }
     },
     "metadata": {}
    },
    {
     "output_type": "display_data",
     "data": {
      "text/plain": [
       "Canvas(toolbar=Toolbar(toolitems=[('Home', 'Reset original view', 'home', 'home'), ('Back', 'Back to previous …"
      ],
      "application/vnd.jupyter.widget-view+json": {
       "model_id": "e3cb114554bb4efdbdefdc98bc0452b6",
       "version_major": 2,
       "version_minor": 0
      }
     },
     "metadata": {}
    },
    {
     "output_type": "display_data",
     "data": {
      "text/plain": [
       "Canvas(toolbar=Toolbar(toolitems=[('Home', 'Reset original view', 'home', 'home'), ('Back', 'Back to previous …"
      ],
      "application/vnd.jupyter.widget-view+json": {
       "model_id": "dff1823111d5499d8d923e92028cc710",
       "version_major": 2,
       "version_minor": 0
      }
     },
     "metadata": {}
    },
    {
     "output_type": "display_data",
     "data": {
      "text/plain": [
       "Canvas(toolbar=Toolbar(toolitems=[('Home', 'Reset original view', 'home', 'home'), ('Back', 'Back to previous …"
      ],
      "application/vnd.jupyter.widget-view+json": {
       "model_id": "e73428bf4bb7426ab8c8cacaebe0cd0e",
       "version_major": 2,
       "version_minor": 0
      }
     },
     "metadata": {}
    },
    {
     "output_type": "display_data",
     "data": {
      "text/plain": [
       "Canvas(toolbar=Toolbar(toolitems=[('Home', 'Reset original view', 'home', 'home'), ('Back', 'Back to previous …"
      ],
      "application/vnd.jupyter.widget-view+json": {
       "model_id": "e3a914e3a26b44fea80fd1c72c9da5c3",
       "version_major": 2,
       "version_minor": 0
      }
     },
     "metadata": {}
    },
    {
     "output_type": "display_data",
     "data": {
      "text/plain": [
       "Canvas(toolbar=Toolbar(toolitems=[('Home', 'Reset original view', 'home', 'home'), ('Back', 'Back to previous …"
      ],
      "application/vnd.jupyter.widget-view+json": {
       "model_id": "0ba37864fb19481c87f1c73c309285ae",
       "version_major": 2,
       "version_minor": 0
      }
     },
     "metadata": {}
    },
    {
     "output_type": "display_data",
     "data": {
      "text/plain": [
       "Canvas(toolbar=Toolbar(toolitems=[('Home', 'Reset original view', 'home', 'home'), ('Back', 'Back to previous …"
      ],
      "application/vnd.jupyter.widget-view+json": {
       "model_id": "047d208bca4a4320b1e7531c5b4cd809",
       "version_major": 2,
       "version_minor": 0
      }
     },
     "metadata": {}
    },
    {
     "output_type": "display_data",
     "data": {
      "text/plain": [
       "Canvas(toolbar=Toolbar(toolitems=[('Home', 'Reset original view', 'home', 'home'), ('Back', 'Back to previous …"
      ],
      "application/vnd.jupyter.widget-view+json": {
       "model_id": "28e94e3b99b045c99d126228473a74d3",
       "version_major": 2,
       "version_minor": 0
      }
     },
     "metadata": {}
    },
    {
     "output_type": "display_data",
     "data": {
      "text/plain": [
       "Canvas(toolbar=Toolbar(toolitems=[('Home', 'Reset original view', 'home', 'home'), ('Back', 'Back to previous …"
      ],
      "application/vnd.jupyter.widget-view+json": {
       "model_id": "ddbd161b45c04d8fb31cd2e0ea10e432",
       "version_major": 2,
       "version_minor": 0
      }
     },
     "metadata": {}
    },
    {
     "output_type": "display_data",
     "data": {
      "text/plain": [
       "Canvas(toolbar=Toolbar(toolitems=[('Home', 'Reset original view', 'home', 'home'), ('Back', 'Back to previous …"
      ],
      "application/vnd.jupyter.widget-view+json": {
       "model_id": "a02729d626ad413dac25dbc5adf5fb98",
       "version_major": 2,
       "version_minor": 0
      }
     },
     "metadata": {}
    },
    {
     "output_type": "display_data",
     "data": {
      "text/plain": [
       "Canvas(toolbar=Toolbar(toolitems=[('Home', 'Reset original view', 'home', 'home'), ('Back', 'Back to previous …"
      ],
      "application/vnd.jupyter.widget-view+json": {
       "model_id": "32a82a762052409ca716a6ba15e3b5a8",
       "version_major": 2,
       "version_minor": 0
      }
     },
     "metadata": {}
    },
    {
     "output_type": "display_data",
     "data": {
      "text/plain": [
       "Canvas(toolbar=Toolbar(toolitems=[('Home', 'Reset original view', 'home', 'home'), ('Back', 'Back to previous …"
      ],
      "application/vnd.jupyter.widget-view+json": {
       "model_id": "a14e3e12dc724d63b128d46c0e5f6638",
       "version_major": 2,
       "version_minor": 0
      }
     },
     "metadata": {}
    },
    {
     "output_type": "display_data",
     "data": {
      "text/plain": [
       "Canvas(toolbar=Toolbar(toolitems=[('Home', 'Reset original view', 'home', 'home'), ('Back', 'Back to previous …"
      ],
      "application/vnd.jupyter.widget-view+json": {
       "model_id": "37f1a46c0d0c4435b6724271168d4b56",
       "version_major": 2,
       "version_minor": 0
      }
     },
     "metadata": {}
    },
    {
     "output_type": "display_data",
     "data": {
      "text/plain": [
       "Canvas(toolbar=Toolbar(toolitems=[('Home', 'Reset original view', 'home', 'home'), ('Back', 'Back to previous …"
      ],
      "application/vnd.jupyter.widget-view+json": {
       "model_id": "40903b52e57145db9e03c1be90d8fe89",
       "version_major": 2,
       "version_minor": 0
      }
     },
     "metadata": {}
    },
    {
     "output_type": "display_data",
     "data": {
      "text/plain": [
       "Canvas(toolbar=Toolbar(toolitems=[('Home', 'Reset original view', 'home', 'home'), ('Back', 'Back to previous …"
      ],
      "application/vnd.jupyter.widget-view+json": {
       "model_id": "c573eac511d74af9b76d3005d1f2d5c1",
       "version_major": 2,
       "version_minor": 0
      }
     },
     "metadata": {}
    },
    {
     "output_type": "display_data",
     "data": {
      "text/plain": [
       "Canvas(toolbar=Toolbar(toolitems=[('Home', 'Reset original view', 'home', 'home'), ('Back', 'Back to previous …"
      ],
      "application/vnd.jupyter.widget-view+json": {
       "model_id": "3c32b9e2e68948df87cf8b0848d609e2",
       "version_major": 2,
       "version_minor": 0
      }
     },
     "metadata": {}
    },
    {
     "output_type": "display_data",
     "data": {
      "text/plain": [
       "Canvas(toolbar=Toolbar(toolitems=[('Home', 'Reset original view', 'home', 'home'), ('Back', 'Back to previous …"
      ],
      "application/vnd.jupyter.widget-view+json": {
       "model_id": "48f9c72106cd44d295c0fa95313bdcff",
       "version_major": 2,
       "version_minor": 0
      }
     },
     "metadata": {}
    },
    {
     "output_type": "display_data",
     "data": {
      "text/plain": [
       "Canvas(toolbar=Toolbar(toolitems=[('Home', 'Reset original view', 'home', 'home'), ('Back', 'Back to previous …"
      ],
      "application/vnd.jupyter.widget-view+json": {
       "model_id": "37a92e17b7244b6c939b08ba8329775b",
       "version_major": 2,
       "version_minor": 0
      }
     },
     "metadata": {}
    },
    {
     "output_type": "display_data",
     "data": {
      "text/plain": [
       "Canvas(toolbar=Toolbar(toolitems=[('Home', 'Reset original view', 'home', 'home'), ('Back', 'Back to previous …"
      ],
      "application/vnd.jupyter.widget-view+json": {
       "model_id": "f9d024d58ead4959b5b4488de95adde9",
       "version_major": 2,
       "version_minor": 0
      }
     },
     "metadata": {}
    },
    {
     "output_type": "display_data",
     "data": {
      "text/plain": [
       "Canvas(toolbar=Toolbar(toolitems=[('Home', 'Reset original view', 'home', 'home'), ('Back', 'Back to previous …"
      ],
      "application/vnd.jupyter.widget-view+json": {
       "model_id": "a83dc993337440a9ac021ecc8cdbcc07",
       "version_major": 2,
       "version_minor": 0
      }
     },
     "metadata": {}
    },
    {
     "output_type": "display_data",
     "data": {
      "text/plain": [
       "Canvas(toolbar=Toolbar(toolitems=[('Home', 'Reset original view', 'home', 'home'), ('Back', 'Back to previous …"
      ],
      "application/vnd.jupyter.widget-view+json": {
       "model_id": "51c67245a35f449eadbaa3a0f28ee55f",
       "version_major": 2,
       "version_minor": 0
      }
     },
     "metadata": {}
    },
    {
     "output_type": "display_data",
     "data": {
      "text/plain": [
       "Canvas(toolbar=Toolbar(toolitems=[('Home', 'Reset original view', 'home', 'home'), ('Back', 'Back to previous …"
      ],
      "application/vnd.jupyter.widget-view+json": {
       "model_id": "cefa519c83aa4f2fb98b9a02b70702ee",
       "version_major": 2,
       "version_minor": 0
      }
     },
     "metadata": {}
    },
    {
     "output_type": "display_data",
     "data": {
      "text/plain": [
       "Canvas(toolbar=Toolbar(toolitems=[('Home', 'Reset original view', 'home', 'home'), ('Back', 'Back to previous …"
      ],
      "application/vnd.jupyter.widget-view+json": {
       "model_id": "d43c13418c394bfb8e228377a577aeed",
       "version_major": 2,
       "version_minor": 0
      }
     },
     "metadata": {}
    },
    {
     "output_type": "display_data",
     "data": {
      "text/plain": [
       "Canvas(toolbar=Toolbar(toolitems=[('Home', 'Reset original view', 'home', 'home'), ('Back', 'Back to previous …"
      ],
      "application/vnd.jupyter.widget-view+json": {
       "model_id": "0746f690850a412c93f6612c676f0c69",
       "version_major": 2,
       "version_minor": 0
      }
     },
     "metadata": {}
    },
    {
     "output_type": "display_data",
     "data": {
      "text/plain": [
       "Canvas(toolbar=Toolbar(toolitems=[('Home', 'Reset original view', 'home', 'home'), ('Back', 'Back to previous …"
      ],
      "application/vnd.jupyter.widget-view+json": {
       "model_id": "745635721d94468496468b22342d5e62",
       "version_major": 2,
       "version_minor": 0
      }
     },
     "metadata": {}
    },
    {
     "output_type": "display_data",
     "data": {
      "text/plain": [
       "Canvas(toolbar=Toolbar(toolitems=[('Home', 'Reset original view', 'home', 'home'), ('Back', 'Back to previous …"
      ],
      "application/vnd.jupyter.widget-view+json": {
       "model_id": "dec78eab5af2482caee287184bd3c66a",
       "version_major": 2,
       "version_minor": 0
      }
     },
     "metadata": {}
    },
    {
     "output_type": "display_data",
     "data": {
      "text/plain": [
       "Canvas(toolbar=Toolbar(toolitems=[('Home', 'Reset original view', 'home', 'home'), ('Back', 'Back to previous …"
      ],
      "application/vnd.jupyter.widget-view+json": {
       "model_id": "a9b2d707cb2f4a028025d8c053b6d5be",
       "version_major": 2,
       "version_minor": 0
      }
     },
     "metadata": {}
    },
    {
     "output_type": "display_data",
     "data": {
      "text/plain": [
       "Canvas(toolbar=Toolbar(toolitems=[('Home', 'Reset original view', 'home', 'home'), ('Back', 'Back to previous …"
      ],
      "application/vnd.jupyter.widget-view+json": {
       "model_id": "88234f8f00484cd9a5a97d19d86e43ab",
       "version_major": 2,
       "version_minor": 0
      }
     },
     "metadata": {}
    },
    {
     "output_type": "display_data",
     "data": {
      "text/plain": [
       "Canvas(toolbar=Toolbar(toolitems=[('Home', 'Reset original view', 'home', 'home'), ('Back', 'Back to previous …"
      ],
      "application/vnd.jupyter.widget-view+json": {
       "model_id": "2cd11213a5d74d2f818081fbd25f2097",
       "version_major": 2,
       "version_minor": 0
      }
     },
     "metadata": {}
    },
    {
     "output_type": "display_data",
     "data": {
      "text/plain": [
       "Canvas(toolbar=Toolbar(toolitems=[('Home', 'Reset original view', 'home', 'home'), ('Back', 'Back to previous …"
      ],
      "application/vnd.jupyter.widget-view+json": {
       "model_id": "6635f98ccae947fdb42726c1ab53046b",
       "version_major": 2,
       "version_minor": 0
      }
     },
     "metadata": {}
    },
    {
     "output_type": "display_data",
     "data": {
      "text/plain": [
       "Canvas(toolbar=Toolbar(toolitems=[('Home', 'Reset original view', 'home', 'home'), ('Back', 'Back to previous …"
      ],
      "application/vnd.jupyter.widget-view+json": {
       "model_id": "780554e3f1934bc0b647b88e62e53d50",
       "version_major": 2,
       "version_minor": 0
      }
     },
     "metadata": {}
    },
    {
     "output_type": "display_data",
     "data": {
      "text/plain": [
       "Canvas(toolbar=Toolbar(toolitems=[('Home', 'Reset original view', 'home', 'home'), ('Back', 'Back to previous …"
      ],
      "application/vnd.jupyter.widget-view+json": {
       "model_id": "036af214f3e14ed1a2792b4451d1d5dd",
       "version_major": 2,
       "version_minor": 0
      }
     },
     "metadata": {}
    },
    {
     "output_type": "display_data",
     "data": {
      "text/plain": [
       "Canvas(toolbar=Toolbar(toolitems=[('Home', 'Reset original view', 'home', 'home'), ('Back', 'Back to previous …"
      ],
      "application/vnd.jupyter.widget-view+json": {
       "model_id": "140980938c8b41b788cfbb2633126b6d",
       "version_major": 2,
       "version_minor": 0
      }
     },
     "metadata": {}
    },
    {
     "output_type": "display_data",
     "data": {
      "text/plain": [
       "Canvas(toolbar=Toolbar(toolitems=[('Home', 'Reset original view', 'home', 'home'), ('Back', 'Back to previous …"
      ],
      "application/vnd.jupyter.widget-view+json": {
       "model_id": "01eef87e968540fc86791e98a102a8b2",
       "version_major": 2,
       "version_minor": 0
      }
     },
     "metadata": {}
    },
    {
     "output_type": "display_data",
     "data": {
      "text/plain": [
       "Canvas(toolbar=Toolbar(toolitems=[('Home', 'Reset original view', 'home', 'home'), ('Back', 'Back to previous …"
      ],
      "application/vnd.jupyter.widget-view+json": {
       "model_id": "78d80727a1454a42987bd32398918393",
       "version_major": 2,
       "version_minor": 0
      }
     },
     "metadata": {}
    },
    {
     "output_type": "display_data",
     "data": {
      "text/plain": [
       "Canvas(toolbar=Toolbar(toolitems=[('Home', 'Reset original view', 'home', 'home'), ('Back', 'Back to previous …"
      ],
      "application/vnd.jupyter.widget-view+json": {
       "model_id": "2a571b7f3981424a9d56159e09b8a057",
       "version_major": 2,
       "version_minor": 0
      }
     },
     "metadata": {}
    },
    {
     "output_type": "display_data",
     "data": {
      "text/plain": [
       "Canvas(toolbar=Toolbar(toolitems=[('Home', 'Reset original view', 'home', 'home'), ('Back', 'Back to previous …"
      ],
      "application/vnd.jupyter.widget-view+json": {
       "model_id": "62271b9a2fd7478fbf13625135cb40c9",
       "version_major": 2,
       "version_minor": 0
      }
     },
     "metadata": {}
    },
    {
     "output_type": "display_data",
     "data": {
      "text/plain": [
       "Canvas(toolbar=Toolbar(toolitems=[('Home', 'Reset original view', 'home', 'home'), ('Back', 'Back to previous …"
      ],
      "application/vnd.jupyter.widget-view+json": {
       "model_id": "52837d923caf4d358a4f494b9e793a9f",
       "version_major": 2,
       "version_minor": 0
      }
     },
     "metadata": {}
    },
    {
     "output_type": "display_data",
     "data": {
      "text/plain": [
       "Canvas(toolbar=Toolbar(toolitems=[('Home', 'Reset original view', 'home', 'home'), ('Back', 'Back to previous …"
      ],
      "application/vnd.jupyter.widget-view+json": {
       "model_id": "b592e23cf4c64c3f81da5981beb5e6b8",
       "version_major": 2,
       "version_minor": 0
      }
     },
     "metadata": {}
    },
    {
     "output_type": "display_data",
     "data": {
      "text/plain": [
       "Canvas(toolbar=Toolbar(toolitems=[('Home', 'Reset original view', 'home', 'home'), ('Back', 'Back to previous …"
      ],
      "application/vnd.jupyter.widget-view+json": {
       "model_id": "18e6447b86c14609b9f7a46c6c35a809",
       "version_major": 2,
       "version_minor": 0
      }
     },
     "metadata": {}
    },
    {
     "output_type": "display_data",
     "data": {
      "text/plain": [
       "Canvas(toolbar=Toolbar(toolitems=[('Home', 'Reset original view', 'home', 'home'), ('Back', 'Back to previous …"
      ],
      "application/vnd.jupyter.widget-view+json": {
       "model_id": "c7aba18d3a334110b901047392c0b2b6",
       "version_major": 2,
       "version_minor": 0
      }
     },
     "metadata": {}
    },
    {
     "output_type": "display_data",
     "data": {
      "text/plain": [
       "Canvas(toolbar=Toolbar(toolitems=[('Home', 'Reset original view', 'home', 'home'), ('Back', 'Back to previous …"
      ],
      "application/vnd.jupyter.widget-view+json": {
       "model_id": "10081668e29a46728ea1b6788e5ed413",
       "version_major": 2,
       "version_minor": 0
      }
     },
     "metadata": {}
    },
    {
     "output_type": "display_data",
     "data": {
      "text/plain": [
       "Canvas(toolbar=Toolbar(toolitems=[('Home', 'Reset original view', 'home', 'home'), ('Back', 'Back to previous …"
      ],
      "application/vnd.jupyter.widget-view+json": {
       "model_id": "acee2af088d44563b4a96fb41db5d5fa",
       "version_major": 2,
       "version_minor": 0
      }
     },
     "metadata": {}
    },
    {
     "output_type": "display_data",
     "data": {
      "text/plain": [
       "Canvas(toolbar=Toolbar(toolitems=[('Home', 'Reset original view', 'home', 'home'), ('Back', 'Back to previous …"
      ],
      "application/vnd.jupyter.widget-view+json": {
       "model_id": "454ad59be332401899602484636ac67f",
       "version_major": 2,
       "version_minor": 0
      }
     },
     "metadata": {}
    },
    {
     "output_type": "display_data",
     "data": {
      "text/plain": [
       "Canvas(toolbar=Toolbar(toolitems=[('Home', 'Reset original view', 'home', 'home'), ('Back', 'Back to previous …"
      ],
      "application/vnd.jupyter.widget-view+json": {
       "model_id": "009654c2f0e043f3b3c7e2fb461c8b87",
       "version_major": 2,
       "version_minor": 0
      }
     },
     "metadata": {}
    },
    {
     "output_type": "display_data",
     "data": {
      "text/plain": [
       "Canvas(toolbar=Toolbar(toolitems=[('Home', 'Reset original view', 'home', 'home'), ('Back', 'Back to previous …"
      ],
      "application/vnd.jupyter.widget-view+json": {
       "model_id": "6ff70a5c59d9429ebf18d364f09f3d8d",
       "version_major": 2,
       "version_minor": 0
      }
     },
     "metadata": {}
    },
    {
     "output_type": "display_data",
     "data": {
      "text/plain": [
       "Canvas(toolbar=Toolbar(toolitems=[('Home', 'Reset original view', 'home', 'home'), ('Back', 'Back to previous …"
      ],
      "application/vnd.jupyter.widget-view+json": {
       "model_id": "bfe514483428483eb0dd278be50390f5",
       "version_major": 2,
       "version_minor": 0
      }
     },
     "metadata": {}
    }
   ],
   "metadata": {
    "collapsed": true,
    "jupyter": {
     "outputs_hidden": true
    },
    "tags": []
   }
  },
  {
   "cell_type": "code",
   "execution_count": 64,
   "source": [
    "list_EDA_approved = [\"P7-1\",\n",
    "                     \"P7-2\",\n",
    "                     \"P10-1\",\n",
    "                     \"P10-2\",\n",
    "                     \"P11-1\",\n",
    "                     \"P11-2\",\n",
    "                     \"P13-1\",\n",
    "                     \"P13-2\",\n",
    "                     \"P14-1\",\n",
    "                     \"P14-2\",\n",
    "                     \"P17-1\",\n",
    "                     \"P17-2\",\n",
    "                     \"P18-1\",\n",
    "                     \"P19-2\",\n",
    "                     \"P20-1\",\n",
    "                     \"P20-2\",\n",
    "                     \"P21-1\",\n",
    "                     \"P21-2\",\n",
    "                     \"P22-1\",\n",
    "                     \"P22-2\",\n",
    "                     \"P23-1\",\n",
    "                     \"P23-2\",\n",
    "                     \"P24-1\",\n",
    "                     \"P24-2\",\n",
    "                     \"P25-1\",\n",
    "                     \"P25-2\",\n",
    "                     \"P26-1\",\n",
    "                     \"P26-2\",\n",
    "                     \"P28-1\",\n",
    "                     \"P28-2\",\n",
    "                     \"P29-1\",\n",
    "                     \"P29-2\",\n",
    "                     \"P30-1\",\n",
    "                     \"P30-2\"]"
   ],
   "outputs": [],
   "metadata": {}
  },
  {
   "cell_type": "code",
   "execution_count": 65,
   "source": [
    "eda_corrcoef = []\n",
    "\n",
    "for s in list_EDA_approved:\n",
    "    df = pd.read_pickle(saved_path + \"/CVA_analysis/Dataframe/{}.pkl\".format(s))\n",
    "    \n",
    "    EDA_FC = df[[\"EDA_FC_SMO\"]][df[\"EDA_FC_SMO\"].notna()].values[100:-250]\n",
    "    EDA_EM = df[[\"EDA_EM_SMO\"]][df[\"EDA_EM_SMO\"].notna()].values[100:-250]\n",
    "    \n",
    "    EDA_FC_norm_dt = normalize_detrend(EDA_FC)\n",
    "    EDA_EM_norm_dt = normalize_detrend(EDA_EM)\n",
    "    \n",
    "    c = cross_corr_lags(EDA_EM_norm_dt, EDA_FC_norm_dt, lags=100) # We selected a larger lags because data are not well synchronized\n",
    "    \n",
    "    eda_corrcoef.append(c)\n",
    "    \n",
    "print(\"The average value of the correlation is {}\".format(np.mean(eda_corrcoef)))\n",
    "    \n",
    "plt.figure(figsize=(12,4))\n",
    "plt.hist(eda_corrcoef, bins=[0, 0.2, 0.4, 0.6, 0.8, 1], weights=np.ones(len(eda_corrcoef))/len(eda_corrcoef))\n",
    "plt.gca().yaxis.set_major_formatter(PercentFormatter(1))\n",
    "plt.ylim([0,1])\n",
    "plt.xlabel(\"Cross correlation coefficient\")\n",
    "plt.ylabel(\"Percentage of participants\")\n",
    "plt.savefig(saved_path + \"/CVA_analysis/Figures/Hist_Corr.svg\", format=\"svg\")"
   ],
   "outputs": [
    {
     "output_type": "stream",
     "name": "stdout",
     "text": [
      "67 0.9399800964167473\n",
      "61 0.922524342068039\n",
      "38 0.8534261011980706\n",
      "42 0.8284050812429699\n",
      "37 0.9885643100815023\n",
      "31 0.9811274327147749\n",
      "100 0.9244503144178703\n",
      "48 0.8063129729226468\n",
      "28 0.9643359983832788\n",
      "3 0.9809361483487499\n",
      "0 0.656543394007799\n",
      "28 0.8517863606203321\n",
      "38 0.9266533567288486\n",
      "15 0.7015298144501937\n",
      "-3 0.9943505592285837\n",
      "-1 0.9933892304423353\n",
      "36 0.9851616458883331\n",
      "7 0.9752746521082362\n",
      "8 0.42127835934399727\n",
      "7 0.947833372164087\n",
      "-4 0.9385464472068509\n",
      "-11 0.9644805681321795\n",
      "5 0.9569346588370555\n",
      "10 0.9004090103805399\n",
      "-9 0.9594754450908732\n",
      "-18 0.9602568397678171\n",
      "-6 0.573322633317157\n",
      "-7 0.9725099719213568\n",
      "4 0.8985310163730442\n",
      "7 0.39522746656439306\n",
      "-100 0.9307621742971968\n",
      "-63 0.8534016108518864\n",
      "10 0.8942146681985109\n",
      "19 0.8748358144759062\n",
      "La valeur moyenne de la corrélation est de 0.8740227020056518\n"
     ]
    },
    {
     "output_type": "display_data",
     "data": {
      "text/plain": [
       "Canvas(toolbar=Toolbar(toolitems=[('Home', 'Reset original view', 'home', 'home'), ('Back', 'Back to previous …"
      ],
      "application/vnd.jupyter.widget-view+json": {
       "model_id": "9fe950c5b2384d24bdacedf01edd804e",
       "version_major": 2,
       "version_minor": 0
      }
     },
     "metadata": {}
    }
   ],
   "metadata": {}
  },
  {
   "cell_type": "code",
   "execution_count": 66,
   "source": [
    "for s in list_EDA_approved:\n",
    "\n",
    "    df = pd.read_pickle(saved_path + \"/CVA_analysis/Dataframe/{}.pkl\".format(s))\n",
    "\n",
    "    print(saved_path + \"/CVA_analysis/Dataframe/{}.pkl\".format(s))\n",
    "\n",
    "    EDA_FC = df[[\"EDA_FC_NORM\"]][df[\"EDA_FC_NORM\"].notna()].values[100:-250]\n",
    "    EDA_EM = df[[\"EDA_EM_NORM\"]][df[\"EDA_EM_NORM\"].notna()].values[100:-250]\n",
    "    \n",
    "    EDA_FC = df[[\"EDA_FC_SMO\"]][df[\"EDA_FC_SMO\"].notna()].values[100:-250]\n",
    "    EDA_EM = df[[\"EDA_EM_SMO\"]][df[\"EDA_EM_SMO\"].notna()].values[100:-250]\n",
    "    \n",
    "    plt.figure()\n",
    "    plt.title(s)\n",
    "    plt.plot(EDA_FC)\n",
    "    plt.plot(EDA_EM)"
   ],
   "outputs": [
    {
     "output_type": "stream",
     "name": "stdout",
     "text": [
      "./Result/CVA_analysis/Dataframe/P7-1.pkl\n"
     ]
    },
    {
     "output_type": "display_data",
     "data": {
      "text/plain": [
       "Canvas(toolbar=Toolbar(toolitems=[('Home', 'Reset original view', 'home', 'home'), ('Back', 'Back to previous …"
      ],
      "application/vnd.jupyter.widget-view+json": {
       "model_id": "87d835faf90f405a93c169050e631380",
       "version_major": 2,
       "version_minor": 0
      }
     },
     "metadata": {}
    },
    {
     "output_type": "stream",
     "name": "stdout",
     "text": [
      "./Result/CVA_analysis/Dataframe/P7-2.pkl\n"
     ]
    },
    {
     "output_type": "display_data",
     "data": {
      "text/plain": [
       "Canvas(toolbar=Toolbar(toolitems=[('Home', 'Reset original view', 'home', 'home'), ('Back', 'Back to previous …"
      ],
      "application/vnd.jupyter.widget-view+json": {
       "model_id": "9545f5579dd7460a8e7a6916c0fd4ebc",
       "version_major": 2,
       "version_minor": 0
      }
     },
     "metadata": {}
    },
    {
     "output_type": "stream",
     "name": "stdout",
     "text": [
      "./Result/CVA_analysis/Dataframe/P10-1.pkl\n"
     ]
    },
    {
     "output_type": "display_data",
     "data": {
      "text/plain": [
       "Canvas(toolbar=Toolbar(toolitems=[('Home', 'Reset original view', 'home', 'home'), ('Back', 'Back to previous …"
      ],
      "application/vnd.jupyter.widget-view+json": {
       "model_id": "a234da905fa84b81a97206a67440ccd3",
       "version_major": 2,
       "version_minor": 0
      }
     },
     "metadata": {}
    },
    {
     "output_type": "stream",
     "name": "stdout",
     "text": [
      "./Result/CVA_analysis/Dataframe/P10-2.pkl\n"
     ]
    },
    {
     "output_type": "display_data",
     "data": {
      "text/plain": [
       "Canvas(toolbar=Toolbar(toolitems=[('Home', 'Reset original view', 'home', 'home'), ('Back', 'Back to previous …"
      ],
      "application/vnd.jupyter.widget-view+json": {
       "model_id": "9e3f854bea0540eca5a92b0bc568df5e",
       "version_major": 2,
       "version_minor": 0
      }
     },
     "metadata": {}
    },
    {
     "output_type": "stream",
     "name": "stdout",
     "text": [
      "./Result/CVA_analysis/Dataframe/P11-1.pkl\n"
     ]
    },
    {
     "output_type": "display_data",
     "data": {
      "text/plain": [
       "Canvas(toolbar=Toolbar(toolitems=[('Home', 'Reset original view', 'home', 'home'), ('Back', 'Back to previous …"
      ],
      "application/vnd.jupyter.widget-view+json": {
       "model_id": "a5645603108c4ac3bdafef871f2a9d75",
       "version_major": 2,
       "version_minor": 0
      }
     },
     "metadata": {}
    },
    {
     "output_type": "stream",
     "name": "stdout",
     "text": [
      "./Result/CVA_analysis/Dataframe/P11-2.pkl\n"
     ]
    },
    {
     "output_type": "display_data",
     "data": {
      "text/plain": [
       "Canvas(toolbar=Toolbar(toolitems=[('Home', 'Reset original view', 'home', 'home'), ('Back', 'Back to previous …"
      ],
      "application/vnd.jupyter.widget-view+json": {
       "model_id": "59f58a8022914a058ac882f47beeecc0",
       "version_major": 2,
       "version_minor": 0
      }
     },
     "metadata": {}
    },
    {
     "output_type": "stream",
     "name": "stdout",
     "text": [
      "./Result/CVA_analysis/Dataframe/P13-1.pkl\n"
     ]
    },
    {
     "output_type": "display_data",
     "data": {
      "text/plain": [
       "Canvas(toolbar=Toolbar(toolitems=[('Home', 'Reset original view', 'home', 'home'), ('Back', 'Back to previous …"
      ],
      "application/vnd.jupyter.widget-view+json": {
       "model_id": "7a48fdef0d41493c842736c00522b41f",
       "version_major": 2,
       "version_minor": 0
      }
     },
     "metadata": {}
    },
    {
     "output_type": "stream",
     "name": "stdout",
     "text": [
      "./Result/CVA_analysis/Dataframe/P13-2.pkl\n"
     ]
    },
    {
     "output_type": "display_data",
     "data": {
      "text/plain": [
       "Canvas(toolbar=Toolbar(toolitems=[('Home', 'Reset original view', 'home', 'home'), ('Back', 'Back to previous …"
      ],
      "application/vnd.jupyter.widget-view+json": {
       "model_id": "cbf2e81560e549c6845119a5c245f6f5",
       "version_major": 2,
       "version_minor": 0
      }
     },
     "metadata": {}
    },
    {
     "output_type": "stream",
     "name": "stdout",
     "text": [
      "./Result/CVA_analysis/Dataframe/P14-1.pkl\n"
     ]
    },
    {
     "output_type": "display_data",
     "data": {
      "text/plain": [
       "Canvas(toolbar=Toolbar(toolitems=[('Home', 'Reset original view', 'home', 'home'), ('Back', 'Back to previous …"
      ],
      "application/vnd.jupyter.widget-view+json": {
       "model_id": "b464100012c4410b819f8fa1477f4e2e",
       "version_major": 2,
       "version_minor": 0
      }
     },
     "metadata": {}
    },
    {
     "output_type": "stream",
     "name": "stdout",
     "text": [
      "./Result/CVA_analysis/Dataframe/P14-2.pkl\n"
     ]
    },
    {
     "output_type": "display_data",
     "data": {
      "text/plain": [
       "Canvas(toolbar=Toolbar(toolitems=[('Home', 'Reset original view', 'home', 'home'), ('Back', 'Back to previous …"
      ],
      "application/vnd.jupyter.widget-view+json": {
       "model_id": "4036dbe1dbc843cfb7a066885e850277",
       "version_major": 2,
       "version_minor": 0
      }
     },
     "metadata": {}
    },
    {
     "output_type": "stream",
     "name": "stdout",
     "text": [
      "./Result/CVA_analysis/Dataframe/P17-1.pkl\n"
     ]
    },
    {
     "output_type": "display_data",
     "data": {
      "text/plain": [
       "Canvas(toolbar=Toolbar(toolitems=[('Home', 'Reset original view', 'home', 'home'), ('Back', 'Back to previous …"
      ],
      "application/vnd.jupyter.widget-view+json": {
       "model_id": "56c78ed2fa1a486fbf39b6bce742a32b",
       "version_major": 2,
       "version_minor": 0
      }
     },
     "metadata": {}
    },
    {
     "output_type": "stream",
     "name": "stdout",
     "text": [
      "./Result/CVA_analysis/Dataframe/P17-2.pkl\n"
     ]
    },
    {
     "output_type": "display_data",
     "data": {
      "text/plain": [
       "Canvas(toolbar=Toolbar(toolitems=[('Home', 'Reset original view', 'home', 'home'), ('Back', 'Back to previous …"
      ],
      "application/vnd.jupyter.widget-view+json": {
       "model_id": "74a3102abaa64520a6a2c39406a82076",
       "version_major": 2,
       "version_minor": 0
      }
     },
     "metadata": {}
    },
    {
     "output_type": "stream",
     "name": "stdout",
     "text": [
      "./Result/CVA_analysis/Dataframe/P18-1.pkl\n"
     ]
    },
    {
     "output_type": "display_data",
     "data": {
      "text/plain": [
       "Canvas(toolbar=Toolbar(toolitems=[('Home', 'Reset original view', 'home', 'home'), ('Back', 'Back to previous …"
      ],
      "application/vnd.jupyter.widget-view+json": {
       "model_id": "0698710f11ab4d6393df60c905ba72aa",
       "version_major": 2,
       "version_minor": 0
      }
     },
     "metadata": {}
    },
    {
     "output_type": "stream",
     "name": "stdout",
     "text": [
      "./Result/CVA_analysis/Dataframe/P19-2.pkl\n"
     ]
    },
    {
     "output_type": "display_data",
     "data": {
      "text/plain": [
       "Canvas(toolbar=Toolbar(toolitems=[('Home', 'Reset original view', 'home', 'home'), ('Back', 'Back to previous …"
      ],
      "application/vnd.jupyter.widget-view+json": {
       "model_id": "aa91cd6731804dc8b54b76338f259f87",
       "version_major": 2,
       "version_minor": 0
      }
     },
     "metadata": {}
    },
    {
     "output_type": "stream",
     "name": "stdout",
     "text": [
      "./Result/CVA_analysis/Dataframe/P20-1.pkl\n"
     ]
    },
    {
     "output_type": "display_data",
     "data": {
      "text/plain": [
       "Canvas(toolbar=Toolbar(toolitems=[('Home', 'Reset original view', 'home', 'home'), ('Back', 'Back to previous …"
      ],
      "application/vnd.jupyter.widget-view+json": {
       "model_id": "cf89305a49104875a842ff450f493910",
       "version_major": 2,
       "version_minor": 0
      }
     },
     "metadata": {}
    },
    {
     "output_type": "stream",
     "name": "stdout",
     "text": [
      "./Result/CVA_analysis/Dataframe/P20-2.pkl\n"
     ]
    },
    {
     "output_type": "display_data",
     "data": {
      "text/plain": [
       "Canvas(toolbar=Toolbar(toolitems=[('Home', 'Reset original view', 'home', 'home'), ('Back', 'Back to previous …"
      ],
      "application/vnd.jupyter.widget-view+json": {
       "model_id": "77d67f7ec2b24ca2b4a5ecc3f6edba71",
       "version_major": 2,
       "version_minor": 0
      }
     },
     "metadata": {}
    },
    {
     "output_type": "stream",
     "name": "stdout",
     "text": [
      "./Result/CVA_analysis/Dataframe/P21-1.pkl\n"
     ]
    },
    {
     "output_type": "display_data",
     "data": {
      "text/plain": [
       "Canvas(toolbar=Toolbar(toolitems=[('Home', 'Reset original view', 'home', 'home'), ('Back', 'Back to previous …"
      ],
      "application/vnd.jupyter.widget-view+json": {
       "model_id": "698a095803b14e59b6e55ee41a67d9d0",
       "version_major": 2,
       "version_minor": 0
      }
     },
     "metadata": {}
    },
    {
     "output_type": "stream",
     "name": "stdout",
     "text": [
      "./Result/CVA_analysis/Dataframe/P21-2.pkl\n"
     ]
    },
    {
     "output_type": "display_data",
     "data": {
      "text/plain": [
       "Canvas(toolbar=Toolbar(toolitems=[('Home', 'Reset original view', 'home', 'home'), ('Back', 'Back to previous …"
      ],
      "application/vnd.jupyter.widget-view+json": {
       "model_id": "84ac4dd82eb848899174320dca53b354",
       "version_major": 2,
       "version_minor": 0
      }
     },
     "metadata": {}
    },
    {
     "output_type": "stream",
     "name": "stdout",
     "text": [
      "./Result/CVA_analysis/Dataframe/P22-1.pkl\n"
     ]
    },
    {
     "output_type": "display_data",
     "data": {
      "text/plain": [
       "Canvas(toolbar=Toolbar(toolitems=[('Home', 'Reset original view', 'home', 'home'), ('Back', 'Back to previous …"
      ],
      "application/vnd.jupyter.widget-view+json": {
       "model_id": "42125302a3774e0896fe8831666cbf9e",
       "version_major": 2,
       "version_minor": 0
      }
     },
     "metadata": {}
    },
    {
     "output_type": "stream",
     "name": "stdout",
     "text": [
      "./Result/CVA_analysis/Dataframe/P22-2.pkl\n"
     ]
    },
    {
     "output_type": "display_data",
     "data": {
      "text/plain": [
       "Canvas(toolbar=Toolbar(toolitems=[('Home', 'Reset original view', 'home', 'home'), ('Back', 'Back to previous …"
      ],
      "application/vnd.jupyter.widget-view+json": {
       "model_id": "52b515302a3a40fb9b6ee3ddd28bea42",
       "version_major": 2,
       "version_minor": 0
      }
     },
     "metadata": {}
    },
    {
     "output_type": "stream",
     "name": "stdout",
     "text": [
      "./Result/CVA_analysis/Dataframe/P23-1.pkl\n"
     ]
    },
    {
     "output_type": "display_data",
     "data": {
      "text/plain": [
       "Canvas(toolbar=Toolbar(toolitems=[('Home', 'Reset original view', 'home', 'home'), ('Back', 'Back to previous …"
      ],
      "application/vnd.jupyter.widget-view+json": {
       "model_id": "a7c3a4f3cf944d81903e28a1abc5a957",
       "version_major": 2,
       "version_minor": 0
      }
     },
     "metadata": {}
    },
    {
     "output_type": "stream",
     "name": "stdout",
     "text": [
      "./Result/CVA_analysis/Dataframe/P23-2.pkl\n"
     ]
    },
    {
     "output_type": "display_data",
     "data": {
      "text/plain": [
       "Canvas(toolbar=Toolbar(toolitems=[('Home', 'Reset original view', 'home', 'home'), ('Back', 'Back to previous …"
      ],
      "application/vnd.jupyter.widget-view+json": {
       "model_id": "24d98982c63d4430843ebd269c41ef13",
       "version_major": 2,
       "version_minor": 0
      }
     },
     "metadata": {}
    },
    {
     "output_type": "stream",
     "name": "stdout",
     "text": [
      "./Result/CVA_analysis/Dataframe/P24-1.pkl\n"
     ]
    },
    {
     "output_type": "display_data",
     "data": {
      "text/plain": [
       "Canvas(toolbar=Toolbar(toolitems=[('Home', 'Reset original view', 'home', 'home'), ('Back', 'Back to previous …"
      ],
      "application/vnd.jupyter.widget-view+json": {
       "model_id": "02a86d091f1b4d55abad34a72147efb6",
       "version_major": 2,
       "version_minor": 0
      }
     },
     "metadata": {}
    },
    {
     "output_type": "stream",
     "name": "stdout",
     "text": [
      "./Result/CVA_analysis/Dataframe/P24-2.pkl\n"
     ]
    },
    {
     "output_type": "display_data",
     "data": {
      "text/plain": [
       "Canvas(toolbar=Toolbar(toolitems=[('Home', 'Reset original view', 'home', 'home'), ('Back', 'Back to previous …"
      ],
      "application/vnd.jupyter.widget-view+json": {
       "model_id": "125faa9bb5984d3ba69222f056f23cd8",
       "version_major": 2,
       "version_minor": 0
      }
     },
     "metadata": {}
    },
    {
     "output_type": "stream",
     "name": "stdout",
     "text": [
      "./Result/CVA_analysis/Dataframe/P25-1.pkl\n"
     ]
    },
    {
     "output_type": "display_data",
     "data": {
      "text/plain": [
       "Canvas(toolbar=Toolbar(toolitems=[('Home', 'Reset original view', 'home', 'home'), ('Back', 'Back to previous …"
      ],
      "application/vnd.jupyter.widget-view+json": {
       "model_id": "8f3dd4840c8048b0b2a31e0443a38bee",
       "version_major": 2,
       "version_minor": 0
      }
     },
     "metadata": {}
    },
    {
     "output_type": "stream",
     "name": "stdout",
     "text": [
      "./Result/CVA_analysis/Dataframe/P25-2.pkl\n"
     ]
    },
    {
     "output_type": "display_data",
     "data": {
      "text/plain": [
       "Canvas(toolbar=Toolbar(toolitems=[('Home', 'Reset original view', 'home', 'home'), ('Back', 'Back to previous …"
      ],
      "application/vnd.jupyter.widget-view+json": {
       "model_id": "26a6cfb9095144ea91c5469903871fca",
       "version_major": 2,
       "version_minor": 0
      }
     },
     "metadata": {}
    },
    {
     "output_type": "stream",
     "name": "stdout",
     "text": [
      "./Result/CVA_analysis/Dataframe/P26-1.pkl\n"
     ]
    },
    {
     "output_type": "display_data",
     "data": {
      "text/plain": [
       "Canvas(toolbar=Toolbar(toolitems=[('Home', 'Reset original view', 'home', 'home'), ('Back', 'Back to previous …"
      ],
      "application/vnd.jupyter.widget-view+json": {
       "model_id": "04bc1f189af24e1bada8b43c850b9adf",
       "version_major": 2,
       "version_minor": 0
      }
     },
     "metadata": {}
    },
    {
     "output_type": "stream",
     "name": "stdout",
     "text": [
      "./Result/CVA_analysis/Dataframe/P26-2.pkl\n"
     ]
    },
    {
     "output_type": "display_data",
     "data": {
      "text/plain": [
       "Canvas(toolbar=Toolbar(toolitems=[('Home', 'Reset original view', 'home', 'home'), ('Back', 'Back to previous …"
      ],
      "application/vnd.jupyter.widget-view+json": {
       "model_id": "5b36b1e135914a01bea24a80e13914e1",
       "version_major": 2,
       "version_minor": 0
      }
     },
     "metadata": {}
    },
    {
     "output_type": "stream",
     "name": "stdout",
     "text": [
      "./Result/CVA_analysis/Dataframe/P28-1.pkl\n"
     ]
    },
    {
     "output_type": "display_data",
     "data": {
      "text/plain": [
       "Canvas(toolbar=Toolbar(toolitems=[('Home', 'Reset original view', 'home', 'home'), ('Back', 'Back to previous …"
      ],
      "application/vnd.jupyter.widget-view+json": {
       "model_id": "00d9506220cf44fabbc22547c2586aaf",
       "version_major": 2,
       "version_minor": 0
      }
     },
     "metadata": {}
    },
    {
     "output_type": "stream",
     "name": "stdout",
     "text": [
      "./Result/CVA_analysis/Dataframe/P28-2.pkl\n"
     ]
    },
    {
     "output_type": "display_data",
     "data": {
      "text/plain": [
       "Canvas(toolbar=Toolbar(toolitems=[('Home', 'Reset original view', 'home', 'home'), ('Back', 'Back to previous …"
      ],
      "application/vnd.jupyter.widget-view+json": {
       "model_id": "09a88cef00424470baf3c542df96fce7",
       "version_major": 2,
       "version_minor": 0
      }
     },
     "metadata": {}
    },
    {
     "output_type": "stream",
     "name": "stdout",
     "text": [
      "./Result/CVA_analysis/Dataframe/P29-1.pkl\n"
     ]
    },
    {
     "output_type": "display_data",
     "data": {
      "text/plain": [
       "Canvas(toolbar=Toolbar(toolitems=[('Home', 'Reset original view', 'home', 'home'), ('Back', 'Back to previous …"
      ],
      "application/vnd.jupyter.widget-view+json": {
       "model_id": "4242bf0e25294705af436fcc621b63e5",
       "version_major": 2,
       "version_minor": 0
      }
     },
     "metadata": {}
    },
    {
     "output_type": "stream",
     "name": "stdout",
     "text": [
      "./Result/CVA_analysis/Dataframe/P29-2.pkl\n"
     ]
    },
    {
     "output_type": "display_data",
     "data": {
      "text/plain": [
       "Canvas(toolbar=Toolbar(toolitems=[('Home', 'Reset original view', 'home', 'home'), ('Back', 'Back to previous …"
      ],
      "application/vnd.jupyter.widget-view+json": {
       "model_id": "c89de71f0b93462bb8603bb4c36319b2",
       "version_major": 2,
       "version_minor": 0
      }
     },
     "metadata": {}
    },
    {
     "output_type": "stream",
     "name": "stdout",
     "text": [
      "./Result/CVA_analysis/Dataframe/P30-1.pkl\n"
     ]
    },
    {
     "output_type": "display_data",
     "data": {
      "text/plain": [
       "Canvas(toolbar=Toolbar(toolitems=[('Home', 'Reset original view', 'home', 'home'), ('Back', 'Back to previous …"
      ],
      "application/vnd.jupyter.widget-view+json": {
       "model_id": "18d96093665e43cea98ae49ab15bbb26",
       "version_major": 2,
       "version_minor": 0
      }
     },
     "metadata": {}
    },
    {
     "output_type": "stream",
     "name": "stdout",
     "text": [
      "./Result/CVA_analysis/Dataframe/P30-2.pkl\n"
     ]
    },
    {
     "output_type": "display_data",
     "data": {
      "text/plain": [
       "Canvas(toolbar=Toolbar(toolitems=[('Home', 'Reset original view', 'home', 'home'), ('Back', 'Back to previous …"
      ],
      "application/vnd.jupyter.widget-view+json": {
       "model_id": "85b31568829f4da694d949452a3f8f68",
       "version_major": 2,
       "version_minor": 0
      }
     },
     "metadata": {}
    }
   ],
   "metadata": {
    "collapsed": true,
    "jupyter": {
     "outputs_hidden": true
    },
    "tags": []
   }
  },
  {
   "cell_type": "markdown",
   "source": [
    "## Example of best and worst EDA collection"
   ],
   "metadata": {}
  },
  {
   "cell_type": "code",
   "execution_count": 67,
   "source": [
    "s = \"P20-1\"\n",
    "    \n",
    "df = pd.read_pickle(saved_path + \"/CVA_analysis/Dataframe/{}.pkl\".format(s))\n",
    "\n",
    "print(saved_path + \"/CVA_analysis/Dataframe/{}.pkl\".format(s))\n",
    "\n",
    "EDA_FC = df[[\"EDA_FC_NORM\",\"Time\"]][df[\"EDA_FC_NORM\"].notna()].values[100:-250]\n",
    "EDA_EM = df[[\"EDA_EM_NORM\",\"Time\"]][df[\"EDA_EM_NORM\"].notna()].values[100:-250]\n",
    "\n",
    "EDA_FC = df[[\"EDA_FC_SMO\",\"Time\"]][df[\"EDA_FC_SMO\"].notna()].values[100:-250]\n",
    "EDA_EM = df[[\"EDA_EM_SMO\",\"Time\"]][df[\"EDA_EM_SMO\"].notna()].values[100:-250]\n",
    "\n",
    "plt.figure()\n",
    "plt.title(\"Highest cross-correlation (0.99)\")\n",
    "plt.plot(EDA_FC[:,1], EDA_FC[:,0])\n",
    "plt.plot(EDA_EM[:,1], EDA_EM[:,0])\n",
    "plt.legend([\"Reference device\", \"Emotibit device\"])\n",
    "plt.ylim([0,4])\n",
    "plt.xlabel(\"Time (s)\")\n",
    "plt.ylabel(\"Skin conductance (µS)\")\n",
    "plt.savefig(saved_path + \"/CVA_analysis/Figures/Highest_Corr.svg\", format=\"svg\")\n",
    "\n",
    "s = \"P28-2\"\n",
    "    \n",
    "df = pd.read_pickle(saved_path + \"/CVA_analysis/Dataframe/{}.pkl\".format(s))\n",
    "\n",
    "print(saved_path + \"/CVA_analysis/Dataframe/{}.pkl\".format(s))\n",
    "\n",
    "EDA_FC = df[[\"EDA_FC_NORM\",\"Time\"]][df[\"EDA_FC_NORM\"].notna()].values[100:-250]\n",
    "EDA_EM = df[[\"EDA_EM_NORM\",\"Time\"]][df[\"EDA_EM_NORM\"].notna()].values[100:-250]\n",
    "\n",
    "EDA_FC = df[[\"EDA_FC_SMO\",\"Time\"]][df[\"EDA_FC_SMO\"].notna()].values[100:-250]\n",
    "EDA_EM = df[[\"EDA_EM_SMO\",\"Time\"]][df[\"EDA_EM_SMO\"].notna()].values[100:-250]\n",
    "\n",
    "plt.figure()\n",
    "plt.title(\"Lowest cross-correlation (0.42)\")\n",
    "plt.plot(EDA_FC[:,1], EDA_FC[:,0])\n",
    "plt.plot(EDA_EM[:,1], EDA_EM[:,0])\n",
    "plt.legend([\"Reference device\", \"Emotibit device\"])\n",
    "plt.ylim([0,8])\n",
    "plt.xlabel(\"Time (s)\")\n",
    "plt.ylabel(\"Skin conductance (µS)\")\n",
    "plt.savefig(saved_path + \"/CVA_analysis/Figures/Lowest_Corr.svg\", format=\"svg\")\n"
   ],
   "outputs": [
    {
     "output_type": "stream",
     "name": "stdout",
     "text": [
      "./Result/CVA_analysis/Dataframe/P20-1.pkl\n"
     ]
    },
    {
     "output_type": "display_data",
     "data": {
      "text/plain": [
       "Canvas(toolbar=Toolbar(toolitems=[('Home', 'Reset original view', 'home', 'home'), ('Back', 'Back to previous …"
      ],
      "application/vnd.jupyter.widget-view+json": {
       "model_id": "45aab622c4ef440ba9873ce7e2f70940",
       "version_major": 2,
       "version_minor": 0
      }
     },
     "metadata": {}
    },
    {
     "output_type": "stream",
     "name": "stdout",
     "text": [
      "./Result/CVA_analysis/Dataframe/P28-2.pkl\n"
     ]
    },
    {
     "output_type": "display_data",
     "data": {
      "text/plain": [
       "Canvas(toolbar=Toolbar(toolitems=[('Home', 'Reset original view', 'home', 'home'), ('Back', 'Back to previous …"
      ],
      "application/vnd.jupyter.widget-view+json": {
       "model_id": "2385ea839bd248cb9a21750d56a19ed5",
       "version_major": 2,
       "version_minor": 0
      }
     },
     "metadata": {}
    }
   ],
   "metadata": {}
  },
  {
   "cell_type": "markdown",
   "source": [
    "# The remaining analysis of the EDA is done on Matlab with Ledalab"
   ],
   "metadata": {}
  },
  {
   "cell_type": "code",
   "execution_count": 74,
   "source": [
    "################################################\n",
    "# Conversion of EDA data into matlab files (.mat)\n",
    "################################################\n",
    "from scipy.io import savemat\n",
    "\n",
    "for p in list_EDA_approved:\n",
    "    try:\n",
    "        x = np.load(saved_path + \"/CVA_analysis/Dataframe/{}.pkl\".format(p), allow_pickle=True)\n",
    "    except:\n",
    "        continue\n",
    "        \n",
    "    fileinfo = {\"version\": 3.4900,\n",
    "                \"date\": [2021, 1, 26, 17, 12, 26.1370],\n",
    "                \"log\": []}\n",
    "\n",
    "    EDA = x[[\"EDA_FC_SMO\"]][x[\"EDA_FC_SMO\"].notna()].values[100:-250]\n",
    "    Time = x[[\"Time\"]][x[\"EDA_FC_SMO\"].notna()].values[100:-250]\n",
    "\n",
    "    event = {\"time\" : [],\n",
    "             \"nid\" : [],\n",
    "             \"name\" : [],\n",
    "             \"userdata\" : []}\n",
    "\n",
    "    data = {\"conductance\" : EDA,\n",
    "            \"time\" : Time,\n",
    "            \"timeoff\" : 0,\n",
    "            \"event\" : event}\n",
    "\n",
    "    mdic = {\"data\": data}\n",
    "\n",
    "    savemat(saved_path + \"/EDA_mat/DATA_{}_EDA_FC.mat\".format(p), mdic)\n",
    "    \n",
    "    EDA = x[[\"EDA_EM_SMO\"]][x[\"EDA_EM_SMO\"].notna()].values[100:-250]\n",
    "    Time = x[[\"Time\"]][x[\"EDA_EM_SMO\"].notna()].values[100:-250]\n",
    "\n",
    "    event = {\"time\" : [],\n",
    "             \"nid\" : [],\n",
    "             \"name\" : [],\n",
    "             \"userdata\" : []}\n",
    "\n",
    "    data = {\"conductance\" : EDA,\n",
    "            \"time\" : Time,\n",
    "            \"timeoff\" : 0,\n",
    "            \"event\" : event}\n",
    "\n",
    "    mdic = {\"data\": data}\n",
    "\n",
    "    savemat(saved_path + \"/EDA_mat/DATA_{}_EDA_EM.mat\".format(p), mdic)"
   ],
   "outputs": [],
   "metadata": {}
  },
  {
   "cell_type": "markdown",
   "source": [
    "## Steps to extract the number of SCRs and the amplitude of each SCR\n",
    "1. Copy the EDA_mat folder to the main Ledalab folder.\n",
    "2. Run the matlab command: Ledalab('Path to EDA_mat folder\\', 'open', 'mat', 'analyze', 'CDA')\n",
    "3. Rename the folder \"EDA_mat_analysis\" and copy the \"EDA_mat_analysis\" folder to the python environment. Analysis data is inside the same files given in input.\n",
    "\n",
    "Matlab instruction:\n",
    "Ledalab('Path to EDA_mat folder\\', 'open', 'mat', 'analyze', 'CDA')"
   ],
   "metadata": {}
  },
  {
   "cell_type": "markdown",
   "source": [
    "# Use Python to plot Bland-Altman graphes"
   ],
   "metadata": {}
  },
  {
   "cell_type": "code",
   "execution_count": 75,
   "source": [
    "import scipy\n",
    "\n",
    "SCL_EM = []\n",
    "SCL_FC = []\n",
    "\n",
    "for s in list_EDA_approved:\n",
    "    try:\n",
    "        df = pd.read_pickle(saved_path + \"/CVA_analysis/Dataframe/{}.pkl\".format(s))\n",
    "    except:\n",
    "        continue\n",
    "\n",
    "    EDA_FC = df[[\"EDA_FC_SMO\"]][df[\"EDA_FC_SMO\"].notna()].values[100:-250]\n",
    "    EDA_EM = df[[\"EDA_EM_SMO\"]][df[\"EDA_EM_SMO\"].notna()].values[100:-250]\n",
    "\n",
    "    SCL_EM.append(EDA_EM.mean())\n",
    "    SCL_FC.append(EDA_FC.mean())\n",
    "\n",
    "logSCL_EM = np.array(SCL_EM).reshape([-1])\n",
    "logSCL_FC = np.array(SCL_FC).reshape([-1])\n",
    "\n",
    "lies_in = np.sum(((logSCL_EM-logSCL_FC)<1.6) & ((logSCL_EM-logSCL_FC)>-1.6))/np.size(logSCL_EM)\n",
    "\n",
    "fig = plt.figure()\n",
    "ax = fig.add_subplot(1,1,1)\n",
    "pingouin.plot_blandaltman(logSCL_EM, logSCL_FC, confidence=0.1, ax=ax)\n",
    "plt.axhline(1.6, xmin=0, xmax=1, c=\"g\", linestyle=\"-.\")\n",
    "plt.axhline(-1.6, xmin=0, xmax=1, c=\"g\", linestyle=\"-.\")\n",
    "plt.text(0.5, 0.1, '{} % of the data lies inside of the boundaries.'.format(int(lies_in*100)), horizontalalignment='center', verticalalignment='center', transform=ax.transAxes, fontsize=10)\n",
    "plt.title(\"Mean SCL\")\n",
    "plt.ylabel(\"Difference SCL (EM - FC)\")\n",
    "plt.xlabel(\"Mean SCL (EM,FC)\")\n",
    "\n",
    "SD = np.std((logSCL_EM-logSCL_FC))\n",
    "BAr = SD*1.96/(np.mean((logSCL_EM+logSCL_FC)/2))\n",
    "print(BAr)\n",
    "plt.text(0.75, 0.9, 'BAr : {:.2f}'.format(BAr), horizontalalignment='center', verticalalignment='center', transform=ax.transAxes, fontsize=10)\n",
    "plt.savefig(saved_path + \"/CVA_analysis/Figures/BA_SCL.svg\", format=\"svg\")\n",
    "\n",
    "# Number of SCRs\n",
    "nSCR_EM = []\n",
    "nSCR_FC = []\n",
    "\n",
    "S_ampl_EM = []\n",
    "S_ampl_FC = []\n",
    "\n",
    "for s in list_EDA_approved:\n",
    "    try:\n",
    "        ana_em = scipy.io.loadmat(saved_path + \"/EDA_mat_analysis/DATA_{}_EDA_EM.mat\".format(s))\n",
    "        ana_fc = scipy.io.loadmat(saved_path + \"/EDA_mat_analysis/DATA_{}_EDA_FC.mat\".format(s))\n",
    "    except:\n",
    "        continue\n",
    "    \n",
    "    nSCR_EM.append(ana_em[\"analysis\"][\"amp\"][0,0].shape[1]/10)\n",
    "    nSCR_FC.append(ana_fc[\"analysis\"][\"amp\"][0,0].shape[1]/10)\n",
    "\n",
    "    S_ampl_EM.append(ana_em[\"analysis\"][\"amp\"][0,0].sum()/10)\n",
    "    S_ampl_FC.append(ana_fc[\"analysis\"][\"amp\"][0,0].sum()/10)\n",
    "    \n",
    "\n",
    "lognSCR_EM = np.array(nSCR_EM).reshape([-1])\n",
    "lognSCR_FC = np.array(nSCR_FC).reshape([-1])\n",
    "\n",
    "lies_in = np.sum(((lognSCR_EM-lognSCR_FC)<2.5) & ((lognSCR_EM-lognSCR_FC)>-2.5))/np.size(lognSCR_EM)\n",
    "\n",
    "fig = plt.figure()\n",
    "ax = fig.add_subplot(1,1,1)\n",
    "pingouin.plot_blandaltman(lognSCR_EM, lognSCR_FC, confidence=0.1, ax=ax)\n",
    "plt.axhline(2.5, xmin=0, xmax=1, c=\"g\", linestyle=\"-.\")\n",
    "plt.axhline(-2.5, xmin=0, xmax=1, c=\"g\", linestyle=\"-.\")\n",
    "plt.text(0.5, 0.1, '{} % of the data lies inside of the boundaries.'.format(int(lies_in*100)), horizontalalignment='center', verticalalignment='center', transform=ax.transAxes, fontsize=10)\n",
    "plt.title(\"Mean noSCRs\")\n",
    "plt.ylabel(\"Difference noSCRs (EM - FC)\")\n",
    "plt.xlabel(\"Mean noSCRs (EM,FC)\")\n",
    "\n",
    "SD = np.std((lognSCR_EM-lognSCR_FC))\n",
    "BAr = SD*1.96/(np.mean((lognSCR_EM+lognSCR_FC)/2))\n",
    "print(BAr)\n",
    "plt.text(0.75, 0.9, 'BAr : {:.2f}'.format(BAr), horizontalalignment='center', verticalalignment='center', transform=ax.transAxes, fontsize=10)\n",
    "plt.savefig(saved_path + \"/CVA_analysis/Figures/BA_noSCRs.svg\", format=\"svg\")\n",
    "\n",
    "logS_ampl_EM = np.array(S_ampl_EM).reshape([-1])\n",
    "logS_ampl_FC = np.array(S_ampl_FC).reshape([-1])\n",
    "\n",
    "lies_in = np.sum(((logS_ampl_EM-logS_ampl_FC)<0.6) & ((logS_ampl_EM-logS_ampl_FC)>-0.6))/np.size(logS_ampl_EM)\n",
    "\n",
    "fig = plt.figure()\n",
    "ax = fig.add_subplot(1,1,1)\n",
    "pingouin.plot_blandaltman(logS_ampl_EM, logS_ampl_FC, confidence=0.1, ax=ax)\n",
    "plt.axhline(0.6, xmin=0, xmax=1, c=\"g\", linestyle=\"-.\")\n",
    "plt.axhline(-0.6, xmin=0, xmax=1, c=\"g\", linestyle=\"-.\")\n",
    "plt.text(0.5, 0.1, '{} % of the data lies inside of the boundaries.'.format(int(lies_in*100)), horizontalalignment='center', verticalalignment='center', transform=ax.transAxes, fontsize=10)\n",
    "plt.title(\"Mean S-AMPL\")\n",
    "plt.ylabel(\"Difference S-AMPL (EM - FC)\")\n",
    "plt.xlabel(\"Mean S-AMPL (EM,FC)\")\n",
    "\n",
    "SD = np.std((logS_ampl_EM-logS_ampl_FC))\n",
    "BAr = SD*1.96/(np.mean((logS_ampl_EM+logS_ampl_FC)/2))\n",
    "print(BAr)\n",
    "plt.text(0.75, 0.85, 'BAr : {:.2f}'.format(BAr), horizontalalignment='center', verticalalignment='center', transform=ax.transAxes, fontsize=10)\n",
    "plt.savefig(saved_path + \"/CVA_analysis/Figures/BA_S-AMPL.svg\", format=\"svg\")"
   ],
   "outputs": [
    {
     "output_type": "display_data",
     "data": {
      "text/plain": [
       "Canvas(toolbar=Toolbar(toolitems=[('Home', 'Reset original view', 'home', 'home'), ('Back', 'Back to previous …"
      ],
      "application/vnd.jupyter.widget-view+json": {
       "model_id": "a7082945a538450db2b3f2b5291d9311",
       "version_major": 2,
       "version_minor": 0
      }
     },
     "metadata": {}
    },
    {
     "output_type": "stream",
     "name": "stdout",
     "text": [
      "1.0066681676078535\n"
     ]
    },
    {
     "output_type": "display_data",
     "data": {
      "text/plain": [
       "Canvas(toolbar=Toolbar(toolitems=[('Home', 'Reset original view', 'home', 'home'), ('Back', 'Back to previous …"
      ],
      "application/vnd.jupyter.widget-view+json": {
       "model_id": "59c66d5d0e374c8e9bea0981ec27939b",
       "version_major": 2,
       "version_minor": 0
      }
     },
     "metadata": {}
    },
    {
     "output_type": "stream",
     "name": "stdout",
     "text": [
      "0.5184027091629658\n"
     ]
    },
    {
     "output_type": "display_data",
     "data": {
      "text/plain": [
       "Canvas(toolbar=Toolbar(toolitems=[('Home', 'Reset original view', 'home', 'home'), ('Back', 'Back to previous …"
      ],
      "application/vnd.jupyter.widget-view+json": {
       "model_id": "4f5ffa0e59d74dbd8a9f380eba3d2332",
       "version_major": 2,
       "version_minor": 0
      }
     },
     "metadata": {}
    },
    {
     "output_type": "stream",
     "name": "stdout",
     "text": [
      "1.8558382115571397\n"
     ]
    }
   ],
   "metadata": {}
  },
  {
   "cell_type": "code",
   "execution_count": null,
   "source": [],
   "outputs": [],
   "metadata": {}
  }
 ],
 "metadata": {
  "kernelspec": {
   "display_name": "Python 3",
   "language": "python",
   "name": "python3"
  },
  "language_info": {
   "codemirror_mode": {
    "name": "ipython",
    "version": 3
   },
   "file_extension": ".py",
   "mimetype": "text/x-python",
   "name": "python",
   "nbconvert_exporter": "python",
   "pygments_lexer": "ipython3",
   "version": "3.6.9"
  },
  "toc-autonumbering": true,
  "toc-showcode": true,
  "toc-showmarkdowntxt": true
 },
 "nbformat": 4,
 "nbformat_minor": 4
}