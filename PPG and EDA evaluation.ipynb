{
 "cells": [
  {
   "cell_type": "code",
   "execution_count": 73,
   "source": [
    "import warnings\n",
    "warnings.filterwarnings('ignore')\n",
    "\n",
    "import os\n",
    "import numpy as np\n",
    "import pandas as pd\n",
    "\n",
    "from tool import *\n",
    "from scipy.signal import resample\n",
    "from scipy import signal\n",
    "from scipy.signal import butter, lfilter, freqz, freqs\n",
    "from scipy.ndimage import label\n",
    "\n",
    "import heartpy as hp\n",
    "\n",
    "import matplotlib.pyplot as plt\n",
    "from matplotlib.ticker import PercentFormatter\n",
    "\n",
    "saved_path = \"./Result\"\n",
    "\n",
    "# Create folders\n",
    "if not os.path.exists(\"Result/CVA_analysis/Bland_Altman\"): os.makedirs(\"Result/CVA_analysis/Bland_Altman\")\n",
    "if not os.path.exists(\"Result/CVA_analysis/Dataframe\"): os.makedirs(\"Result/CVA_analysis/Dataframe\")\n",
    "if not os.path.exists(\"Result/CVA_analysis/Extraction_all\"): os.makedirs(\"Result/CVA_analysis/Extraction_all\")\n",
    "if not os.path.exists(\"Result/CVA_analysis/Figures\"): os.makedirs(\"Result/CVA_analysis/Figures\")\n",
    "if not os.path.exists(\"Result/CVA_analysis/Results_all\"): os.makedirs(\"Result/CVA_analysis/Results_all\")\n",
    "if not os.path.exists(\"Result/EDA_mat\"): os.makedirs(\"Result/EDA_mat\")\n",
    "if not os.path.exists(\"Result/EDA_mat_analysis\"): os.makedirs(\"Result/EDA_mat_analysis\")\n",
    "\n",
    "%matplotlib widget\n",
    "%load_ext autoreload\n",
    "%autoreload 2"
   ],
   "outputs": [
    {
     "output_type": "stream",
     "name": "stdout",
     "text": [
      "The autoreload extension is already loaded. To reload it, use:\n",
      "  %reload_ext autoreload\n"
     ]
    }
   ],
   "metadata": {}
  },
  {
   "cell_type": "code",
   "execution_count": 2,
   "source": [
    "# Create list with the path of each participant to analyze\n",
    "paths = []\n",
    "\n",
    "for p in range(7, 31):\n",
    "    for e in range(1, 3):\n",
    "        fc_path = \"./Data/Participant 200\"+np.str(p)+\"/Flex comp/\"+np.str(e)+\".txt\"\n",
    "        em_path = \"./Data/Participant 200\"+np.str(p)+\"/EmotiBit/Parsed/_00\"+np.str(e)\n",
    "        name = \"P\"+np.str(p)+\"-\"+np.str(e)\n",
    "        \n",
    "        paths.append([em_path, fc_path, name])"
   ],
   "outputs": [],
   "metadata": {}
  },
  {
   "cell_type": "code",
   "execution_count": null,
   "source": [
    "###############################################################################\n",
    "# Extract PPG, EDA from Emotibit and ECG, EDA from Flexcomp data\n",
    "###############################################################################\n",
    "for path in paths:\n",
    "    \n",
    "    s = path[2]\n",
    "    \n",
    "    sig = [\"PI\", \"PG\", \"PR\", \"GX\", \"GY\", \"GZ\", \"AX\", \"AY\", \"AZ\", \"EA\", \"ER\", \"EL\", \"B%\"]\n",
    "\n",
    "    if int(path[2][1:-2]) <= 12:\n",
    "        if int(path[2][1:-2]) == 12:\n",
    "            sig = [\"PI\", \"PG\", \"PR\", \"GX\", \"GY\", \"GZ\", \"AX\", \"AY\", \"AZ\", \"EA\", \"ER\", \"EL\"]\n",
    "        else:\n",
    "            sig = [\"PI\", \"PG\", \"PR\", \"GX\", \"GY\", \"GZ\", \"AX\", \"AY\", \"AZ\", \"EA\", \"ER\", \"EL\", \"B%\"]\n",
    "            \n",
    "        em_df = load_merge_signals_7_12(path[0], sig, ppg_filter=True, G_filter=True)\n",
    "        fc_df = load_flexcomp(path[1])\n",
    "        em_pos, fc_pos, em_df, fc_df, error = sync_pos_without_button(em_df, fc_df)\n",
    "    elif int(path[2][1:-2]) <= 18:\n",
    "        sig = [\"PI\", \"PG\", \"PR\", \"GX\", \"GY\", \"GZ\", \"AX\", \"AY\", \"AZ\", \"EA\", \"ER\", \"EL\"]\n",
    "        em_df = load_merge_signals(path[0], sig, ppg_filter=True, G_filter=True)\n",
    "        fc_df = load_flexcomp(path[1])\n",
    "        em_pos, fc_pos, em_df, fc_df, error = sync_pos_without_button(em_df, fc_df)\n",
    "    else:\n",
    "        em_df = load_merge_signals(path[0], sig, ppg_filter=True, G_filter=True)\n",
    "        fc_df = load_flexcomp(path[1])\n",
    "        em_pos, fc_pos, em_df, fc_df, error = sync_pos(em_df, fc_df)\n",
    "\n",
    "    sig = fc_df[\"EKG-Pro/Flex - 1A\"].values\n",
    "    norm_sig = (sig - sig.mean()) / sig.std()\n",
    "\n",
    "    fc_df[\"NORM_ECG\"] = norm_sig\n",
    "\n",
    "    ###############################################################################\n",
    "    # Merge all PPG signals\n",
    "    ###############################################################################\n",
    "    \n",
    "    #%%%%%%%%%%%%%%%%%%%%%%%%%%%%%%%%%%%%%%%%%%%%%%%%%%%%%%%%%%%%%%%%%%%%%%%%%%%%%%%%%%\n",
    "    sig = (em_df[\"PR\"].values+em_df[\"PI\"].values+em_df[\"PG\"].values)/3\n",
    "    #%%%%%%%%%%%%%%%%%%%%%%%%%%%%%%%%%%%%%%%%%%%%%%%%%%%%%%%%%%%%%%%%%%%%%%%%%%%%%%%%%%\n",
    "\n",
    "    # Normalize signal with mean 0 and unit variance\n",
    "    norm_sig = (sig - sig.mean()) / sig.std()\n",
    "\n",
    "    em_df[\"NORM_PPG\"] = norm_sig\n",
    "\n",
    "    final_df = fc_df[[\"Time\"]].copy()\n",
    "    final_df[\"ECG_FC\"] = fc_df[[\"EKG-Pro/Flex - 1A\"]]\n",
    "    final_df[\"EDA_FC\"] = fc_df[[\"SC-Pro/Flex - 1E\"]]\n",
    "    final_df[\"NORM_ECG\"] = fc_df[[\"NORM_ECG\"]]\n",
    "    try:\n",
    "        final_df = pd.merge_asof(final_df, em_df, on=\"Time\", direction=\"nearest\", tolerance=0.0015)\n",
    "    except:\n",
    "        print(s, \":Fail in Merge!\")\n",
    "        continue\n",
    "        \n",
    "    ###############################################################################\n",
    "    # Add EDA signal\n",
    "    ###############################################################################\n",
    "    \n",
    "    ind, value = adjust_EDA(final_df[[\"EA\", \"ER\", \"EL\"]][final_df[\"EA\"].notna()], EL_only=False)\n",
    "    final_df.at[ind, \"EA\"] = value\n",
    "        \n",
    "    df_eda = stress_detector(final_df, resample=\"100L\", normalization=\"no_norm\", corr_sig=\"smooth\")\n",
    "    final_df = merge_nearest(final_df, df_eda, \"Time\", df_eda.columns[1:])\n",
    "\n",
    "    df = final_df\n",
    "    \n",
    "    final_df.to_pickle(saved_path + \"/CVA_analysis/Dataframe/{}.pkl\".format(s))\n",
    "\n",
    "    ###############################################################################\n",
    "    # ECG\n",
    "    ###############################################################################\n",
    "    ecg = df[[\"Time\",\"NORM_ECG\"]][df[\"NORM_ECG\"].notna()].copy()\n",
    "    ecg[\"Time_ts\"] = pd.to_datetime(ecg['Time'], unit='s')\n",
    "    ecg = ecg.resample(\"10L\", on=\"Time_ts\").mean()\n",
    "    ecg = ecg.interpolate(limit_direction='forward', axis=0)\n",
    "    \n",
    "    fs = 100\n",
    "\n",
    "    filtered = hp.filter_signal(ecg[\"NORM_ECG\"].values, cutoff = 0.05, sample_rate = fs, filtertype='notch')\n",
    "\n",
    "    filtered = resample(filtered, len(filtered) * 2)\n",
    "\n",
    "    wd_fc, m_fc = hp.process(hp.scale_data(filtered), fs*2, windowsize=0.75)\n",
    "\n",
    "    np.save(saved_path + \"/CVA_analysis/Extraction_all/{}_FC\".format(s), [wd_fc, m_fc])\n",
    "\n",
    "    HR_FC = get_HR_series(wd_fc, fs=200)\n",
    "\n",
    "    plt.figure(1)\n",
    "    plot = hp.plotter(wd_fc, m_fc, show=False)\n",
    "    plt.savefig(saved_path + \"/CVA_analysis/Figures/{}_ECG.png\".format(s))\n",
    "    plt.close(1)\n",
    "\n",
    "    ###############################################################################\n",
    "    # PPG\n",
    "    ###############################################################################\n",
    "    ppg = df[[\"Time\",\"NORM_PPG\"]][df[\"NORM_PPG\"].notna()].copy()\n",
    "    ppg[\"Time_ts\"] = pd.to_datetime(ppg['Time'], unit='s')\n",
    "    ppg = ppg.resample(\"10L\", on=\"Time_ts\").mean()\n",
    "    ppg = ppg.interpolate(alimit_direction='forward', axis=0)\n",
    "\n",
    "    if int(path[2][1:-2]) <= 18:\n",
    "        filtered = hp.filter_signal(ppg[\"NORM_PPG\"].values[2500:-2000], cutoff = [0.7, 3.5], sample_rate = fs, order=3, filtertype='bandpass')\n",
    "    else:\n",
    "        filtered = hp.filter_signal(ppg[\"NORM_PPG\"].values[400:-400], cutoff = [0.7, 3.5], sample_rate = fs, order=3, filtertype='bandpass')\n",
    "\n",
    "    if int(path[2][1:-2]) == 24:\n",
    "        filtered[filtered>0.8] = 0.8\n",
    "        filtered[filtered<-0.8] = -0.8\n",
    "        \n",
    "    filtered = resample(filtered, len(filtered) * 2)\n",
    "        \n",
    "    wd_em, m_em = hp.process(filtered, fs*2, windowsize=1)\n",
    "\n",
    "    np.save(saved_path + \"/CVA_analysis/Extraction_all/{}_EM\".format(s), [wd_em, m_em])\n",
    "\n",
    "    \n",
    "    plt.figure(1)\n",
    "    hp.plotter(wd_em, m_em, show=False)\n",
    "    plt.savefig(saved_path + \"/CVA_analysis/Figures/{}_PPG.png\".format(s))\n",
    "    plt.close(1)\n",
    "\n",
    "    HR_EM = get_HR_series(wd_em, fs=200)\n",
    "\n",
    "    np.save(saved_path + \"/CVA_analysis/Extraction_all/{}_EM_FC_HR\".format(s), [HR_EM, HR_FC])\n",
    "\n",
    "    p1 = plt.figure(1)\n",
    "    plt.plot(np.arange(0, HR_FC[2:].shape[0]*2, 2), HR_FC[2:])\n",
    "    plt.plot(np.arange(0, HR_EM[:].shape[0]*2, 2), HR_EM[:], color=\"orange\", linestyle='dashed')\n",
    "    plt.ylim([0,180])\n",
    "    plt.xlabel(\"Time (s)\")\n",
    "    plt.ylabel(\"HR (bpm)\")\n",
    "    plt.title(\"HR example for a 10-minute session\")\n",
    "    plt.legend([\"Reference device (ECG)\", \"Emotibit device (PPG)\"])\n",
    "\n",
    "    plt.savefig(saved_path + \"/CVA_analysis/Figures/{}_HR.svg\".format(s))\n",
    "    plt.close('all')\n",
    "    \n",
    "    print(s, m_fc[\"bpm\"], m_em[\"bpm\"], m_fc[\"bpm\"]-m_em[\"bpm\"])"
   ],
   "outputs": [],
   "metadata": {
    "collapsed": true,
    "jupyter": {
     "outputs_hidden": true
    },
    "tags": []
   }
  },
  {
   "cell_type": "code",
   "execution_count": 41,
   "source": [
    "#######################################################\n",
    "# Calculate SQI\n",
    "#######################################################\n",
    "list_SQI_approved = []\n",
    "good_seg = []\n",
    "\n",
    "for part in range(7,31):\n",
    "    for exp in range(1,3):\n",
    "        s = \"P{}-{}\".format(part, exp)\n",
    "\n",
    "        if s == \"P18-2\":\n",
    "            continue\n",
    "        \n",
    "        try:\n",
    "            wd, m = np.load(saved_path + \"/CVA_analysis/Extraction_all/{}_EM.npy\".format(s), allow_pickle=True)\n",
    "        except:\n",
    "            continue\n",
    "\n",
    "        data_all = wd[\"hr\"]\n",
    "\n",
    "        peaks_all = list(wd[\"peaklist\"])\n",
    "        rejected_peaks = list(wd[\"removed_beats\"])\n",
    "\n",
    "        for p in rejected_peaks:\n",
    "            peaks_all.remove(p)\n",
    "\n",
    "        peaks_all = np.array(peaks_all)\n",
    "\n",
    "        R2_all = []\n",
    "        SQI_all = []\n",
    "        \n",
    "        fs = 200\n",
    "\n",
    "        for i in range(0, data_all.shape[0], 10*fs):\n",
    "            data = np.array(data_all[i:i+10*fs])\n",
    "\n",
    "            peaks = np.copy(peaks_all[np.where((peaks_all<i+10*fs)&(peaks_all>i))[0]])\n",
    "            peaks -= i\n",
    "\n",
    "            R2, SQI = sqi_calculator(data, peaks, fs, 0.86, 10, verbose=0)\n",
    "\n",
    "            R2_all.append(R2)\n",
    "            SQI_all.append(SQI)\n",
    "\n",
    "        SQI_all = np.array(SQI_all)\n",
    "        R2_all = np.array(R2_all)\n",
    "\n",
    "        print(\"{} : SQI>0.86 : {}/{} -> {:.0f}%\".format(s, np.sum(SQI_all==1), len(SQI_all), np.sum(SQI_all==1)/len(SQI_all)*100))\n",
    "        \n",
    "        if np.sum(SQI_all==1)/len(SQI_all)*100 > 50:\n",
    "            good_seg.append(np.sum(SQI_all==1)/len(SQI_all)*100)\n",
    "            list_SQI_approved.append(s)\n",
    "            \n",
    "np.save(saved_path + \"/CVA_analysis/List_SQI_approved.npy\", list_SQI_approved)"
   ],
   "outputs": [
    {
     "output_type": "stream",
     "name": "stdout",
     "text": [
      "P7-1 : SQI>0.86 : 54/63 -> 86%\n",
      "P7-2 : SQI>0.86 : 58/62 -> 94%\n",
      "P8-1 : SQI>0.86 : 47/73 -> 64%\n",
      "P8-2 : SQI>0.86 : 5/19 -> 26%\n",
      "P9-1 : SQI>0.86 : 46/66 -> 70%\n",
      "P9-2 : SQI>0.86 : 60/63 -> 95%\n",
      "P10-1 : SQI>0.86 : 62/62 -> 100%\n",
      "P10-2 : SQI>0.86 : 70/80 -> 88%\n",
      "P11-1 : SQI>0.86 : 61/62 -> 98%\n",
      "P11-2 : SQI>0.86 : 59/61 -> 97%\n",
      "P12-1 : SQI>0.86 : 60/62 -> 97%\n",
      "P12-2 : SQI>0.86 : 61/61 -> 100%\n",
      "P13-1 : SQI>0.86 : 58/62 -> 94%\n",
      "P13-2 : SQI>0.86 : 54/60 -> 90%\n",
      "P14-1 : SQI>0.86 : 58/58 -> 100%\n",
      "P14-2 : SQI>0.86 : 57/58 -> 98%\n",
      "P15-1 : SQI>0.86 : 17/18 -> 94%\n",
      "P16-1 : SQI>0.86 : 53/58 -> 91%\n",
      "P16-2 : SQI>0.86 : 55/58 -> 95%\n",
      "P17-1 : SQI>0.86 : 51/58 -> 88%\n",
      "P17-2 : SQI>0.86 : 52/58 -> 90%\n",
      "P18-1 : SQI>0.86 : 55/58 -> 95%\n",
      "P19-1 : SQI>0.86 : 5/60 -> 8%\n",
      "P19-2 : SQI>0.86 : 54/60 -> 90%\n",
      "P20-1 : SQI>0.86 : 60/61 -> 98%\n",
      "P20-2 : SQI>0.86 : 60/60 -> 100%\n",
      "P21-1 : SQI>0.86 : 59/60 -> 98%\n",
      "P21-2 : SQI>0.86 : 57/60 -> 95%\n",
      "P22-1 : SQI>0.86 : 61/62 -> 98%\n",
      "P22-2 : SQI>0.86 : 61/61 -> 100%\n",
      "P23-1 : SQI>0.86 : 60/60 -> 100%\n",
      "P23-2 : SQI>0.86 : 61/61 -> 100%\n",
      "P24-1 : SQI>0.86 : 28/60 -> 47%\n",
      "P24-2 : SQI>0.86 : 39/61 -> 64%\n",
      "P25-1 : SQI>0.86 : 61/61 -> 100%\n",
      "P25-2 : SQI>0.86 : 60/60 -> 100%\n",
      "P26-1 : SQI>0.86 : 60/60 -> 100%\n",
      "P26-2 : SQI>0.86 : 48/60 -> 80%\n",
      "P27-1 : SQI>0.86 : 58/61 -> 95%\n",
      "P27-2 : SQI>0.86 : 39/61 -> 64%\n",
      "P28-1 : SQI>0.86 : 38/60 -> 63%\n",
      "P28-2 : SQI>0.86 : 38/60 -> 63%\n",
      "P29-1 : SQI>0.86 : 60/60 -> 100%\n",
      "P29-2 : SQI>0.86 : 60/60 -> 100%\n",
      "P30-1 : SQI>0.86 : 19/59 -> 32%\n",
      "P30-2 : SQI>0.86 : 5/60 -> 8%\n"
     ]
    }
   ],
   "metadata": {}
  },
  {
   "cell_type": "code",
   "execution_count": 72,
   "source": [
    "print(list_SQI_approved)"
   ],
   "outputs": [
    {
     "output_type": "stream",
     "name": "stdout",
     "text": [
      "['P7-1' 'P7-2' 'P8-1' 'P9-1' 'P9-2' 'P10-1' 'P10-2' 'P11-1' 'P11-2'\n",
      " 'P12-1' 'P12-2' 'P13-1' 'P13-2' 'P14-1' 'P14-2' 'P15-1' 'P16-1' 'P16-2'\n",
      " 'P17-1' 'P17-2' 'P18-1' 'P19-2' 'P20-1' 'P20-2' 'P21-1' 'P21-2' 'P22-1'\n",
      " 'P22-2' 'P23-1' 'P23-2' 'P24-1' 'P24-2' 'P25-1' 'P25-2' 'P26-1' 'P26-2'\n",
      " 'P27-1' 'P27-2' 'P28-1' 'P28-2' 'P29-1' 'P29-2']\n"
     ]
    }
   ],
   "metadata": {}
  },
  {
   "cell_type": "code",
   "execution_count": 43,
   "source": [
    "list_SQI_approved = ['P7-1',\n",
    "                     'P7-2',\n",
    "                     'P8-1',\n",
    "                     'P9-1',\n",
    "                     'P9-2',\n",
    "                     'P10-1',\n",
    "                     'P10-2',\n",
    "                     'P11-1',\n",
    "                     'P11-2',\n",
    "                     'P12-1',\n",
    "                     'P12-2',\n",
    "                     'P13-1',\n",
    "                     'P13-2',\n",
    "                     'P14-1',\n",
    "                     'P14-2',\n",
    "                     'P15-1',\n",
    "                     'P16-1',\n",
    "                     'P16-2',\n",
    "                     'P17-1',\n",
    "                     'P17-2',\n",
    "                     'P18-1',\n",
    "                     'P19-2',\n",
    "                     'P20-1',\n",
    "                     'P20-2',\n",
    "                     'P21-1',\n",
    "                     'P21-2',\n",
    "                     'P22-1',\n",
    "                     'P22-2',\n",
    "                     'P23-1',\n",
    "                     'P23-2',\n",
    "                     'P24-1', # Added\n",
    "                     'P24-2',\n",
    "                     'P25-1',\n",
    "                     'P25-2',\n",
    "                     'P26-1',\n",
    "                     'P26-2',\n",
    "                     'P27-1',\n",
    "                     'P27-2',\n",
    "                     'P28-1',\n",
    "                     'P28-2',\n",
    "                     'P29-1',\n",
    "                     'P29-2']\n",
    "\n",
    "np.save(saved_path + \"/CVA_analysis/List_SQI_approved.npy\", list_SQI_approved)"
   ],
   "outputs": [],
   "metadata": {}
  },
  {
   "cell_type": "code",
   "execution_count": 44,
   "source": [
    "print(\"Number of approved participants : \", len(list_SQI_approved))\n",
    "print(\"The average percentage of good segments : \", np.mean(good_seg), \"%\")"
   ],
   "outputs": [
    {
     "output_type": "stream",
     "name": "stdout",
     "text": [
      "Number of approved participants :  42\n",
      "The average percentage of good segments :  91.03785016188627 %\n"
     ]
    }
   ],
   "metadata": {}
  },
  {
   "cell_type": "code",
   "execution_count": 46,
   "source": [
    "# Plot of PPG and ECG signals\n",
    "ecg = (wd_fc[\"hr\"]-np.mean(wd_fc[\"hr\"]))/np.std(wd_fc[\"hr\"])\n",
    "ppg = (wd_em[\"hr\"]-np.mean(wd_em[\"hr\"]))/np.std(wd_em[\"hr\"])\n",
    "\n",
    "plt.figure()\n",
    "plt.plot(ecg[804:])\n",
    "plt.plot(ppg[158:])"
   ],
   "outputs": [
    {
     "output_type": "display_data",
     "data": {
      "text/plain": [
       "Canvas(toolbar=Toolbar(toolitems=[('Home', 'Reset original view', 'home', 'home'), ('Back', 'Back to previous …"
      ],
      "application/vnd.jupyter.widget-view+json": {
       "model_id": "018399232f564baf830feba1f375efbc",
       "version_major": 2,
       "version_minor": 0
      }
     },
     "metadata": {}
    },
    {
     "output_type": "execute_result",
     "data": {
      "text/plain": [
       "[<matplotlib.lines.Line2D at 0x7fe30fa5e5c0>]"
      ]
     },
     "metadata": {},
     "execution_count": 46
    }
   ],
   "metadata": {}
  },
  {
   "cell_type": "code",
   "execution_count": 55,
   "source": [
    "###########################################################\n",
    "# Extraction of the HR, RR, SDRR and RMSSD from ECG and PPG\n",
    "###########################################################\n",
    "HR_FC_all_exp = []\n",
    "SD_RR_FC_all_exp = []\n",
    "RMSSD_FC_exp = []\n",
    "\n",
    "HR_EM_all_exp = []\n",
    "SD_RR_EM_all_exp = []\n",
    "RMSSD_EM_exp = []\n",
    "\n",
    "list_SQI_approved = np.load(saved_path + \"/CVA_analysis/List_SQI_approved.npy\")\n",
    "\n",
    "for s in list_SQI_approved:\n",
    "    try:\n",
    "        wd_fc, m_fc = np.load(saved_path + \"/CVA_analysis/Extraction_all/{}_FC.npy\".format(s), allow_pickle=True)\n",
    "    except:\n",
    "        continue\n",
    "\n",
    "    HR_FC_all = 60000/(np.mean(wd_fc[\"RR_list_cor\"]))\n",
    "    HR_FC = get_HR_series(wd_fc)\n",
    "    HR_FC = interp_nan(HR_FC)\n",
    "    SD_RR_FC_all = np.std(wd_fc[\"RR_list_cor\"])/1000\n",
    "    SD_RR_FC_all = m_fc[\"sdnn\"]\n",
    "    RMSSD_FC = get_RMSSD(wd_fc)\n",
    "    RMSSD_FC = m_fc[\"rmssd\"]\n",
    "\n",
    "    HR_FC_all_exp.append(HR_FC_all)\n",
    "    SD_RR_FC_all_exp.append(SD_RR_FC_all)\n",
    "    RMSSD_FC_exp.append(RMSSD_FC)\n",
    "\n",
    "    wd_em, m_em = np.load(saved_path + \"/CVA_analysis/Extraction_all/{}_EM.npy\".format(s), allow_pickle=True)\n",
    "\n",
    "    HR_EM_all = 60000/(np.mean(wd_em[\"RR_list_cor\"]))\n",
    "    HR_EM = get_HR_series(wd_em)\n",
    "    HR_EM = interp_nan(HR_EM)\n",
    "    SD_RR_EM_all = np.std(wd_em[\"RR_list_cor\"])/1000\n",
    "    SD_RR_EM_all = m_em[\"sdnn\"]\n",
    "    RMSSD_EM = get_RMSSD(wd_em)\n",
    "    RMSSD_EM = m_em[\"rmssd\"]\n",
    "\n",
    "    HR_EM_all_exp.append(HR_EM_all)\n",
    "    SD_RR_EM_all_exp.append(SD_RR_EM_all)\n",
    "    RMSSD_EM_exp.append(RMSSD_EM)\n",
    "\n",
    "    if HR_FC.shape[0] - HR_EM.shape[0] < 0:\n",
    "        diff = np.abs(HR_FC.shape[0] - HR_EM.shape[0])\n",
    "        HR_EM = HR_EM[:-diff]\n",
    "    elif HR_FC.shape[0] - HR_EM.shape[0] > 0:\n",
    "        diff = np.abs(HR_FC.shape[0] - HR_EM.shape[0])\n",
    "        HR_FC = HR_FC[:-diff]\n",
    "\n",
    "\n",
    "    MAE = np.mean(np.abs(HR_FC-HR_EM))\n",
    "    SdAE = np.std(np.abs(HR_FC-HR_EM))\n",
    "    ARE = ((np.abs(HR_FC-HR_EM)/HR_FC)*100).mean()\n",
    "\n",
    "    np.save(saved_path + \"/CVA_analysis/Results_all/{}_FC.npy\".format(s), [HR_FC_all, HR_FC, SD_RR_FC_all, RMSSD_FC, MAE, SdAE, ARE])\n",
    "    np.save(saved_path + \"/CVA_analysis/Results_all/{}_EM.npy\".format(s), [HR_EM_all, HR_EM, SD_RR_EM_all, RMSSD_EM, MAE, SdAE, ARE])\n",
    "\n",
    "    print(\"{} -> MAE:{:.2f}, SdAE:{:.2f}, ARE:{:.2f}, HR_mean:{:.2f};{:.2f}, SD_RR:{:.2f};{:.2f}, RMSSD:{:.2f};{:.2f}\".format(s, MAE, SdAE, ARE, HR_EM_all, HR_FC_all, SD_RR_EM_all, SD_RR_FC_all, RMSSD_EM*1000, RMSSD_FC*1000))\n",
    "\n",
    "np.save(saved_path + \"/CVA_analysis/Bland_Altman/HR_mean.npy\", [HR_EM_all_exp, HR_FC_all_exp])\n",
    "np.save(saved_path + \"/CVA_analysis/Bland_Altman/SD_RR.npy\", [SD_RR_EM_all_exp, SD_RR_FC_all_exp])\n",
    "np.save(saved_path + \"/CVA_analysis/Bland_Altman/RMSSD.npy\", [RMSSD_EM_exp, RMSSD_FC_exp])"
   ],
   "outputs": [
    {
     "output_type": "stream",
     "name": "stdout",
     "text": [
      "P7-1 -> MAE:3.87, SdAE:3.61, ARE:8.54, HR_mean:44.03;44.09, SD_RR:144.51;141.70, RMSSD:110954.75;109263.09\n",
      "P7-2 -> MAE:4.10, SdAE:3.97, ARE:9.16, HR_mean:43.51;43.55, SD_RR:143.61;140.77, RMSSD:120240.85;113055.15\n",
      "P8-1 -> MAE:5.52, SdAE:4.55, ARE:8.96, HR_mean:62.31;61.42, SD_RR:119.30;90.56, RMSSD:164948.50;74333.81\n",
      "P9-1 -> MAE:3.31, SdAE:3.50, ARE:4.31, HR_mean:74.81;75.83, SD_RR:51.65;40.48, RMSSD:44270.14;28205.09\n",
      "P9-2 -> MAE:3.14, SdAE:2.87, ARE:4.24, HR_mean:73.24;73.56, SD_RR:50.76;39.14, RMSSD:50242.16;31889.81\n",
      "P10-1 -> MAE:6.72, SdAE:5.46, ARE:7.91, HR_mean:83.61;83.42, SD_RR:63.16;64.26, RMSSD:35708.37;31692.26\n",
      "P10-2 -> MAE:6.00, SdAE:5.65, ARE:7.19, HR_mean:80.89;81.81, SD_RR:67.65;62.74, RMSSD:53543.75;31007.23\n",
      "P11-1 -> MAE:6.79, SdAE:5.36, ARE:11.02, HR_mean:60.84;60.67, SD_RR:104.46;98.31, RMSSD:77230.22;71473.47\n",
      "P11-2 -> MAE:5.19, SdAE:4.51, ARE:8.75, HR_mean:59.04;59.61, SD_RR:104.88;103.60, RMSSD:84619.31;65223.03\n",
      "P12-1 -> MAE:5.92, SdAE:4.67, ARE:8.58, HR_mean:69.16;68.72, SD_RR:78.61;81.54, RMSSD:55788.95;46687.04\n",
      "P12-2 -> MAE:6.12, SdAE:4.21, ARE:9.17, HR_mean:67.55;67.42, SD_RR:83.49;80.95, RMSSD:55468.95;46637.65\n",
      "P13-1 -> MAE:3.92, SdAE:3.44, ARE:6.42, HR_mean:60.10;60.39, SD_RR:76.99;65.20, RMSSD:74942.40;47945.00\n",
      "P13-2 -> MAE:4.24, SdAE:3.59, ARE:7.02, HR_mean:59.77;60.08, SD_RR:86.93;79.47, RMSSD:87944.40;56254.35\n",
      "P14-1 -> MAE:6.12, SdAE:5.58, ARE:9.04, HR_mean:66.26;66.43, SD_RR:85.62;82.23, RMSSD:52605.84;37229.65\n",
      "P14-2 -> MAE:5.65, SdAE:4.75, ARE:8.85, HR_mean:63.17;62.95, SD_RR:89.51;82.58, RMSSD:67600.90;39026.50\n",
      "P15-1 -> MAE:5.78, SdAE:4.43, ARE:8.11, HR_mean:70.23;71.28, SD_RR:90.36;90.88, RMSSD:86569.59;58739.59\n",
      "P16-1 -> MAE:7.79, SdAE:6.23, ARE:10.90, HR_mean:69.81;70.57, SD_RR:102.38;94.23, RMSSD:87562.87;42776.61\n",
      "P16-2 -> MAE:6.52, SdAE:5.80, ARE:9.24, HR_mean:68.25;68.83, SD_RR:79.24;78.15, RMSSD:65504.38;40239.91\n",
      "P17-1 -> MAE:6.06, SdAE:5.10, ARE:9.80, HR_mean:63.49;63.04, SD_RR:98.53;89.31, RMSSD:89418.04;50760.04\n",
      "P17-2 -> MAE:5.45, SdAE:4.00, ARE:8.49, HR_mean:64.52;64.37, SD_RR:93.38;82.00, RMSSD:86021.38;48444.56\n",
      "P18-1 -> MAE:6.50, SdAE:4.89, ARE:10.36, HR_mean:62.87;62.48, SD_RR:115.67;112.51, RMSSD:85437.32;80131.42\n",
      "P19-2 -> MAE:5.12, SdAE:4.74, ARE:6.08, HR_mean:83.01;83.41, SD_RR:98.12;84.04, RMSSD:101065.25;31497.49\n",
      "P20-1 -> MAE:4.40, SdAE:3.50, ARE:6.12, HR_mean:72.72;72.53, SD_RR:64.32;63.26, RMSSD:43193.89;32398.42\n",
      "P20-2 -> MAE:4.55, SdAE:3.59, ARE:6.38, HR_mean:71.88;71.89, SD_RR:71.06;67.69, RMSSD:45720.16;32957.42\n",
      "P21-1 -> MAE:3.90, SdAE:3.14, ARE:6.55, HR_mean:60.20;59.64, SD_RR:99.33;91.45, RMSSD:95221.30;59707.20\n",
      "P21-2 -> MAE:4.55, SdAE:3.95, ARE:8.12, HR_mean:57.27;56.45, SD_RR:114.55;110.91, RMSSD:101355.18;76027.78\n",
      "P22-1 -> MAE:6.36, SdAE:4.45, ARE:7.51, HR_mean:85.17;85.14, SD_RR:68.21;63.04, RMSSD:53625.33;39316.85\n",
      "P22-2 -> MAE:7.17, SdAE:5.36, ARE:8.80, HR_mean:81.23;81.48, SD_RR:79.26;78.04, RMSSD:55698.15;45830.66\n",
      "P23-1 -> MAE:4.06, SdAE:3.32, ARE:4.78, HR_mean:84.42;84.40, SD_RR:55.39;52.62, RMSSD:38800.80;25481.78\n",
      "P23-2 -> MAE:3.91, SdAE:3.18, ARE:4.52, HR_mean:85.41;85.21, SD_RR:61.87;60.52, RMSSD:38985.38;23398.53\n",
      "P24-1 -> MAE:5.81, SdAE:6.06, ARE:12.13, HR_mean:52.31;48.98, SD_RR:139.52;123.76, RMSSD:116287.65;72508.14\n",
      "P24-2 -> MAE:3.81, SdAE:4.27, ARE:7.70, HR_mean:49.89;48.66, SD_RR:134.06;102.10, RMSSD:118689.12;56100.73\n",
      "P25-1 -> MAE:5.01, SdAE:4.05, ARE:5.47, HR_mean:91.74;91.64, SD_RR:54.47;47.60, RMSSD:47164.69;22827.59\n",
      "P25-2 -> MAE:4.92, SdAE:4.08, ARE:5.62, HR_mean:87.28;87.43, SD_RR:62.85;59.64, RMSSD:43235.12;26527.23\n",
      "P26-1 -> MAE:5.82, SdAE:4.50, ARE:8.51, HR_mean:68.90;68.92, SD_RR:101.72;96.85, RMSSD:82333.97;64924.27\n",
      "P26-2 -> MAE:5.74, SdAE:4.83, ARE:8.89, HR_mean:65.68;64.78, SD_RR:108.48;93.46, RMSSD:107190.10;71046.96\n",
      "P27-1 -> MAE:5.83, SdAE:4.61, ARE:6.87, HR_mean:85.76;85.74, SD_RR:65.12;58.86, RMSSD:61814.61;36427.65\n",
      "P27-2 -> MAE:6.11, SdAE:5.63, ARE:7.24, HR_mean:81.38;83.20, SD_RR:76.90;61.57, RMSSD:79071.42;38633.54\n",
      "P28-1 -> MAE:6.09, SdAE:5.15, ARE:7.13, HR_mean:83.42;85.03, SD_RR:84.69;61.96, RMSSD:90580.63;31026.07\n",
      "P28-2 -> MAE:6.52, SdAE:5.35, ARE:7.63, HR_mean:83.31;85.04, SD_RR:87.43;64.27, RMSSD:99801.24;31203.86\n",
      "P29-1 -> MAE:3.01, SdAE:2.78, ARE:3.70, HR_mean:81.18;81.17, SD_RR:38.78;34.65, RMSSD:28815.53;15223.75\n",
      "P29-2 -> MAE:3.18, SdAE:2.75, ARE:4.00, HR_mean:78.90;78.90, SD_RR:43.21;35.73, RMSSD:39131.39;16523.79\n"
     ]
    }
   ],
   "metadata": {}
  },
  {
   "cell_type": "markdown",
   "source": [
    "# Bland-Altman CVA Analysis"
   ],
   "metadata": {}
  },
  {
   "cell_type": "code",
   "execution_count": 56,
   "source": [
    "import pingouin\n",
    "\n",
    "list_SQI_approved = np.load(saved_path + \"/CVA_analysis/List_SQI_approved.npy\")\n",
    "\n",
    "HR_EM_ba = []\n",
    "HR_FC_ba = []\n",
    "\n",
    "for s in list_SQI_approved:\n",
    "    try:\n",
    "        [HR_FC_all, HR_FC, SD_RR_FC_all, RMSSD_FC, MAE, SdAE, ARE] = np.load(saved_path + \"/CVA_analysis/Results_all/{}_FC.npy\".format(s), allow_pickle=True)\n",
    "        [HR_EM_all, HR_EM, SD_RR_EM_all, RMSSD_EM, MAE, SdAE, ARE] = np.load(saved_path + \"/CVA_analysis/Results_all/{}_EM.npy\".format(s), allow_pickle=True)\n",
    "    except:\n",
    "        continue\n",
    "\n",
    "    HR_EM_ba.append(HR_EM_all)\n",
    "    HR_FC_ba.append(HR_FC_all)\n",
    "\n",
    "HR_EM_ba = np.array(HR_EM_ba).reshape([-1])\n",
    "HR_FC_ba = np.array(HR_FC_ba).reshape([-1])\n",
    "\n",
    "lies_in = np.sum(((HR_EM_ba-HR_FC_ba)<5) & ((HR_EM_ba-HR_FC_ba)>-5))/np.size(HR_EM_ba)\n",
    "\n",
    "fig = plt.figure()\n",
    "ax = fig.add_subplot(1,1,1)\n",
    "pingouin.plot_blandaltman(HR_EM_ba, HR_FC_ba, confidence=None, ax=ax)\n",
    "plt.axhline(5, xmin=0, xmax=1, c=\"g\", linestyle=\"-.\")\n",
    "plt.axhline(-5, xmin=0, xmax=1, c=\"g\", linestyle=\"-.\")\n",
    "plt.text(0.5, 0.1, '{} % of the data lies inside of the boundaries.'.format(int(lies_in*100)), horizontalalignment='center', verticalalignment='center', transform=ax.transAxes, fontsize=10)\n",
    "plt.title(\"HR (bpm)\")\n",
    "plt.ylabel(\"Difference HR (EM - FC)\")\n",
    "plt.xlabel(\"Mean HR (EM,FC)\")\n",
    "\n",
    "SD = np.std((HR_EM_ba-HR_FC_ba))\n",
    "BAr = SD*1.96/(np.mean((HR_EM_ba+HR_FC_ba)/2))\n",
    "print(BAr)\n",
    "\n",
    "plt.text(0.75, 0.9, 'BAr : {:.2f}'.format(BAr), horizontalalignment='center', verticalalignment='center', transform=ax.transAxes, fontsize=10)\n",
    "\n",
    "plt.savefig(saved_path + \"/CVA_analysis/Figures/BA_HR.svg\", format=\"svg\")"
   ],
   "outputs": [
    {
     "output_type": "display_data",
     "data": {
      "text/plain": [
       "Canvas(toolbar=Toolbar(toolitems=[('Home', 'Reset original view', 'home', 'home'), ('Back', 'Back to previous …"
      ],
      "application/vnd.jupyter.widget-view+json": {
       "model_id": "a887d187d371483eaf0c6aa0fc7325cb",
       "version_major": 2,
       "version_minor": 0
      }
     },
     "metadata": {}
    },
    {
     "output_type": "stream",
     "name": "stdout",
     "text": [
      "0.023348250199029388\n"
     ]
    }
   ],
   "metadata": {}
  },
  {
   "cell_type": "code",
   "execution_count": 57,
   "source": [
    "SD_EM_ba = []\n",
    "SD_FC_ba = []\n",
    "\n",
    "for s in list_SQI_approved:\n",
    "    try:\n",
    "        [HR_FC_all, HR_FC, SD_RR_FC_all, RMSSD_FC, MAE, SdAE, ARE] = np.load(saved_path + \"/CVA_analysis/Results_all/{}_FC.npy\".format(s), allow_pickle=True)\n",
    "        [HR_EM_all, HR_EM, SD_RR_EM_all, RMSSD_EM, MAE, SdAE, ARE] = np.load(saved_path + \"/CVA_analysis/Results_all/{}_EM.npy\".format(s), allow_pickle=True)\n",
    "    except:\n",
    "        continue\n",
    "\n",
    "    SD_EM_ba.append(SD_RR_EM_all)\n",
    "    SD_FC_ba.append(SD_RR_FC_all)\n",
    "\n",
    "SD_EM_ba = np.array(SD_EM_ba).reshape([-1])\n",
    "SD_FC_ba = np.array(SD_FC_ba).reshape([-1])\n",
    "\n",
    "lies_in = np.sum(((SD_EM_ba-SD_FC_ba)<60) & ((SD_EM_ba-SD_FC_ba)>-60))/np.size(SD_EM_ba)\n",
    "\n",
    "fig = plt.figure()\n",
    "ax = fig.add_subplot(1,1,1)\n",
    "ax = pingouin.plot_blandaltman(SD_EM_ba, SD_FC_ba, confidence=0.1, ax=ax)\n",
    "plt.axhline(60, xmin=0, xmax=1, c=\"g\", linestyle=\"-.\")\n",
    "plt.axhline(-60, xmin=0, xmax=1, c=\"g\", linestyle=\"-.\")\n",
    "plt.text(0.5, 0.1, '{} % of the data lies inside of the boundaries.'.format(int(lies_in*100)), horizontalalignment='center', verticalalignment='center', transform=ax.transAxes, fontsize=10)\n",
    "plt.title(\"SD RR/PP - interval (msec)\")\n",
    "plt.ylabel(\"Difference SD RR/PP (EM - FC)\")\n",
    "plt.xlabel(\"Mean SD RR/PP (EM,FC)\")\n",
    "\n",
    "SD = np.std((SD_EM_ba-SD_FC_ba))\n",
    "BAr = SD*1.96/(np.mean((SD_EM_ba+SD_FC_ba)/2))\n",
    "print(BAr)\n",
    "\n",
    "plt.text(0.75, 0.9, 'BAr : {:.2f}'.format(BAr), horizontalalignment='center', verticalalignment='center', transform=ax.transAxes, fontsize=10)\n",
    "plt.savefig(saved_path + \"/CVA_analysis/Figures/BA_SD.svg\", format=\"svg\")"
   ],
   "outputs": [
    {
     "output_type": "display_data",
     "data": {
      "text/plain": [
       "Canvas(toolbar=Toolbar(toolitems=[('Home', 'Reset original view', 'home', 'home'), ('Back', 'Back to previous …"
      ],
      "application/vnd.jupyter.widget-view+json": {
       "model_id": "06664fffb67f4809839e8719888da450",
       "version_major": 2,
       "version_minor": 0
      }
     },
     "metadata": {}
    },
    {
     "output_type": "stream",
     "name": "stdout",
     "text": [
      "0.18186141881520673\n"
     ]
    }
   ],
   "metadata": {}
  },
  {
   "cell_type": "code",
   "execution_count": 59,
   "source": [
    "\n",
    "RMSSD_EM_ba = []\n",
    "RMSSD_FC_ba = []\n",
    "\n",
    "for s in list_SQI_approved:\n",
    "    try:\n",
    "        [HR_FC_all, HR_FC, SD_RR_FC_all, RMSSD_FC, MAE, SdAE, ARE] = np.load(saved_path + \"/CVA_analysis/Results_all/{}_FC.npy\".format(s), allow_pickle=True)\n",
    "        [HR_EM_all, HR_EM, SD_RR_EM_all, RMSSD_EM, MAE, SdAE, ARE] = np.load(saved_path + \"/CVA_analysis/Results_all/{}_EM.npy\".format(s), allow_pickle=True)\n",
    "    except:\n",
    "        continue\n",
    "\n",
    "    RMSSD_EM_ba.append(RMSSD_EM)\n",
    "    RMSSD_FC_ba.append(RMSSD_FC)\n",
    "\n",
    "RMSSD_EM_ba = np.array(RMSSD_EM_ba).reshape([-1])\n",
    "RMSSD_FC_ba = np.array(RMSSD_FC_ba).reshape([-1])\n",
    "\n",
    "lies_in = np.sum(((RMSSD_EM_ba-RMSSD_FC_ba)<70) & ((RMSSD_EM_ba-RMSSD_FC_ba)>-70))/np.size(RMSSD_EM_ba)\n",
    "\n",
    "fig = plt.figure()\n",
    "ax = fig.add_subplot(1,1,1)\n",
    "pingouin.plot_blandaltman(RMSSD_EM_ba, RMSSD_FC_ba, confidence=0.1, ax=ax)\n",
    "plt.axhline(70, xmin=0, xmax=1, c=\"g\", linestyle=\"-.\")\n",
    "plt.axhline(-70, xmin=0, xmax=1, c=\"g\", linestyle=\"-.\")\n",
    "plt.text(0.5, 0.1, '{} % of the data lies inside of the boundaries.'.format(int(lies_in*100)), horizontalalignment='center', verticalalignment='center', transform=ax.transAxes, fontsize=10)\n",
    "plt.title(\"RMSSD (msec)\")\n",
    "plt.ylabel(\"Difference RMSSD (EM - FC)\")\n",
    "plt.xlabel(\"Mean RMSSD (EM,FC)\")\n",
    "\n",
    "SD = np.std((RMSSD_EM_ba-RMSSD_FC_ba))\n",
    "BAr = SD*1.96/(np.mean((RMSSD_EM_ba+RMSSD_FC_ba)/2))\n",
    "print(BAr)\n",
    "\n",
    "plt.text(0.75, 0.9, 'BAr : {:.2f}'.format(BAr), horizontalalignment='center', verticalalignment='center', transform=ax.transAxes, fontsize=10)\n",
    "plt.savefig(saved_path + \"/CVA_analysis/Figures/BA_RMSSD.svg\", format=\"svg\")"
   ],
   "outputs": [
    {
     "output_type": "display_data",
     "data": {
      "text/plain": [
       "Canvas(toolbar=Toolbar(toolitems=[('Home', 'Reset original view', 'home', 'home'), ('Back', 'Back to previous …"
      ],
      "application/vnd.jupyter.widget-view+json": {
       "model_id": "785cb1a838ee4c8bba8a469615ecfddc",
       "version_major": 2,
       "version_minor": 0
      }
     },
     "metadata": {}
    },
    {
     "output_type": "stream",
     "name": "stdout",
     "text": [
      "0.633082149938286\n"
     ]
    }
   ],
   "metadata": {}
  },
  {
   "cell_type": "markdown",
   "source": [
    "# EDA Analysis"
   ],
   "metadata": {}
  },
  {
   "cell_type": "markdown",
   "source": [
    "## Visual inspection of EDA data from Emotibit vs Flexcomp"
   ],
   "metadata": {}
  },
  {
   "cell_type": "code",
   "execution_count": null,
   "source": [
    "for part in range(7,31):\n",
    "    for exp in range(1,3):\n",
    "        s = \"P{}-{}\".format(part, exp)\n",
    "        try:\n",
    "            df = pd.read_pickle(saved_path + \"/CVA_analysis/Dataframe/{}.pkl\".format(s))\n",
    "        except:\n",
    "            continue\n",
    "        \n",
    "        EDA_FC = df[[\"EDA_FC_SMO\"]][df[\"EDA_FC_SMO\"].notna()].values[1:-250]\n",
    "        EDA_EM = df[[\"EDA_EM_SMO\"]][df[\"EDA_EM_SMO\"].notna()].values[1:-250]\n",
    "\n",
    "        EDA_FC[0,0] += 0.0000001\n",
    "        \n",
    "        EDA_FC_norm_dt = normalize_detrend(EDA_FC)\n",
    "        EDA_EM_norm_dt = normalize_detrend(EDA_EM)\n",
    "        \n",
    "        plt.figure()\n",
    "        plt.title(s)\n",
    "        plt.plot(EDA_FC_norm_dt)\n",
    "        plt.plot(EDA_EM_norm_dt)"
   ],
   "outputs": [],
   "metadata": {
    "collapsed": true,
    "jupyter": {
     "outputs_hidden": true
    },
    "tags": []
   }
  },
  {
   "cell_type": "code",
   "execution_count": 64,
   "source": [
    "list_EDA_approved = [\"P7-1\",\n",
    "                     \"P7-2\",\n",
    "                     \"P10-1\",\n",
    "                     \"P10-2\",\n",
    "                     \"P11-1\",\n",
    "                     \"P11-2\",\n",
    "                     \"P13-1\",\n",
    "                     \"P13-2\",\n",
    "                     \"P14-1\",\n",
    "                     \"P14-2\",\n",
    "                     \"P17-1\",\n",
    "                     \"P17-2\",\n",
    "                     \"P18-1\",\n",
    "                     \"P19-2\",\n",
    "                     \"P20-1\",\n",
    "                     \"P20-2\",\n",
    "                     \"P21-1\",\n",
    "                     \"P21-2\",\n",
    "                     \"P22-1\",\n",
    "                     \"P22-2\",\n",
    "                     \"P23-1\",\n",
    "                     \"P23-2\",\n",
    "                     \"P24-1\",\n",
    "                     \"P24-2\",\n",
    "                     \"P25-1\",\n",
    "                     \"P25-2\",\n",
    "                     \"P26-1\",\n",
    "                     \"P26-2\",\n",
    "                     \"P28-1\",\n",
    "                     \"P28-2\",\n",
    "                     \"P29-1\",\n",
    "                     \"P29-2\",\n",
    "                     \"P30-1\",\n",
    "                     \"P30-2\"]"
   ],
   "outputs": [],
   "metadata": {}
  },
  {
   "cell_type": "code",
   "execution_count": 65,
   "source": [
    "eda_corrcoef = []\n",
    "\n",
    "for s in list_EDA_approved:\n",
    "    df = pd.read_pickle(saved_path + \"/CVA_analysis/Dataframe/{}.pkl\".format(s))\n",
    "    \n",
    "    EDA_FC = df[[\"EDA_FC_SMO\"]][df[\"EDA_FC_SMO\"].notna()].values[100:-250]\n",
    "    EDA_EM = df[[\"EDA_EM_SMO\"]][df[\"EDA_EM_SMO\"].notna()].values[100:-250]\n",
    "    \n",
    "    EDA_FC_norm_dt = normalize_detrend(EDA_FC)\n",
    "    EDA_EM_norm_dt = normalize_detrend(EDA_EM)\n",
    "    \n",
    "    c = cross_corr_lags(EDA_EM_norm_dt, EDA_FC_norm_dt, lags=100) # We selected a larger lags because data are not well synchronized\n",
    "    \n",
    "    eda_corrcoef.append(c)\n",
    "    \n",
    "print(\"The average value of the correlation is {}\".format(np.mean(eda_corrcoef)))\n",
    "    \n",
    "plt.figure(figsize=(12,4))\n",
    "plt.hist(eda_corrcoef, bins=[0, 0.2, 0.4, 0.6, 0.8, 1], weights=np.ones(len(eda_corrcoef))/len(eda_corrcoef))\n",
    "plt.gca().yaxis.set_major_formatter(PercentFormatter(1))\n",
    "plt.ylim([0,1])\n",
    "plt.xlabel(\"Cross correlation coefficient\")\n",
    "plt.ylabel(\"Percentage of participants\")\n",
    "plt.savefig(saved_path + \"/CVA_analysis/Figures/Hist_Corr.svg\", format=\"svg\")"
   ],
   "outputs": [
    {
     "output_type": "stream",
     "name": "stdout",
     "text": [
      "67 0.9399800964167473\n",
      "61 0.922524342068039\n",
      "38 0.8534261011980706\n",
      "42 0.8284050812429699\n",
      "37 0.9885643100815023\n",
      "31 0.9811274327147749\n",
      "100 0.9244503144178703\n",
      "48 0.8063129729226468\n",
      "28 0.9643359983832788\n",
      "3 0.9809361483487499\n",
      "0 0.656543394007799\n",
      "28 0.8517863606203321\n",
      "38 0.9266533567288486\n",
      "15 0.7015298144501937\n",
      "-3 0.9943505592285837\n",
      "-1 0.9933892304423353\n",
      "36 0.9851616458883331\n",
      "7 0.9752746521082362\n",
      "8 0.42127835934399727\n",
      "7 0.947833372164087\n",
      "-4 0.9385464472068509\n",
      "-11 0.9644805681321795\n",
      "5 0.9569346588370555\n",
      "10 0.9004090103805399\n",
      "-9 0.9594754450908732\n",
      "-18 0.9602568397678171\n",
      "-6 0.573322633317157\n",
      "-7 0.9725099719213568\n",
      "4 0.8985310163730442\n",
      "7 0.39522746656439306\n",
      "-100 0.9307621742971968\n",
      "-63 0.8534016108518864\n",
      "10 0.8942146681985109\n",
      "19 0.8748358144759062\n",
      "La valeur moyenne de la corrélation est de 0.8740227020056518\n"
     ]
    },
    {
     "output_type": "display_data",
     "data": {
      "text/plain": [
       "Canvas(toolbar=Toolbar(toolitems=[('Home', 'Reset original view', 'home', 'home'), ('Back', 'Back to previous …"
      ],
      "application/vnd.jupyter.widget-view+json": {
       "model_id": "9fe950c5b2384d24bdacedf01edd804e",
       "version_major": 2,
       "version_minor": 0
      }
     },
     "metadata": {}
    }
   ],
   "metadata": {}
  },
  {
   "cell_type": "code",
   "execution_count": null,
   "source": [
    "for s in list_EDA_approved:\n",
    "\n",
    "    df = pd.read_pickle(saved_path + \"/CVA_analysis/Dataframe/{}.pkl\".format(s))\n",
    "\n",
    "    print(saved_path + \"/CVA_analysis/Dataframe/{}.pkl\".format(s))\n",
    "\n",
    "    EDA_FC = df[[\"EDA_FC_NORM\"]][df[\"EDA_FC_NORM\"].notna()].values[100:-250]\n",
    "    EDA_EM = df[[\"EDA_EM_NORM\"]][df[\"EDA_EM_NORM\"].notna()].values[100:-250]\n",
    "    \n",
    "    EDA_FC = df[[\"EDA_FC_SMO\"]][df[\"EDA_FC_SMO\"].notna()].values[100:-250]\n",
    "    EDA_EM = df[[\"EDA_EM_SMO\"]][df[\"EDA_EM_SMO\"].notna()].values[100:-250]\n",
    "    \n",
    "    plt.figure()\n",
    "    plt.title(s)\n",
    "    plt.plot(EDA_FC)\n",
    "    plt.plot(EDA_EM)"
   ],
   "outputs": [],
   "metadata": {
    "collapsed": true,
    "jupyter": {
     "outputs_hidden": true
    },
    "tags": []
   }
  },
  {
   "cell_type": "markdown",
   "source": [
    "## Example of best and worst EDA collection"
   ],
   "metadata": {}
  },
  {
   "cell_type": "code",
   "execution_count": 67,
   "source": [
    "s = \"P20-1\"\n",
    "    \n",
    "df = pd.read_pickle(saved_path + \"/CVA_analysis/Dataframe/{}.pkl\".format(s))\n",
    "\n",
    "print(saved_path + \"/CVA_analysis/Dataframe/{}.pkl\".format(s))\n",
    "\n",
    "EDA_FC = df[[\"EDA_FC_NORM\",\"Time\"]][df[\"EDA_FC_NORM\"].notna()].values[100:-250]\n",
    "EDA_EM = df[[\"EDA_EM_NORM\",\"Time\"]][df[\"EDA_EM_NORM\"].notna()].values[100:-250]\n",
    "\n",
    "EDA_FC = df[[\"EDA_FC_SMO\",\"Time\"]][df[\"EDA_FC_SMO\"].notna()].values[100:-250]\n",
    "EDA_EM = df[[\"EDA_EM_SMO\",\"Time\"]][df[\"EDA_EM_SMO\"].notna()].values[100:-250]\n",
    "\n",
    "plt.figure()\n",
    "plt.title(\"Highest cross-correlation (0.99)\")\n",
    "plt.plot(EDA_FC[:,1], EDA_FC[:,0])\n",
    "plt.plot(EDA_EM[:,1], EDA_EM[:,0])\n",
    "plt.legend([\"Reference device\", \"Emotibit device\"])\n",
    "plt.ylim([0,4])\n",
    "plt.xlabel(\"Time (s)\")\n",
    "plt.ylabel(\"Skin conductance (µS)\")\n",
    "plt.savefig(saved_path + \"/CVA_analysis/Figures/Highest_Corr.svg\", format=\"svg\")\n",
    "\n",
    "s = \"P28-2\"\n",
    "    \n",
    "df = pd.read_pickle(saved_path + \"/CVA_analysis/Dataframe/{}.pkl\".format(s))\n",
    "\n",
    "print(saved_path + \"/CVA_analysis/Dataframe/{}.pkl\".format(s))\n",
    "\n",
    "EDA_FC = df[[\"EDA_FC_NORM\",\"Time\"]][df[\"EDA_FC_NORM\"].notna()].values[100:-250]\n",
    "EDA_EM = df[[\"EDA_EM_NORM\",\"Time\"]][df[\"EDA_EM_NORM\"].notna()].values[100:-250]\n",
    "\n",
    "EDA_FC = df[[\"EDA_FC_SMO\",\"Time\"]][df[\"EDA_FC_SMO\"].notna()].values[100:-250]\n",
    "EDA_EM = df[[\"EDA_EM_SMO\",\"Time\"]][df[\"EDA_EM_SMO\"].notna()].values[100:-250]\n",
    "\n",
    "plt.figure()\n",
    "plt.title(\"Lowest cross-correlation (0.42)\")\n",
    "plt.plot(EDA_FC[:,1], EDA_FC[:,0])\n",
    "plt.plot(EDA_EM[:,1], EDA_EM[:,0])\n",
    "plt.legend([\"Reference device\", \"Emotibit device\"])\n",
    "plt.ylim([0,8])\n",
    "plt.xlabel(\"Time (s)\")\n",
    "plt.ylabel(\"Skin conductance (µS)\")\n",
    "plt.savefig(saved_path + \"/CVA_analysis/Figures/Lowest_Corr.svg\", format=\"svg\")\n"
   ],
   "outputs": [
    {
     "output_type": "stream",
     "name": "stdout",
     "text": [
      "./Result/CVA_analysis/Dataframe/P20-1.pkl\n"
     ]
    },
    {
     "output_type": "display_data",
     "data": {
      "text/plain": [
       "Canvas(toolbar=Toolbar(toolitems=[('Home', 'Reset original view', 'home', 'home'), ('Back', 'Back to previous …"
      ],
      "application/vnd.jupyter.widget-view+json": {
       "model_id": "45aab622c4ef440ba9873ce7e2f70940",
       "version_major": 2,
       "version_minor": 0
      }
     },
     "metadata": {}
    },
    {
     "output_type": "stream",
     "name": "stdout",
     "text": [
      "./Result/CVA_analysis/Dataframe/P28-2.pkl\n"
     ]
    },
    {
     "output_type": "display_data",
     "data": {
      "text/plain": [
       "Canvas(toolbar=Toolbar(toolitems=[('Home', 'Reset original view', 'home', 'home'), ('Back', 'Back to previous …"
      ],
      "application/vnd.jupyter.widget-view+json": {
       "model_id": "2385ea839bd248cb9a21750d56a19ed5",
       "version_major": 2,
       "version_minor": 0
      }
     },
     "metadata": {}
    }
   ],
   "metadata": {}
  },
  {
   "cell_type": "markdown",
   "source": [
    "# The remaining analysis of the EDA is done on Matlab with Ledalab"
   ],
   "metadata": {}
  },
  {
   "cell_type": "code",
   "execution_count": 74,
   "source": [
    "################################################\n",
    "# Conversion of EDA data into matlab files (.mat)\n",
    "################################################\n",
    "from scipy.io import savemat\n",
    "\n",
    "for p in list_EDA_approved:\n",
    "    try:\n",
    "        x = np.load(saved_path + \"/CVA_analysis/Dataframe/{}.pkl\".format(p), allow_pickle=True)\n",
    "    except:\n",
    "        continue\n",
    "        \n",
    "    fileinfo = {\"version\": 3.4900,\n",
    "                \"date\": [2021, 1, 26, 17, 12, 26.1370],\n",
    "                \"log\": []}\n",
    "\n",
    "    EDA = x[[\"EDA_FC_SMO\"]][x[\"EDA_FC_SMO\"].notna()].values[100:-250]\n",
    "    Time = x[[\"Time\"]][x[\"EDA_FC_SMO\"].notna()].values[100:-250]\n",
    "\n",
    "    event = {\"time\" : [],\n",
    "             \"nid\" : [],\n",
    "             \"name\" : [],\n",
    "             \"userdata\" : []}\n",
    "\n",
    "    data = {\"conductance\" : EDA,\n",
    "            \"time\" : Time,\n",
    "            \"timeoff\" : 0,\n",
    "            \"event\" : event}\n",
    "\n",
    "    mdic = {\"data\": data}\n",
    "\n",
    "    savemat(saved_path + \"/EDA_mat/DATA_{}_EDA_FC.mat\".format(p), mdic)\n",
    "    \n",
    "    EDA = x[[\"EDA_EM_SMO\"]][x[\"EDA_EM_SMO\"].notna()].values[100:-250]\n",
    "    Time = x[[\"Time\"]][x[\"EDA_EM_SMO\"].notna()].values[100:-250]\n",
    "\n",
    "    event = {\"time\" : [],\n",
    "             \"nid\" : [],\n",
    "             \"name\" : [],\n",
    "             \"userdata\" : []}\n",
    "\n",
    "    data = {\"conductance\" : EDA,\n",
    "            \"time\" : Time,\n",
    "            \"timeoff\" : 0,\n",
    "            \"event\" : event}\n",
    "\n",
    "    mdic = {\"data\": data}\n",
    "\n",
    "    savemat(saved_path + \"/EDA_mat/DATA_{}_EDA_EM.mat\".format(p), mdic)"
   ],
   "outputs": [],
   "metadata": {}
  },
  {
   "cell_type": "markdown",
   "source": [
    "## Steps to extract the number of SCRs and the amplitude of each SCR\n",
    "1. Copy the EDA_mat folder to the main Ledalab folder.\n",
    "2. Run the matlab command: Ledalab('Path to EDA_mat folder\\', 'open', 'mat', 'analyze', 'CDA')\n",
    "3. Rename the folder \"EDA_mat_analysis\" and copy the \"EDA_mat_analysis\" folder to the python environment. Analysis data is inside the same files given in input.\n",
    "\n",
    "Matlab instruction:\n",
    "Ledalab('Path to EDA_mat folder\\', 'open', 'mat', 'analyze', 'CDA')"
   ],
   "metadata": {}
  },
  {
   "cell_type": "markdown",
   "source": [
    "# Use Python to plot Bland-Altman graphes"
   ],
   "metadata": {}
  },
  {
   "cell_type": "code",
   "execution_count": 75,
   "source": [
    "import scipy\n",
    "\n",
    "SCL_EM = []\n",
    "SCL_FC = []\n",
    "\n",
    "for s in list_EDA_approved:\n",
    "    try:\n",
    "        df = pd.read_pickle(saved_path + \"/CVA_analysis/Dataframe/{}.pkl\".format(s))\n",
    "    except:\n",
    "        continue\n",
    "\n",
    "    EDA_FC = df[[\"EDA_FC_SMO\"]][df[\"EDA_FC_SMO\"].notna()].values[100:-250]\n",
    "    EDA_EM = df[[\"EDA_EM_SMO\"]][df[\"EDA_EM_SMO\"].notna()].values[100:-250]\n",
    "\n",
    "    SCL_EM.append(EDA_EM.mean())\n",
    "    SCL_FC.append(EDA_FC.mean())\n",
    "\n",
    "logSCL_EM = np.array(SCL_EM).reshape([-1])\n",
    "logSCL_FC = np.array(SCL_FC).reshape([-1])\n",
    "\n",
    "lies_in = np.sum(((logSCL_EM-logSCL_FC)<1.6) & ((logSCL_EM-logSCL_FC)>-1.6))/np.size(logSCL_EM)\n",
    "\n",
    "fig = plt.figure()\n",
    "ax = fig.add_subplot(1,1,1)\n",
    "pingouin.plot_blandaltman(logSCL_EM, logSCL_FC, confidence=0.1, ax=ax)\n",
    "plt.axhline(1.6, xmin=0, xmax=1, c=\"g\", linestyle=\"-.\")\n",
    "plt.axhline(-1.6, xmin=0, xmax=1, c=\"g\", linestyle=\"-.\")\n",
    "plt.text(0.5, 0.1, '{} % of the data lies inside of the boundaries.'.format(int(lies_in*100)), horizontalalignment='center', verticalalignment='center', transform=ax.transAxes, fontsize=10)\n",
    "plt.title(\"Mean SCL\")\n",
    "plt.ylabel(\"Difference SCL (EM - FC)\")\n",
    "plt.xlabel(\"Mean SCL (EM,FC)\")\n",
    "\n",
    "SD = np.std((logSCL_EM-logSCL_FC))\n",
    "BAr = SD*1.96/(np.mean((logSCL_EM+logSCL_FC)/2))\n",
    "print(BAr)\n",
    "plt.text(0.75, 0.9, 'BAr : {:.2f}'.format(BAr), horizontalalignment='center', verticalalignment='center', transform=ax.transAxes, fontsize=10)\n",
    "plt.savefig(saved_path + \"/CVA_analysis/Figures/BA_SCL.svg\", format=\"svg\")\n",
    "\n",
    "# Number of SCRs\n",
    "nSCR_EM = []\n",
    "nSCR_FC = []\n",
    "\n",
    "S_ampl_EM = []\n",
    "S_ampl_FC = []\n",
    "\n",
    "for s in list_EDA_approved:\n",
    "    try:\n",
    "        ana_em = scipy.io.loadmat(saved_path + \"/EDA_mat_analysis/DATA_{}_EDA_EM.mat\".format(s))\n",
    "        ana_fc = scipy.io.loadmat(saved_path + \"/EDA_mat_analysis/DATA_{}_EDA_FC.mat\".format(s))\n",
    "    except:\n",
    "        continue\n",
    "    \n",
    "    nSCR_EM.append(ana_em[\"analysis\"][\"amp\"][0,0].shape[1]/10)\n",
    "    nSCR_FC.append(ana_fc[\"analysis\"][\"amp\"][0,0].shape[1]/10)\n",
    "\n",
    "    S_ampl_EM.append(ana_em[\"analysis\"][\"amp\"][0,0].sum()/10)\n",
    "    S_ampl_FC.append(ana_fc[\"analysis\"][\"amp\"][0,0].sum()/10)\n",
    "    \n",
    "\n",
    "lognSCR_EM = np.array(nSCR_EM).reshape([-1])\n",
    "lognSCR_FC = np.array(nSCR_FC).reshape([-1])\n",
    "\n",
    "lies_in = np.sum(((lognSCR_EM-lognSCR_FC)<2.5) & ((lognSCR_EM-lognSCR_FC)>-2.5))/np.size(lognSCR_EM)\n",
    "\n",
    "fig = plt.figure()\n",
    "ax = fig.add_subplot(1,1,1)\n",
    "pingouin.plot_blandaltman(lognSCR_EM, lognSCR_FC, confidence=0.1, ax=ax)\n",
    "plt.axhline(2.5, xmin=0, xmax=1, c=\"g\", linestyle=\"-.\")\n",
    "plt.axhline(-2.5, xmin=0, xmax=1, c=\"g\", linestyle=\"-.\")\n",
    "plt.text(0.5, 0.1, '{} % of the data lies inside of the boundaries.'.format(int(lies_in*100)), horizontalalignment='center', verticalalignment='center', transform=ax.transAxes, fontsize=10)\n",
    "plt.title(\"Mean noSCRs\")\n",
    "plt.ylabel(\"Difference noSCRs (EM - FC)\")\n",
    "plt.xlabel(\"Mean noSCRs (EM,FC)\")\n",
    "\n",
    "SD = np.std((lognSCR_EM-lognSCR_FC))\n",
    "BAr = SD*1.96/(np.mean((lognSCR_EM+lognSCR_FC)/2))\n",
    "print(BAr)\n",
    "plt.text(0.75, 0.9, 'BAr : {:.2f}'.format(BAr), horizontalalignment='center', verticalalignment='center', transform=ax.transAxes, fontsize=10)\n",
    "plt.savefig(saved_path + \"/CVA_analysis/Figures/BA_noSCRs.svg\", format=\"svg\")\n",
    "\n",
    "logS_ampl_EM = np.array(S_ampl_EM).reshape([-1])\n",
    "logS_ampl_FC = np.array(S_ampl_FC).reshape([-1])\n",
    "\n",
    "lies_in = np.sum(((logS_ampl_EM-logS_ampl_FC)<0.6) & ((logS_ampl_EM-logS_ampl_FC)>-0.6))/np.size(logS_ampl_EM)\n",
    "\n",
    "fig = plt.figure()\n",
    "ax = fig.add_subplot(1,1,1)\n",
    "pingouin.plot_blandaltman(logS_ampl_EM, logS_ampl_FC, confidence=0.1, ax=ax)\n",
    "plt.axhline(0.6, xmin=0, xmax=1, c=\"g\", linestyle=\"-.\")\n",
    "plt.axhline(-0.6, xmin=0, xmax=1, c=\"g\", linestyle=\"-.\")\n",
    "plt.text(0.5, 0.1, '{} % of the data lies inside of the boundaries.'.format(int(lies_in*100)), horizontalalignment='center', verticalalignment='center', transform=ax.transAxes, fontsize=10)\n",
    "plt.title(\"Mean S-AMPL\")\n",
    "plt.ylabel(\"Difference S-AMPL (EM - FC)\")\n",
    "plt.xlabel(\"Mean S-AMPL (EM,FC)\")\n",
    "\n",
    "SD = np.std((logS_ampl_EM-logS_ampl_FC))\n",
    "BAr = SD*1.96/(np.mean((logS_ampl_EM+logS_ampl_FC)/2))\n",
    "print(BAr)\n",
    "plt.text(0.75, 0.85, 'BAr : {:.2f}'.format(BAr), horizontalalignment='center', verticalalignment='center', transform=ax.transAxes, fontsize=10)\n",
    "plt.savefig(saved_path + \"/CVA_analysis/Figures/BA_S-AMPL.svg\", format=\"svg\")"
   ],
   "outputs": [
    {
     "output_type": "display_data",
     "data": {
      "text/plain": [
       "Canvas(toolbar=Toolbar(toolitems=[('Home', 'Reset original view', 'home', 'home'), ('Back', 'Back to previous …"
      ],
      "application/vnd.jupyter.widget-view+json": {
       "model_id": "a7082945a538450db2b3f2b5291d9311",
       "version_major": 2,
       "version_minor": 0
      }
     },
     "metadata": {}
    },
    {
     "output_type": "stream",
     "name": "stdout",
     "text": [
      "1.0066681676078535\n"
     ]
    },
    {
     "output_type": "display_data",
     "data": {
      "text/plain": [
       "Canvas(toolbar=Toolbar(toolitems=[('Home', 'Reset original view', 'home', 'home'), ('Back', 'Back to previous …"
      ],
      "application/vnd.jupyter.widget-view+json": {
       "model_id": "59c66d5d0e374c8e9bea0981ec27939b",
       "version_major": 2,
       "version_minor": 0
      }
     },
     "metadata": {}
    },
    {
     "output_type": "stream",
     "name": "stdout",
     "text": [
      "0.5184027091629658\n"
     ]
    },
    {
     "output_type": "display_data",
     "data": {
      "text/plain": [
       "Canvas(toolbar=Toolbar(toolitems=[('Home', 'Reset original view', 'home', 'home'), ('Back', 'Back to previous …"
      ],
      "application/vnd.jupyter.widget-view+json": {
       "model_id": "4f5ffa0e59d74dbd8a9f380eba3d2332",
       "version_major": 2,
       "version_minor": 0
      }
     },
     "metadata": {}
    },
    {
     "output_type": "stream",
     "name": "stdout",
     "text": [
      "1.8558382115571397\n"
     ]
    }
   ],
   "metadata": {}
  },
  {
   "cell_type": "code",
   "execution_count": null,
   "source": [],
   "outputs": [],
   "metadata": {}
  }
 ],
 "metadata": {
  "kernelspec": {
   "display_name": "Python 3",
   "language": "python",
   "name": "python3"
  },
  "language_info": {
   "codemirror_mode": {
    "name": "ipython",
    "version": 3
   },
   "file_extension": ".py",
   "mimetype": "text/x-python",
   "name": "python",
   "nbconvert_exporter": "python",
   "pygments_lexer": "ipython3",
   "version": "3.6.9"
  },
  "toc-autonumbering": true,
  "toc-showcode": true,
  "toc-showmarkdowntxt": true
 },
 "nbformat": 4,
 "nbformat_minor": 4
}